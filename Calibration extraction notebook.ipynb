{
 "cells": [
  {
   "cell_type": "code",
   "execution_count": 1,
   "metadata": {},
   "outputs": [
    {
     "name": "stderr",
     "output_type": "stream",
     "text": [
      "WARNING:silx.opencl.common:Unable to import pyOpenCl. Please install it from: http://pypi.python.org/pypi/pyopencl\n"
     ]
    }
   ],
   "source": [
    "%matplotlib qt\n",
    "\n",
    "import hyperspy.api as hs\n",
    "import numpy as np\n",
    "import os\n",
    "from pathlib import Path\n",
    "from tabulate import tabulate\n",
    "import matplotlib.pyplot as plt\n",
    "import pandas as pd\n",
    "import seaborn as sns\n",
    "from math import sqrt\n",
    "import datetime as dt\n",
    "import mib2hspy as m2h\n"
   ]
  },
  {
   "cell_type": "code",
   "execution_count": 2,
   "metadata": {},
   "outputs": [
    {
     "name": "stdout",
     "output_type": "stream",
     "text": [
      "Cannot calculate magnification of nan: 1.0 with scale 1.0, could not recognize units <undefined>.\n",
      "strptime() argument 1 must be str, not None\n",
      "strptime() argument 1 must be str, not None\n"
     ]
    },
    {
     "data": {
      "text/plain": "   Label  Nominal Cameralength (cm)  Cameralength (cm)        Date  \\\n0    IMG                        NaN                NaN  2020-11-20   \n33   IMG                        NaN                NaN  2020-11-20   \n34   IMG                        NaN                NaN  2020-11-20   \n35   IMG                        NaN                NaN  2020-11-20   \n36   IMG                        NaN                NaN  2020-11-20   \n..   ...                        ...                ...         ...   \n63  DIFF                       15.0          28.162552  2020-11-23   \n62  DIFF                       80.0         140.662242  2020-11-23   \n87  DIFF                       80.0         112.704457  2020-11-23   \n74  DIFF                       25.0          44.749680  2020-11-23   \n88  DIFF                        8.0          13.405633  2020-11-23   \n\n    Scale (1/Å)  Acceleration Voltage (V) Mag mode    Camera Microscope  \\\n0           NaN                  200000.0    SAMAG  US1000 1        NaN   \n33          NaN                  200000.0    SAMAG  US1000 1      2100F   \n34          NaN                  200000.0     MAG1  US1000 1      2100F   \n35          NaN                  200000.0     MAG1  US1000 1      2100F   \n36          NaN                  200000.0     MAG1  US1000 1      2100F   \n..          ...                       ...      ...       ...        ...   \n63     0.007787                  200000.0    SAEDP    Merlin      2100F   \n62     0.001559                  200000.0    SAEDP    Merlin      2100F   \n87     0.000495                  200000.0     DIFF  US1000 1      2100F   \n74     0.004901                  200000.0    SAEDP    Merlin      2100F   \n88     0.004164                  200000.0     DIFF  US1000 1      2100F   \n\n    Scale (1/nm)  Scale (mrad)  Scale (deg)  Nominal Magnification ()  \\\n0            NaN           NaN          NaN                    8000.0   \n33           NaN           NaN          NaN                  120000.0   \n34           NaN           NaN          NaN                   20000.0   \n35           NaN           NaN          NaN                 1000000.0   \n36           NaN           NaN          NaN                  200000.0   \n..           ...           ...          ...                       ...   \n63      0.077871      0.195295     0.011190                       NaN   \n62      0.015591      0.039101     0.002240                       NaN   \n87      0.004953      0.012422     0.000712                       NaN   \n74      0.049007      0.122906     0.007042                       NaN   \n88      0.041641      0.104434     0.005984                       NaN   \n\n    Magnification ()  Scale (nm)  Scale (µm) Mode  \n0       9.416526e+03         NaN    0.001487  TEM  \n33      1.501283e+05    0.093254         NaN  TEM  \n34      2.627746e+04    0.532776         NaN  TEM  \n35      1.412588e+06    0.009911         NaN  TEM  \n36      2.733791e+05    0.051211         NaN  TEM  \n..               ...         ...         ...  ...  \n63               NaN         NaN         NaN  NaN  \n62               NaN         NaN         NaN  NaN  \n87               NaN         NaN         NaN  TEM  \n74               NaN         NaN         NaN  NaN  \n88               NaN         NaN         NaN  TEM  \n\n[89 rows x 17 columns]",
      "text/html": "<div>\n<style scoped>\n    .dataframe tbody tr th:only-of-type {\n        vertical-align: middle;\n    }\n\n    .dataframe tbody tr th {\n        vertical-align: top;\n    }\n\n    .dataframe thead th {\n        text-align: right;\n    }\n</style>\n<table border=\"1\" class=\"dataframe\">\n  <thead>\n    <tr style=\"text-align: right;\">\n      <th></th>\n      <th>Label</th>\n      <th>Nominal Cameralength (cm)</th>\n      <th>Cameralength (cm)</th>\n      <th>Date</th>\n      <th>Scale (1/Å)</th>\n      <th>Acceleration Voltage (V)</th>\n      <th>Mag mode</th>\n      <th>Camera</th>\n      <th>Microscope</th>\n      <th>Scale (1/nm)</th>\n      <th>Scale (mrad)</th>\n      <th>Scale (deg)</th>\n      <th>Nominal Magnification ()</th>\n      <th>Magnification ()</th>\n      <th>Scale (nm)</th>\n      <th>Scale (µm)</th>\n      <th>Mode</th>\n    </tr>\n  </thead>\n  <tbody>\n    <tr>\n      <th>0</th>\n      <td>IMG</td>\n      <td>NaN</td>\n      <td>NaN</td>\n      <td>2020-11-20</td>\n      <td>NaN</td>\n      <td>200000.0</td>\n      <td>SAMAG</td>\n      <td>US1000 1</td>\n      <td>NaN</td>\n      <td>NaN</td>\n      <td>NaN</td>\n      <td>NaN</td>\n      <td>8000.0</td>\n      <td>9.416526e+03</td>\n      <td>NaN</td>\n      <td>0.001487</td>\n      <td>TEM</td>\n    </tr>\n    <tr>\n      <th>33</th>\n      <td>IMG</td>\n      <td>NaN</td>\n      <td>NaN</td>\n      <td>2020-11-20</td>\n      <td>NaN</td>\n      <td>200000.0</td>\n      <td>SAMAG</td>\n      <td>US1000 1</td>\n      <td>2100F</td>\n      <td>NaN</td>\n      <td>NaN</td>\n      <td>NaN</td>\n      <td>120000.0</td>\n      <td>1.501283e+05</td>\n      <td>0.093254</td>\n      <td>NaN</td>\n      <td>TEM</td>\n    </tr>\n    <tr>\n      <th>34</th>\n      <td>IMG</td>\n      <td>NaN</td>\n      <td>NaN</td>\n      <td>2020-11-20</td>\n      <td>NaN</td>\n      <td>200000.0</td>\n      <td>MAG1</td>\n      <td>US1000 1</td>\n      <td>2100F</td>\n      <td>NaN</td>\n      <td>NaN</td>\n      <td>NaN</td>\n      <td>20000.0</td>\n      <td>2.627746e+04</td>\n      <td>0.532776</td>\n      <td>NaN</td>\n      <td>TEM</td>\n    </tr>\n    <tr>\n      <th>35</th>\n      <td>IMG</td>\n      <td>NaN</td>\n      <td>NaN</td>\n      <td>2020-11-20</td>\n      <td>NaN</td>\n      <td>200000.0</td>\n      <td>MAG1</td>\n      <td>US1000 1</td>\n      <td>2100F</td>\n      <td>NaN</td>\n      <td>NaN</td>\n      <td>NaN</td>\n      <td>1000000.0</td>\n      <td>1.412588e+06</td>\n      <td>0.009911</td>\n      <td>NaN</td>\n      <td>TEM</td>\n    </tr>\n    <tr>\n      <th>36</th>\n      <td>IMG</td>\n      <td>NaN</td>\n      <td>NaN</td>\n      <td>2020-11-20</td>\n      <td>NaN</td>\n      <td>200000.0</td>\n      <td>MAG1</td>\n      <td>US1000 1</td>\n      <td>2100F</td>\n      <td>NaN</td>\n      <td>NaN</td>\n      <td>NaN</td>\n      <td>200000.0</td>\n      <td>2.733791e+05</td>\n      <td>0.051211</td>\n      <td>NaN</td>\n      <td>TEM</td>\n    </tr>\n    <tr>\n      <th>...</th>\n      <td>...</td>\n      <td>...</td>\n      <td>...</td>\n      <td>...</td>\n      <td>...</td>\n      <td>...</td>\n      <td>...</td>\n      <td>...</td>\n      <td>...</td>\n      <td>...</td>\n      <td>...</td>\n      <td>...</td>\n      <td>...</td>\n      <td>...</td>\n      <td>...</td>\n      <td>...</td>\n      <td>...</td>\n    </tr>\n    <tr>\n      <th>63</th>\n      <td>DIFF</td>\n      <td>15.0</td>\n      <td>28.162552</td>\n      <td>2020-11-23</td>\n      <td>0.007787</td>\n      <td>200000.0</td>\n      <td>SAEDP</td>\n      <td>Merlin</td>\n      <td>2100F</td>\n      <td>0.077871</td>\n      <td>0.195295</td>\n      <td>0.011190</td>\n      <td>NaN</td>\n      <td>NaN</td>\n      <td>NaN</td>\n      <td>NaN</td>\n      <td>NaN</td>\n    </tr>\n    <tr>\n      <th>62</th>\n      <td>DIFF</td>\n      <td>80.0</td>\n      <td>140.662242</td>\n      <td>2020-11-23</td>\n      <td>0.001559</td>\n      <td>200000.0</td>\n      <td>SAEDP</td>\n      <td>Merlin</td>\n      <td>2100F</td>\n      <td>0.015591</td>\n      <td>0.039101</td>\n      <td>0.002240</td>\n      <td>NaN</td>\n      <td>NaN</td>\n      <td>NaN</td>\n      <td>NaN</td>\n      <td>NaN</td>\n    </tr>\n    <tr>\n      <th>87</th>\n      <td>DIFF</td>\n      <td>80.0</td>\n      <td>112.704457</td>\n      <td>2020-11-23</td>\n      <td>0.000495</td>\n      <td>200000.0</td>\n      <td>DIFF</td>\n      <td>US1000 1</td>\n      <td>2100F</td>\n      <td>0.004953</td>\n      <td>0.012422</td>\n      <td>0.000712</td>\n      <td>NaN</td>\n      <td>NaN</td>\n      <td>NaN</td>\n      <td>NaN</td>\n      <td>TEM</td>\n    </tr>\n    <tr>\n      <th>74</th>\n      <td>DIFF</td>\n      <td>25.0</td>\n      <td>44.749680</td>\n      <td>2020-11-23</td>\n      <td>0.004901</td>\n      <td>200000.0</td>\n      <td>SAEDP</td>\n      <td>Merlin</td>\n      <td>2100F</td>\n      <td>0.049007</td>\n      <td>0.122906</td>\n      <td>0.007042</td>\n      <td>NaN</td>\n      <td>NaN</td>\n      <td>NaN</td>\n      <td>NaN</td>\n      <td>NaN</td>\n    </tr>\n    <tr>\n      <th>88</th>\n      <td>DIFF</td>\n      <td>8.0</td>\n      <td>13.405633</td>\n      <td>2020-11-23</td>\n      <td>0.004164</td>\n      <td>200000.0</td>\n      <td>DIFF</td>\n      <td>US1000 1</td>\n      <td>2100F</td>\n      <td>0.041641</td>\n      <td>0.104434</td>\n      <td>0.005984</td>\n      <td>NaN</td>\n      <td>NaN</td>\n      <td>NaN</td>\n      <td>NaN</td>\n      <td>TEM</td>\n    </tr>\n  </tbody>\n</table>\n<p>89 rows × 17 columns</p>\n</div>"
     },
     "execution_count": 2,
     "metadata": {},
     "output_type": "execute_result"
    }
   ],
   "source": [
    "filetypes = ['.hspy', '.dm4']\n",
    "directories = [\n",
    "    Path(r'C:\\Users\\emilc\\OneDrive - NTNU\\NORTEM\\Calibrations\\2100F\\Merlin\\2020_11_21_TEDPELLA673'),\n",
    "    Path(r'C:\\Users\\emilc\\OneDrive - NTNU\\NORTEM\\Calibrations\\2100F\\Ultrascan\\2020_11_20_TED_PELLA_673'),\n",
    "    Path(r'C:\\Users\\emilc\\OneDrive - NTNU\\NORTEM\\Calibrations\\2100F\\Ultrascan\\2020_11_23_TED_PELLA_673')\n",
    "]\n",
    "calibrations = m2h.CalibrationList()\n",
    "for directory in directories:\n",
    "    for filename in os.listdir(directory):\n",
    "        if any([filename.endswith(filetype) for filetype in filetypes]):\n",
    "            signal = hs.load(str(directory/filename), lazy=True)\n",
    "            try:\n",
    "                if '.dm' in filename:\n",
    "                    calibration = m2h.get_calibration_from_GMS(signal)\n",
    "                elif '.hspy' in filename:\n",
    "                    calibration = m2h.get_calibration_from_MERLIN(signal)\n",
    "                else:\n",
    "                    print('Did not load {}'.format(directory/filename))\n",
    "            except Exception as e:\n",
    "                print(e)\n",
    "                #print(signal)\n",
    "                #print(signal.metadata)\n",
    "                #print(signal.original_metadata)\n",
    "            else:\n",
    "                calibrations+= calibration\n",
    "calibrations.dataframe\n",
    "#print(tabulate(calibrations.sort_values(by=['Mag.']), headers = calibrations.columns, floatfmt=['.0f', 's', '.0f', '.2f', '.3g', 's', '.3g', 's', '.0f', 's'], showindex=False))"
   ]
  },
  {
   "cell_type": "code",
   "execution_count": 5,
   "metadata": {},
   "outputs": [
    {
     "data": {
      "text/plain": "   Label  Nominal Cameralength (cm)  Cameralength (cm)        Date  \\\n77  DIFF                        8.0          16.202673  2020-11-23   \n78  DIFF                       20.0          36.141596  2020-11-23   \n79  DIFF                       40.0          56.994005  2020-11-23   \n80  DIFF                      100.0         143.222774  2020-11-23   \n83  DIFF                       10.0          19.642334  2020-11-23   \n82  DIFF                      200.0         278.839145  2020-11-23   \n85  DIFF                       60.0          86.050826  2020-11-23   \n86  DIFF                      150.0         217.153190  2020-11-23   \n76  DIFF                       25.0          35.922279  2020-11-23   \n81  DIFF                       60.0         107.278756  2020-11-23   \n75  DIFF                       12.0          22.952731  2020-11-23   \n68  DIFF                       10.0          15.853966  2020-11-23   \n73  DIFF                       40.0          70.331121  2020-11-23   \n72  DIFF                      120.0         172.906252  2020-11-23   \n71  DIFF                       30.0          53.443086  2020-11-23   \n70  DIFF                       20.0          29.018780  2020-11-23   \n69  DIFF                       50.0          71.403049  2020-11-23   \n67  DIFF                       15.0          22.476508  2020-11-23   \n66  DIFF                       12.0          18.382575  2020-11-23   \n65  DIFF                       50.0          88.707027  2020-11-23   \n64  DIFF                       30.0          43.387688  2020-11-23   \n63  DIFF                       15.0          28.162552  2020-11-23   \n62  DIFF                       80.0         140.662242  2020-11-23   \n87  DIFF                       80.0         112.704457  2020-11-23   \n74  DIFF                       25.0          44.749680  2020-11-23   \n88  DIFF                        8.0          13.405633  2020-11-23   \n\n    Scale (1/Å)  Acceleration Voltage (V) Mag mode    Camera Microscope  \\\n77     0.013535                  200000.0    SAEDP    Merlin      2100F   \n78     0.006068                  200000.0    SAEDP    Merlin      2100F   \n79     0.000979                  200000.0     DIFF  US1000 1      2100F   \n80     0.000390                  200000.0     DIFF  US1000 1      2100F   \n83     0.011165                  200000.0    SAEDP    Merlin      2100F   \n82     0.000200                  200000.0     DIFF  US1000 1      2100F   \n85     0.000649                  200000.0     DIFF  US1000 1      2100F   \n86     0.000257                  200000.0     DIFF  US1000 1      2100F   \n76     0.001554                  200000.0     DIFF  US1000 1      2100F   \n81     0.002044                  200000.0    SAEDP    Merlin      2100F   \n75     0.009555                  200000.0    SAEDP    Merlin      2100F   \n68     0.003521                  200000.0     DIFF  US1000 1      2100F   \n73     0.003118                  200000.0    SAEDP    Merlin      2100F   \n72     0.000323                  200000.0     DIFF  US1000 1      2100F   \n71     0.004104                  200000.0    SAEDP    Merlin      2100F   \n70     0.001924                  200000.0     DIFF  US1000 1      2100F   \n69     0.000782                  200000.0     DIFF  US1000 1      2100F   \n67     0.002484                  200000.0     DIFF  US1000 1      2100F   \n66     0.003037                  200000.0     DIFF  US1000 1      2100F   \n65     0.002472                  200000.0    SAEDP    Merlin      2100F   \n64     0.001287                  200000.0     DIFF  US1000 1      2100F   \n63     0.007787                  200000.0    SAEDP    Merlin      2100F   \n62     0.001559                  200000.0    SAEDP    Merlin      2100F   \n87     0.000495                  200000.0     DIFF  US1000 1      2100F   \n74     0.004901                  200000.0    SAEDP    Merlin      2100F   \n88     0.004164                  200000.0     DIFF  US1000 1      2100F   \n\n    Scale (1/nm)  Scale (mrad)  Scale (deg)  Nominal Magnification ()  \\\n77      0.135351      0.339450     0.019449                       NaN   \n78      0.060679      0.152179     0.008719                       NaN   \n79      0.009795      0.024564     0.001407                       NaN   \n80      0.003898      0.009775     0.000560                       NaN   \n83      0.111649      0.280007     0.016043                       NaN   \n82      0.002002      0.005021     0.000288                       NaN   \n85      0.006487      0.016269     0.000932                       NaN   \n86      0.002571      0.006447     0.000369                       NaN   \n76      0.015540      0.038973     0.002233                       NaN   \n81      0.020442      0.051268     0.002937                       NaN   \n75      0.095546      0.239623     0.013729                       NaN   \n68      0.035211      0.088306     0.005060                       NaN   \n73      0.031182      0.078202     0.004481                       NaN   \n72      0.003229      0.008097     0.000464                       NaN   \n71      0.041035      0.102913     0.005896                       NaN   \n70      0.019237      0.048245     0.002764                       NaN   \n69      0.007818      0.019607     0.001123                       NaN   \n67      0.024836      0.062287     0.003569                       NaN   \n66      0.030367      0.076159     0.004364                       NaN   \n65      0.024722      0.062002     0.003552                       NaN   \n64      0.012866      0.032267     0.001849                       NaN   \n63      0.077871      0.195295     0.011190                       NaN   \n62      0.015591      0.039101     0.002240                       NaN   \n87      0.004953      0.012422     0.000712                       NaN   \n74      0.049007      0.122906     0.007042                       NaN   \n88      0.041641      0.104434     0.005984                       NaN   \n\n    Magnification ()  Scale (nm)  Scale (µm) Mode  \n77               NaN         NaN         NaN  NaN  \n78               NaN         NaN         NaN  NaN  \n79               NaN         NaN         NaN  TEM  \n80               NaN         NaN         NaN  TEM  \n83               NaN         NaN         NaN  NaN  \n82               NaN         NaN         NaN  TEM  \n85               NaN         NaN         NaN  TEM  \n86               NaN         NaN         NaN  TEM  \n76               NaN         NaN         NaN  TEM  \n81               NaN         NaN         NaN  NaN  \n75               NaN         NaN         NaN  NaN  \n68               NaN         NaN         NaN  TEM  \n73               NaN         NaN         NaN  NaN  \n72               NaN         NaN         NaN  TEM  \n71               NaN         NaN         NaN  NaN  \n70               NaN         NaN         NaN  TEM  \n69               NaN         NaN         NaN  TEM  \n67               NaN         NaN         NaN  TEM  \n66               NaN         NaN         NaN  TEM  \n65               NaN         NaN         NaN  NaN  \n64               NaN         NaN         NaN  TEM  \n63               NaN         NaN         NaN  NaN  \n62               NaN         NaN         NaN  NaN  \n87               NaN         NaN         NaN  TEM  \n74               NaN         NaN         NaN  NaN  \n88               NaN         NaN         NaN  TEM  ",
      "text/html": "<div>\n<style scoped>\n    .dataframe tbody tr th:only-of-type {\n        vertical-align: middle;\n    }\n\n    .dataframe tbody tr th {\n        vertical-align: top;\n    }\n\n    .dataframe thead th {\n        text-align: right;\n    }\n</style>\n<table border=\"1\" class=\"dataframe\">\n  <thead>\n    <tr style=\"text-align: right;\">\n      <th></th>\n      <th>Label</th>\n      <th>Nominal Cameralength (cm)</th>\n      <th>Cameralength (cm)</th>\n      <th>Date</th>\n      <th>Scale (1/Å)</th>\n      <th>Acceleration Voltage (V)</th>\n      <th>Mag mode</th>\n      <th>Camera</th>\n      <th>Microscope</th>\n      <th>Scale (1/nm)</th>\n      <th>Scale (mrad)</th>\n      <th>Scale (deg)</th>\n      <th>Nominal Magnification ()</th>\n      <th>Magnification ()</th>\n      <th>Scale (nm)</th>\n      <th>Scale (µm)</th>\n      <th>Mode</th>\n    </tr>\n  </thead>\n  <tbody>\n    <tr>\n      <th>77</th>\n      <td>DIFF</td>\n      <td>8.0</td>\n      <td>16.202673</td>\n      <td>2020-11-23</td>\n      <td>0.013535</td>\n      <td>200000.0</td>\n      <td>SAEDP</td>\n      <td>Merlin</td>\n      <td>2100F</td>\n      <td>0.135351</td>\n      <td>0.339450</td>\n      <td>0.019449</td>\n      <td>NaN</td>\n      <td>NaN</td>\n      <td>NaN</td>\n      <td>NaN</td>\n      <td>NaN</td>\n    </tr>\n    <tr>\n      <th>78</th>\n      <td>DIFF</td>\n      <td>20.0</td>\n      <td>36.141596</td>\n      <td>2020-11-23</td>\n      <td>0.006068</td>\n      <td>200000.0</td>\n      <td>SAEDP</td>\n      <td>Merlin</td>\n      <td>2100F</td>\n      <td>0.060679</td>\n      <td>0.152179</td>\n      <td>0.008719</td>\n      <td>NaN</td>\n      <td>NaN</td>\n      <td>NaN</td>\n      <td>NaN</td>\n      <td>NaN</td>\n    </tr>\n    <tr>\n      <th>79</th>\n      <td>DIFF</td>\n      <td>40.0</td>\n      <td>56.994005</td>\n      <td>2020-11-23</td>\n      <td>0.000979</td>\n      <td>200000.0</td>\n      <td>DIFF</td>\n      <td>US1000 1</td>\n      <td>2100F</td>\n      <td>0.009795</td>\n      <td>0.024564</td>\n      <td>0.001407</td>\n      <td>NaN</td>\n      <td>NaN</td>\n      <td>NaN</td>\n      <td>NaN</td>\n      <td>TEM</td>\n    </tr>\n    <tr>\n      <th>80</th>\n      <td>DIFF</td>\n      <td>100.0</td>\n      <td>143.222774</td>\n      <td>2020-11-23</td>\n      <td>0.000390</td>\n      <td>200000.0</td>\n      <td>DIFF</td>\n      <td>US1000 1</td>\n      <td>2100F</td>\n      <td>0.003898</td>\n      <td>0.009775</td>\n      <td>0.000560</td>\n      <td>NaN</td>\n      <td>NaN</td>\n      <td>NaN</td>\n      <td>NaN</td>\n      <td>TEM</td>\n    </tr>\n    <tr>\n      <th>83</th>\n      <td>DIFF</td>\n      <td>10.0</td>\n      <td>19.642334</td>\n      <td>2020-11-23</td>\n      <td>0.011165</td>\n      <td>200000.0</td>\n      <td>SAEDP</td>\n      <td>Merlin</td>\n      <td>2100F</td>\n      <td>0.111649</td>\n      <td>0.280007</td>\n      <td>0.016043</td>\n      <td>NaN</td>\n      <td>NaN</td>\n      <td>NaN</td>\n      <td>NaN</td>\n      <td>NaN</td>\n    </tr>\n    <tr>\n      <th>82</th>\n      <td>DIFF</td>\n      <td>200.0</td>\n      <td>278.839145</td>\n      <td>2020-11-23</td>\n      <td>0.000200</td>\n      <td>200000.0</td>\n      <td>DIFF</td>\n      <td>US1000 1</td>\n      <td>2100F</td>\n      <td>0.002002</td>\n      <td>0.005021</td>\n      <td>0.000288</td>\n      <td>NaN</td>\n      <td>NaN</td>\n      <td>NaN</td>\n      <td>NaN</td>\n      <td>TEM</td>\n    </tr>\n    <tr>\n      <th>85</th>\n      <td>DIFF</td>\n      <td>60.0</td>\n      <td>86.050826</td>\n      <td>2020-11-23</td>\n      <td>0.000649</td>\n      <td>200000.0</td>\n      <td>DIFF</td>\n      <td>US1000 1</td>\n      <td>2100F</td>\n      <td>0.006487</td>\n      <td>0.016269</td>\n      <td>0.000932</td>\n      <td>NaN</td>\n      <td>NaN</td>\n      <td>NaN</td>\n      <td>NaN</td>\n      <td>TEM</td>\n    </tr>\n    <tr>\n      <th>86</th>\n      <td>DIFF</td>\n      <td>150.0</td>\n      <td>217.153190</td>\n      <td>2020-11-23</td>\n      <td>0.000257</td>\n      <td>200000.0</td>\n      <td>DIFF</td>\n      <td>US1000 1</td>\n      <td>2100F</td>\n      <td>0.002571</td>\n      <td>0.006447</td>\n      <td>0.000369</td>\n      <td>NaN</td>\n      <td>NaN</td>\n      <td>NaN</td>\n      <td>NaN</td>\n      <td>TEM</td>\n    </tr>\n    <tr>\n      <th>76</th>\n      <td>DIFF</td>\n      <td>25.0</td>\n      <td>35.922279</td>\n      <td>2020-11-23</td>\n      <td>0.001554</td>\n      <td>200000.0</td>\n      <td>DIFF</td>\n      <td>US1000 1</td>\n      <td>2100F</td>\n      <td>0.015540</td>\n      <td>0.038973</td>\n      <td>0.002233</td>\n      <td>NaN</td>\n      <td>NaN</td>\n      <td>NaN</td>\n      <td>NaN</td>\n      <td>TEM</td>\n    </tr>\n    <tr>\n      <th>81</th>\n      <td>DIFF</td>\n      <td>60.0</td>\n      <td>107.278756</td>\n      <td>2020-11-23</td>\n      <td>0.002044</td>\n      <td>200000.0</td>\n      <td>SAEDP</td>\n      <td>Merlin</td>\n      <td>2100F</td>\n      <td>0.020442</td>\n      <td>0.051268</td>\n      <td>0.002937</td>\n      <td>NaN</td>\n      <td>NaN</td>\n      <td>NaN</td>\n      <td>NaN</td>\n      <td>NaN</td>\n    </tr>\n    <tr>\n      <th>75</th>\n      <td>DIFF</td>\n      <td>12.0</td>\n      <td>22.952731</td>\n      <td>2020-11-23</td>\n      <td>0.009555</td>\n      <td>200000.0</td>\n      <td>SAEDP</td>\n      <td>Merlin</td>\n      <td>2100F</td>\n      <td>0.095546</td>\n      <td>0.239623</td>\n      <td>0.013729</td>\n      <td>NaN</td>\n      <td>NaN</td>\n      <td>NaN</td>\n      <td>NaN</td>\n      <td>NaN</td>\n    </tr>\n    <tr>\n      <th>68</th>\n      <td>DIFF</td>\n      <td>10.0</td>\n      <td>15.853966</td>\n      <td>2020-11-23</td>\n      <td>0.003521</td>\n      <td>200000.0</td>\n      <td>DIFF</td>\n      <td>US1000 1</td>\n      <td>2100F</td>\n      <td>0.035211</td>\n      <td>0.088306</td>\n      <td>0.005060</td>\n      <td>NaN</td>\n      <td>NaN</td>\n      <td>NaN</td>\n      <td>NaN</td>\n      <td>TEM</td>\n    </tr>\n    <tr>\n      <th>73</th>\n      <td>DIFF</td>\n      <td>40.0</td>\n      <td>70.331121</td>\n      <td>2020-11-23</td>\n      <td>0.003118</td>\n      <td>200000.0</td>\n      <td>SAEDP</td>\n      <td>Merlin</td>\n      <td>2100F</td>\n      <td>0.031182</td>\n      <td>0.078202</td>\n      <td>0.004481</td>\n      <td>NaN</td>\n      <td>NaN</td>\n      <td>NaN</td>\n      <td>NaN</td>\n      <td>NaN</td>\n    </tr>\n    <tr>\n      <th>72</th>\n      <td>DIFF</td>\n      <td>120.0</td>\n      <td>172.906252</td>\n      <td>2020-11-23</td>\n      <td>0.000323</td>\n      <td>200000.0</td>\n      <td>DIFF</td>\n      <td>US1000 1</td>\n      <td>2100F</td>\n      <td>0.003229</td>\n      <td>0.008097</td>\n      <td>0.000464</td>\n      <td>NaN</td>\n      <td>NaN</td>\n      <td>NaN</td>\n      <td>NaN</td>\n      <td>TEM</td>\n    </tr>\n    <tr>\n      <th>71</th>\n      <td>DIFF</td>\n      <td>30.0</td>\n      <td>53.443086</td>\n      <td>2020-11-23</td>\n      <td>0.004104</td>\n      <td>200000.0</td>\n      <td>SAEDP</td>\n      <td>Merlin</td>\n      <td>2100F</td>\n      <td>0.041035</td>\n      <td>0.102913</td>\n      <td>0.005896</td>\n      <td>NaN</td>\n      <td>NaN</td>\n      <td>NaN</td>\n      <td>NaN</td>\n      <td>NaN</td>\n    </tr>\n    <tr>\n      <th>70</th>\n      <td>DIFF</td>\n      <td>20.0</td>\n      <td>29.018780</td>\n      <td>2020-11-23</td>\n      <td>0.001924</td>\n      <td>200000.0</td>\n      <td>DIFF</td>\n      <td>US1000 1</td>\n      <td>2100F</td>\n      <td>0.019237</td>\n      <td>0.048245</td>\n      <td>0.002764</td>\n      <td>NaN</td>\n      <td>NaN</td>\n      <td>NaN</td>\n      <td>NaN</td>\n      <td>TEM</td>\n    </tr>\n    <tr>\n      <th>69</th>\n      <td>DIFF</td>\n      <td>50.0</td>\n      <td>71.403049</td>\n      <td>2020-11-23</td>\n      <td>0.000782</td>\n      <td>200000.0</td>\n      <td>DIFF</td>\n      <td>US1000 1</td>\n      <td>2100F</td>\n      <td>0.007818</td>\n      <td>0.019607</td>\n      <td>0.001123</td>\n      <td>NaN</td>\n      <td>NaN</td>\n      <td>NaN</td>\n      <td>NaN</td>\n      <td>TEM</td>\n    </tr>\n    <tr>\n      <th>67</th>\n      <td>DIFF</td>\n      <td>15.0</td>\n      <td>22.476508</td>\n      <td>2020-11-23</td>\n      <td>0.002484</td>\n      <td>200000.0</td>\n      <td>DIFF</td>\n      <td>US1000 1</td>\n      <td>2100F</td>\n      <td>0.024836</td>\n      <td>0.062287</td>\n      <td>0.003569</td>\n      <td>NaN</td>\n      <td>NaN</td>\n      <td>NaN</td>\n      <td>NaN</td>\n      <td>TEM</td>\n    </tr>\n    <tr>\n      <th>66</th>\n      <td>DIFF</td>\n      <td>12.0</td>\n      <td>18.382575</td>\n      <td>2020-11-23</td>\n      <td>0.003037</td>\n      <td>200000.0</td>\n      <td>DIFF</td>\n      <td>US1000 1</td>\n      <td>2100F</td>\n      <td>0.030367</td>\n      <td>0.076159</td>\n      <td>0.004364</td>\n      <td>NaN</td>\n      <td>NaN</td>\n      <td>NaN</td>\n      <td>NaN</td>\n      <td>TEM</td>\n    </tr>\n    <tr>\n      <th>65</th>\n      <td>DIFF</td>\n      <td>50.0</td>\n      <td>88.707027</td>\n      <td>2020-11-23</td>\n      <td>0.002472</td>\n      <td>200000.0</td>\n      <td>SAEDP</td>\n      <td>Merlin</td>\n      <td>2100F</td>\n      <td>0.024722</td>\n      <td>0.062002</td>\n      <td>0.003552</td>\n      <td>NaN</td>\n      <td>NaN</td>\n      <td>NaN</td>\n      <td>NaN</td>\n      <td>NaN</td>\n    </tr>\n    <tr>\n      <th>64</th>\n      <td>DIFF</td>\n      <td>30.0</td>\n      <td>43.387688</td>\n      <td>2020-11-23</td>\n      <td>0.001287</td>\n      <td>200000.0</td>\n      <td>DIFF</td>\n      <td>US1000 1</td>\n      <td>2100F</td>\n      <td>0.012866</td>\n      <td>0.032267</td>\n      <td>0.001849</td>\n      <td>NaN</td>\n      <td>NaN</td>\n      <td>NaN</td>\n      <td>NaN</td>\n      <td>TEM</td>\n    </tr>\n    <tr>\n      <th>63</th>\n      <td>DIFF</td>\n      <td>15.0</td>\n      <td>28.162552</td>\n      <td>2020-11-23</td>\n      <td>0.007787</td>\n      <td>200000.0</td>\n      <td>SAEDP</td>\n      <td>Merlin</td>\n      <td>2100F</td>\n      <td>0.077871</td>\n      <td>0.195295</td>\n      <td>0.011190</td>\n      <td>NaN</td>\n      <td>NaN</td>\n      <td>NaN</td>\n      <td>NaN</td>\n      <td>NaN</td>\n    </tr>\n    <tr>\n      <th>62</th>\n      <td>DIFF</td>\n      <td>80.0</td>\n      <td>140.662242</td>\n      <td>2020-11-23</td>\n      <td>0.001559</td>\n      <td>200000.0</td>\n      <td>SAEDP</td>\n      <td>Merlin</td>\n      <td>2100F</td>\n      <td>0.015591</td>\n      <td>0.039101</td>\n      <td>0.002240</td>\n      <td>NaN</td>\n      <td>NaN</td>\n      <td>NaN</td>\n      <td>NaN</td>\n      <td>NaN</td>\n    </tr>\n    <tr>\n      <th>87</th>\n      <td>DIFF</td>\n      <td>80.0</td>\n      <td>112.704457</td>\n      <td>2020-11-23</td>\n      <td>0.000495</td>\n      <td>200000.0</td>\n      <td>DIFF</td>\n      <td>US1000 1</td>\n      <td>2100F</td>\n      <td>0.004953</td>\n      <td>0.012422</td>\n      <td>0.000712</td>\n      <td>NaN</td>\n      <td>NaN</td>\n      <td>NaN</td>\n      <td>NaN</td>\n      <td>TEM</td>\n    </tr>\n    <tr>\n      <th>74</th>\n      <td>DIFF</td>\n      <td>25.0</td>\n      <td>44.749680</td>\n      <td>2020-11-23</td>\n      <td>0.004901</td>\n      <td>200000.0</td>\n      <td>SAEDP</td>\n      <td>Merlin</td>\n      <td>2100F</td>\n      <td>0.049007</td>\n      <td>0.122906</td>\n      <td>0.007042</td>\n      <td>NaN</td>\n      <td>NaN</td>\n      <td>NaN</td>\n      <td>NaN</td>\n      <td>NaN</td>\n    </tr>\n    <tr>\n      <th>88</th>\n      <td>DIFF</td>\n      <td>8.0</td>\n      <td>13.405633</td>\n      <td>2020-11-23</td>\n      <td>0.004164</td>\n      <td>200000.0</td>\n      <td>DIFF</td>\n      <td>US1000 1</td>\n      <td>2100F</td>\n      <td>0.041641</td>\n      <td>0.104434</td>\n      <td>0.005984</td>\n      <td>NaN</td>\n      <td>NaN</td>\n      <td>NaN</td>\n      <td>NaN</td>\n      <td>TEM</td>\n    </tr>\n  </tbody>\n</table>\n</div>"
     },
     "execution_count": 5,
     "metadata": {},
     "output_type": "execute_result"
    }
   ],
   "source": [
    "calibrations.dataframe[calibrations.dataframe['Label']=='DIFF']"
   ]
  },
  {
   "cell_type": "code",
   "execution_count": 8,
   "metadata": {},
   "outputs": [],
   "source": [
    "calibrations.dataframe.to_excel(Path(r'C:\\Users\\emilc\\OneDrive - NTNU\\NORTEM\\Calibrations\\2100F\\Calibrations.xlsx'))"
   ]
  },
  {
   "cell_type": "code",
   "execution_count": 6,
   "metadata": {},
   "outputs": [
    {
     "data": {
      "text/plain": "<AxesSubplot:xlabel='Nominal Cameralength (cm)', ylabel='Cameralength (cm)'>"
     },
     "execution_count": 6,
     "metadata": {},
     "output_type": "execute_result"
    }
   ],
   "source": [
    "sns.lineplot(x='Nominal Cameralength (cm)', y='Cameralength (cm)', data=calibrations.dataframe, hue='Camera', style='Microscope')"
   ]
  },
  {
   "cell_type": "code",
   "execution_count": null,
   "metadata": {},
   "outputs": [],
   "source": [
    "calibration"
   ]
  },
  {
   "cell_type": "code",
   "execution_count": null,
   "metadata": {},
   "outputs": [],
   "source": [
    "filename"
   ]
  },
  {
   "cell_type": "code",
   "execution_count": null,
   "metadata": {},
   "outputs": [],
   "source": [
    "signal = hs.load(r'C:\\Users\\emilc\\OneDrive - NTNU\\NORTEM\\Calibrations\\2100F\\Merlin\\2020_11_21_TEDPELLA673\\SAMAG10k.hspy')"
   ]
  },
  {
   "cell_type": "code",
   "execution_count": null,
   "metadata": {},
   "outputs": [],
   "source": [
    "signal.original_metadata"
   ]
  },
  {
   "cell_type": "code",
   "execution_count": null,
   "metadata": {},
   "outputs": [],
   "source": [
    "signal"
   ]
  },
  {
   "cell_type": "code",
   "execution_count": null,
   "metadata": {},
   "outputs": [],
   "source": [
    "calibrations"
   ]
  },
  {
   "cell_type": "code",
   "execution_count": null,
   "metadata": {},
   "outputs": [],
   "source": [
    "calibrations[calibrations['Camera']=='Merlin']"
   ]
  },
  {
   "cell_type": "code",
   "execution_count": null,
   "metadata": {},
   "outputs": [],
   "source": [
    "calibrations.sort_values(by='CL (cm)', inplace=True)\n",
    "CL_values = calibrations[['Camera', 'CL (cm)', 'Act. CL (cm)', 'Scale (1/nm/px)', 'Scale (deg/px)', 'Width (deg)']]\n",
    "CL_values = CL_values[CL_values['Camera']=='Merlin']\n",
    "print(tabulate(CL_values, headers=CL_values.columns, floatfmt = ['.0f', 's', '.0f', '.2f', '.3g', '.3g', '.2f']))"
   ]
  },
  {
   "cell_type": "markdown",
   "metadata": {},
   "source": [
    "## Show cameralength calibrations"
   ]
  },
  {
   "cell_type": "code",
   "execution_count": null,
   "metadata": {},
   "outputs": [],
   "source": [
    "calibrations.sort_values(by='CL (cm)', inplace=True)\n",
    "sns.lineplot(x='CL (cm)', y = 'Act. CL (cm)', hue='Camera', style='Microscope', markers=True, data=calibrations)"
   ]
  },
  {
   "cell_type": "code",
   "execution_count": null,
   "metadata": {
    "scrolled": false
   },
   "outputs": [],
   "source": [
    "try:\n",
    "    print(tabulate(calibrations.sort_values(by=['Mag.']), headers = calibrations.columns, floatfmt=['.0f', 's', '.0f', '.2f', '.3g', 's', '.3g', 's', '.0f', 's'], showindex=False))\n",
    "except KeyError:\n",
    "    print(tabulate(calibrations.sort_values(by=['CL (cm)']), headers = calibrations.columns, floatfmt=['.0f', 's', '.0f', '.2f', '.3g', '.3g', '.3g', '.0f', 's'], showindex=False))\n",
    "    sns.lineplot(x='CL (cm)', y='Act. CL (cm)', data=dataframe, markers=\"X\", style='Microscope', hue='HT (kV)')\n",
    "fig = plt.gcf()\n",
    "#plt.savefig()\n",
    "#print(dataframe)\n",
    "\n",
    "#print(tabulate(calibrations, headers=['Label', 'Nominal Mag.', 'Actual Mag.', 'Scale X', 'Units', 'Scale Y', 'Units', 'HT (V)', 'Date']))"
   ]
  },
  {
   "cell_type": "code",
   "execution_count": null,
   "metadata": {},
   "outputs": [],
   "source": [
    "sns.catplot"
   ]
  },
  {
   "cell_type": "code",
   "execution_count": null,
   "metadata": {},
   "outputs": [],
   "source": [
    "dataframe.plot(x='Mag.', y='')"
   ]
  },
  {
   "cell_type": "code",
   "execution_count": null,
   "metadata": {},
   "outputs": [],
   "source": [
    "dataframe.sort_values(by=['Nominal Mag.'])"
   ]
  },
  {
   "cell_type": "code",
   "execution_count": null,
   "metadata": {},
   "outputs": [],
   "source": [
    "signal.original_metadata.ImageList.TagGroup0.ImageTags"
   ]
  },
  {
   "cell_type": "code",
   "execution_count": null,
   "metadata": {},
   "outputs": [],
   "source": []
  }
 ],
 "metadata": {
  "kernelspec": {
   "display_name": "Python [conda env:mib2hspyV2]",
   "language": "python",
   "name": "conda-env-mib2hspyV2-py"
  },
  "language_info": {
   "codemirror_mode": {
    "name": "ipython",
    "version": 3
   },
   "file_extension": ".py",
   "mimetype": "text/x-python",
   "name": "python",
   "nbconvert_exporter": "python",
   "pygments_lexer": "ipython3",
   "version": "3.8.5"
  }
 },
 "nbformat": 4,
 "nbformat_minor": 4
}