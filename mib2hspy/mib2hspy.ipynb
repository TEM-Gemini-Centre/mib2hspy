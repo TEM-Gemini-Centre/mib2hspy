{
 "cells": [
  {
   "cell_type": "markdown",
   "id": "34bf18e7",
   "metadata": {},
   "source": [
    "# Notebook for converting .mib files to .hspy and .blo"
   ]
  },
  {
   "cell_type": "code",
   "execution_count": null,
   "id": "fce0646b",
   "metadata": {
    "pycharm": {
     "is_executing": true
    }
   },
   "outputs": [],
   "source": [
    "%matplotlib qt\n",
    "import mib2hspy as m2h"
   ]
  },
  {
   "cell_type": "markdown",
   "source": [
    "## Rough calibration table\n",
    "Approximate (i.e. good starting point values, but you should check yourself!) calibration values for cameralengths on the Merlin on 2100F at 200 kV (made 23/11/2020)\n",
    "\n",
    "| Nominal CL [cm]| Actual CL [cm]| Scale [$Å^{-1}$]|\n",
    "|----------------|---------------|-----------------|\n",
    "|8|16.07|0.0136|\n",
    "|10|19.319|0.011|\n",
    "|12|22.586|0.0097|\n",
    "|15|27.475|0.008|\n",
    "|20|35.509|0.0062|\n",
    "|25|43.942|0.0050|\n",
    "|30|52.493|0.0042|\n",
    "|40|69.429|0.0032|\n",
    "|50|86.296|0.0025|\n",
    "|60|103.702|0.0021|\n",
    "|80|136.743|0.0016|"
   ],
   "metadata": {
    "collapsed": false,
    "pycharm": {
     "name": "#%% md\n"
    }
   }
  },
  {
   "cell_type": "markdown",
   "id": "ead92973",
   "metadata": {},
   "source": [
    "### Load data\n",
    "Load the data and specify metadata and additional info.\n",
    "\n",
    "Specify the relevant acquisition metadata. If a field should not be specified, set it to `None`."
   ]
  },
  {
   "cell_type": "code",
   "execution_count": null,
   "id": "0db4436a",
   "metadata": {
    "pycharm": {
     "is_executing": true
    }
   },
   "outputs": [],
   "source": [
    "signal_model = m2h.SignalModel()\n",
    "controller = m2h.SignalController(signal_model)\n",
    "\n",
    "controller.setPath(r'C:\\Users\\emilc\\OneDrive - NTNU\\NORTEM\\Merlin\\LFO\\2021_03_18_P40204PV04\\test\\SED_128x128x12_16x16nm_NBD_alpha1_spot05nm_CL3-7D11_IL1-4C92_CL12cm.mib')\n",
    "\n",
    "controller.setNX(128) #number of positions in x-direction (note flipped compared to MERLIN acquisition system)\n",
    "controller.setNY(128) #number of positions in y-direction (note flipped compared to MERLIN acquisition system)\n",
    "controller.setChunks(32, 32, 32, 32)\n",
    "\n",
    "controller.setBeamEnergy(200) #Beam energy in keV\n",
    "controller.setCameralength(12.00) #Camera length in cm\n",
    "controller.calibrateCameralength() #Calibrate cameralength based on calibration values stored in controller object (default)\n",
    "controller.setMode('NBD')\n",
    "controller.setAlpha(5)\n",
    "controller.setSpotsize(0.5)\n",
    "controller.setNotes('Note')\n",
    "controller.setOperator('Emil Christiansen')\n",
    "controller.setSpecimen('LFO P40204PV04')\n",
    "controller.setPrecessionAngle(1.0) #Precession angle in degrees\n",
    "controller.setPrecessionFrequency(100) #Precession frequency in Hz\n",
    "controller.setExposureTime(10) #exposure time in ms\n",
    "controller.setScanRotation(27.0) #Scan rotation in degrees\n",
    "controller.setStepSizeX(16)\n",
    "controller.setStepSizeY(16)"
   ]
  },
  {
   "cell_type": "markdown",
   "source": [
    "## Save to HSPY and BLO"
   ],
   "metadata": {
    "collapsed": false,
    "pycharm": {
     "name": "#%% md\n"
    }
   }
  },
  {
   "cell_type": "code",
   "execution_count": null,
   "outputs": [],
   "source": [
    "controller.saveSignal(['.hspy', '.blo'])\n"
   ],
   "metadata": {
    "collapsed": false,
    "pycharm": {
     "name": "#%%\n"
    }
   }
  }
 ],
 "metadata": {
  "kernelspec": {
   "display_name": "Python 3 (ipykernel)",
   "language": "python",
   "name": "python3"
  },
  "language_info": {
   "codemirror_mode": {
    "name": "ipython",
    "version": 3
   },
   "file_extension": ".py",
   "mimetype": "text/x-python",
   "name": "python",
   "nbconvert_exporter": "python",
   "pygments_lexer": "ipython3",
   "version": "3.9.7"
  }
 },
 "nbformat": 4,
 "nbformat_minor": 5
}