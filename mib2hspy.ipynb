{
 "cells": [
  {
   "cell_type": "code",
   "execution_count": 13,
   "metadata": {
    "collapsed": true
   },
   "outputs": [],
   "source": [
    "%matplotlib qt\n",
    "import mib2hspy as m2h\n",
    "import pandas as pd\n",
    "import hyperspy.api as hs\n",
    "\n",
    "from math import nan"
   ]
  },
  {
   "cell_type": "code",
   "execution_count": 14,
   "outputs": [
    {
     "name": "stdout",
     "output_type": "stream",
     "text": [
      "No calibration found for Magnification('Magnification', nan, '', nan) in calibration table after querying for \"`Nominal Magnification ()` == @nan & `Mode` == \"None\" & `Mag mode` == \"None\" & `Camera` == \"Merlin\" & `Acceleration Voltage (V)` == 200000 & `Microscope` == \"2100F\" & `Nominal Magnification ()` == @nan\".\n",
      "\n",
      "Unable to query calibration table for \n",
      "\"`Nominal Rocking angle (deg)` == @nan & `Mode` == \"None\" & `Alpha` == @nan & `Acceleration Voltage (V)` == 200000 & `Microscope` == \"2100F\" & `Nominal Rocking angle (deg)` == @nan\"\n",
      "due to missing (required) columns. Please check that the calibration file column headers for errors. Continuing without calibrating this value.\n",
      "\n",
      "Unable to query calibration table for \n",
      "\"`Nominal Step Y (nm)` == @nan & `Mode` == \"None\" & `Alpha` == @nan & `Acceleration Voltage (V)` == 200000 & `Microscope` == \"2100F\" & `Nominal Step Y (nm)` == @nan\"\n",
      "due to missing (required) columns. Please check that the calibration file column headers for errors. Continuing without calibrating this value.\n",
      "\n",
      "Unable to query calibration table for \n",
      "\"`Nominal Step X (nm)` == @nan & `Mode` == \"None\" & `Alpha` == @nan & `Acceleration Voltage (V)` == 200000 & `Microscope` == \"2100F\" & `Nominal Step X (nm)` == @nan\"\n",
      "due to missing (required) columns. Please check that the calibration file column headers for errors. Continuing without calibrating this value.\n",
      "\n",
      "Unable to query calibration table for \n",
      "\"`Nominal Convergence angle (mrad)` == @nan & `Nominal Condenser aperture (um)` == @nan & `Nominal Magnification ()` == @nan & `Mode` == \"None\" & `Alpha` == @nan & `Acceleration Voltage (V)` == 200000 & `Microscope` == \"2100F\" & `Nominal Convergence angle (mrad)` == @nan\"\n",
      "due to missing (required) columns. Please check that the calibration file column headers for errors. Continuing without calibrating this value.\n",
      "\n",
      "Unable to query calibration table for \n",
      "\"`Nominal Condenser aperture (um)` == @nan & `Nominal Magnification ()` == @nan & `Acceleration Voltage (V)` == 200000 & `Microscope` == \"2100F\" & `Nominal Condenser aperture (um)` == @nan\"\n",
      "due to missing (required) columns. Please check that the calibration file column headers for errors. Continuing without calibrating this value.\n",
      "\n",
      "Unable to query calibration table for \n",
      "\"`Nominal Spotsize (nm)` == @nan & `Mode` == \"None\" & `Nominal Condenser aperture (um)` == @nan & `Acceleration Voltage (V)` == 200000 & `Microscope` == \"2100F\" & `Nominal Spotsize (nm)` == @nan\"\n",
      "due to missing (required) columns. Please check that the calibration file column headers for errors. Continuing without calibrating this value.\n",
      "\n",
      "No calibration found for ImageScale('Scale', nan, 'nm') in calibration table after querying for \"`Mode` == \"None\" & `Mag mode` == \"None\" & `Camera` == \"Merlin\" & `Nominal Magnification ()` == @nan & `Acceleration Voltage (V)` == 200000 & `Microscope` == \"2100F\"\".\n",
      "\n",
      "Converter for file \"/media/emilc/Data/Merlin/NanoTools2020/Nanotools/Sample1/20201028 111625/scan_8cm_256x256x12_10ms_p05_100Hz_step10x10nm_alpha4_spot05_NBD.mib\" with data None:\n",
      "\n",
      "***Header content***\n",
      "None***\n",
      "\n",
      "***Microscope parameters***\n",
      "Parameter             Value                Units    Nominal value\n",
      "--------------------  -------------------  -------  ---------------\n",
      "Acceleration Voltage  200000               V\n",
      "Mode                  None\n",
      "Alpha                 nan\n",
      "Magnification         nan                           nan\n",
      "Scale                 nan                  nm\n",
      "Cameralength          16.20267322524813    cm       8\n",
      "Scale                 0.01353505090711657  1/Å\n",
      "Mag mode              None\n",
      "Rocking angle         nan                  deg      nan\n",
      "Rocking frequency     nan                  Hz\n",
      "Step Y                nan                  nm       nan\n",
      "Step X                nan                  nm       nan\n",
      "Convergence angle     nan                  mrad     nan\n",
      "Condenser aperture    nan                  um       nan\n",
      "Spot                  nan\n",
      "Spotsize              nan                  nm       nan\n",
      "Acquisition Date      None\n",
      "Camera                Merlin\n",
      "Exposure time         nan                  ms\n",
      "Microscope            2100F\n"
     ]
    }
   ],
   "source": [
    "parameters = m2h.MicroscopeParameters()\n",
    "parameters.acceleration_voltage = 200000\n",
    "parameters.cameralength = (8, nan)\n",
    "parameters.camera = 'Merlin'\n",
    "parameters.microscope = '2100F'\n",
    "#table = pd.read_excel(r'C:\\Users\\emilc\\OneDrive - NTNU\\NORTEM\\Calibrations\\2100F\\Calibrations.xlsx', engine='openpyxl')\n",
    "table = pd.read_excel(r'/home/emilc/GitHub/mib2hspy/Calibrations.xlsx', engine='openpyxl')\n",
    "parameters.set_values_from_calibrationtable(table)\n",
    "\n",
    "\n",
    "converter = m2h.Converter(microscope_parameters=parameters)\n",
    "#converter.data_path = r'C:\\Users\\emilc\\OneDrive - NTNU\\NORTEM\\Merlin\\2020_09_12_NanowireSC58A8_MerlinCalibrations\\NWX\\2020_09_12_NanowireSC58A8_Merlin_scans\\20200912 132936 Scan10_2\\NWX_scan1_8cm_scan10.mib'\n",
    "converter.data_path = r'/media/emilc/Data/Merlin/NanoTools2020/Nanotools/Sample1/20201028 111625/scan_8cm_256x256x12_10ms_p05_100Hz_step10x10nm_alpha4_spot05_NBD.mib'\n",
    "\n",
    "print(converter)"
   ],
   "metadata": {
    "collapsed": false,
    "pycharm": {
     "name": "#%%\n"
    }
   }
  },
  {
   "cell_type": "code",
   "execution_count": 15,
   "outputs": [
    {
     "name": "stdout",
     "output_type": "stream",
     "text": [
      "This mib file appears to be TEM data. The stack is returned with no reshaping.\n",
      "Loaded file \"/media/emilc/Data/Merlin/NanoTools2020/Nanotools/Sample1/20201028 111625/scan_8cm_256x256x12_10ms_p05_100Hz_step10x10nm_alpha4_spot05_NBD.mib\" successfully:\n",
      "Data: <LazyElectronDiffraction2D, title: , dimensions: (65536|256, 256)>\n",
      "HDR: Content of Medipix HDR file \"/media/emilc/Data/Merlin/NanoTools2020/Nanotools/Sample1/20201028 111625/scan_8cm_256x256x12_10ms_p05_100Hz_step10x10nm_alpha4_spot05_NBD.hdr\":\n",
      "\tTime and Date Stamp (day, mnth, yr, hr, min, s): 28/10/2020 11:16:25\n",
      "\tChip ID: W559_G11, - , - , -\n",
      "\tChip Type (Medipix 3.0, Medipix 3.1, Medipix 3RX): Medipix 3RX\n",
      "\tAssembly Size (NX1, 2X2): 1x1\n",
      "\tChip Mode  (SPM, CSM, CM, CSCM): SPM\n",
      "\tCounter Depth (number): 12\n",
      "\tGain: SLGM\n",
      "\tActive Counters: Alternating\n",
      "\tThresholds (keV): 4.000000E+1,5.110000E+2,0.000000E+0,0.000000E+0,0.000000E+0,0.000000E+0,0.000000E+0,0.000000E+0\n",
      "\tDACs: 068,511,000,000,000,000,000,000,100,255,100,125,100,100,080,100,090,030,128,004,255,126,128,174,172,511,511\n",
      "\tbpc File: c:\\MERLIN_Quad_Config\\W559_G11\\W559_G11_SPM.bpc,,,\n",
      "\tDAC File: c:\\MERLIN_Quad_Config\\W559_G11\\W559_G11_SPM.dacs,,,\n",
      "\tGap Fill Mode: None\n",
      "\tFlat Field File: None\n",
      "\tDead Time File: Dummy (C:\\<NUL>\\)\n",
      "\tAcquisition Type (Normal, Th_scan, Config): Normal\n",
      "\tFrames in Acquisition (Number): 65536\n",
      "\tFrames per Trigger (Number): 256\n",
      "\tTrigger Start (Positive, Negative, Internal): Rising Edge\n",
      "\tTrigger Stop (Positive, Negative, Internal): Internal\n",
      "\tSensor Bias (V): 120 V\n",
      "\tSensor Polarity (Positive, Negative): Positive\n",
      "\tTemperature (C): Board Temp 0.000000 Deg C\n",
      "\tHumidity (%): Board Humidity 0.000000\n",
      "\tMedipix Clock (MHz): 160MHz\n",
      "\tReadout System: Merlin Quad\n",
      "\tSoftware Version: 0.73.8.1\n",
      "Converter for file \"/media/emilc/Data/Merlin/NanoTools2020/Nanotools/Sample1/20201028 111625/scan_8cm_256x256x12_10ms_p05_100Hz_step10x10nm_alpha4_spot05_NBD.mib\" with data <LazyElectronDiffraction2D, title: , dimensions: (256, 256|256, 256)>:\n",
      "\n",
      "***Header content***\n",
      "Content of Medipix HDR file \"/media/emilc/Data/Merlin/NanoTools2020/Nanotools/Sample1/20201028 111625/scan_8cm_256x256x12_10ms_p05_100Hz_step10x10nm_alpha4_spot05_NBD.hdr\":\n",
      "\tTime and Date Stamp (day, mnth, yr, hr, min, s): 28/10/2020 11:16:25\n",
      "\tChip ID: W559_G11, - , - , -\n",
      "\tChip Type (Medipix 3.0, Medipix 3.1, Medipix 3RX): Medipix 3RX\n",
      "\tAssembly Size (NX1, 2X2): 1x1\n",
      "\tChip Mode  (SPM, CSM, CM, CSCM): SPM\n",
      "\tCounter Depth (number): 12\n",
      "\tGain: SLGM\n",
      "\tActive Counters: Alternating\n",
      "\tThresholds (keV): 4.000000E+1,5.110000E+2,0.000000E+0,0.000000E+0,0.000000E+0,0.000000E+0,0.000000E+0,0.000000E+0\n",
      "\tDACs: 068,511,000,000,000,000,000,000,100,255,100,125,100,100,080,100,090,030,128,004,255,126,128,174,172,511,511\n",
      "\tbpc File: c:\\MERLIN_Quad_Config\\W559_G11\\W559_G11_SPM.bpc,,,\n",
      "\tDAC File: c:\\MERLIN_Quad_Config\\W559_G11\\W559_G11_SPM.dacs,,,\n",
      "\tGap Fill Mode: None\n",
      "\tFlat Field File: None\n",
      "\tDead Time File: Dummy (C:\\<NUL>\\)\n",
      "\tAcquisition Type (Normal, Th_scan, Config): Normal\n",
      "\tFrames in Acquisition (Number): 65536\n",
      "\tFrames per Trigger (Number): 256\n",
      "\tTrigger Start (Positive, Negative, Internal): Rising Edge\n",
      "\tTrigger Stop (Positive, Negative, Internal): Internal\n",
      "\tSensor Bias (V): 120 V\n",
      "\tSensor Polarity (Positive, Negative): Positive\n",
      "\tTemperature (C): Board Temp 0.000000 Deg C\n",
      "\tHumidity (%): Board Humidity 0.000000\n",
      "\tMedipix Clock (MHz): 160MHz\n",
      "\tReadout System: Merlin Quad\n",
      "\tSoftware Version: 0.73.8.1***\n",
      "\n",
      "***Microscope parameters***\n",
      "Parameter             Value                Units    Nominal value\n",
      "--------------------  -------------------  -------  ---------------\n",
      "Acceleration Voltage  200000               V\n",
      "Mode                  None\n",
      "Alpha                 nan\n",
      "Magnification         nan                           nan\n",
      "Scale                 nan                  nm\n",
      "Cameralength          16.20267322524813    cm       8\n",
      "Scale                 0.01353505090711657  1/Å\n",
      "Mag mode              None\n",
      "Rocking angle         nan                  deg      nan\n",
      "Rocking frequency     nan                  Hz\n",
      "Step Y                nan                  nm       nan\n",
      "Step X                nan                  nm       nan\n",
      "Convergence angle     nan                  mrad     nan\n",
      "Condenser aperture    nan                  um       nan\n",
      "Spot                  nan\n",
      "Spotsize              nan                  nm       nan\n",
      "Acquisition Date      None\n",
      "Camera                Merlin\n",
      "Exposure time         nan                  ms\n",
      "Microscope            2100F\n"
     ]
    }
   ],
   "source": [
    "converter.read_mib()\n",
    "converter.reshape(256,256)\n",
    "converter.rechunk(32)\n",
    "converter.apply_calibrations()\n",
    "converter.set_metadata()\n",
    "print(converter)"
   ],
   "metadata": {
    "collapsed": false,
    "pycharm": {
     "name": "#%%\n"
    }
   }
  },
  {
   "cell_type": "code",
   "execution_count": 16,
   "outputs": [
    {
     "ename": "TraitError",
     "evalue": "The 'index' trait of a DataAxis instance must be 0 <= a number <= -1, but a value of 0 <class 'int'> was specified.",
     "output_type": "error",
     "traceback": [
      "\u001B[0;31m---------------------------------------------------------------------------\u001B[0m",
      "\u001B[0;31mTraitError\u001B[0m                                Traceback (most recent call last)",
      "\u001B[0;32m<ipython-input-16-42c20e490188>\u001B[0m in \u001B[0;36m<module>\u001B[0;34m\u001B[0m\n\u001B[0;32m----> 1\u001B[0;31m \u001B[0mvbf\u001B[0m \u001B[0;34m=\u001B[0m \u001B[0mconverter\u001B[0m\u001B[0;34m.\u001B[0m\u001B[0mget_square_vbf\u001B[0m\u001B[0;34m(\u001B[0m\u001B[0;34m)\u001B[0m\u001B[0;34m\u001B[0m\u001B[0;34m\u001B[0m\u001B[0m\n\u001B[0m\u001B[1;32m      2\u001B[0m \u001B[0mvbf\u001B[0m\u001B[0;34m.\u001B[0m\u001B[0mplot\u001B[0m\u001B[0;34m(\u001B[0m\u001B[0;34m)\u001B[0m\u001B[0;34m\u001B[0m\u001B[0;34m\u001B[0m\u001B[0m\n\u001B[1;32m      3\u001B[0m \u001B[0;34m\u001B[0m\u001B[0m\n",
      "\u001B[0;32m~/GitHub/mib2hspy/mib2hspy/Tools/conversion.py\u001B[0m in \u001B[0;36mget_square_vbf\u001B[0;34m(self, cx, cy, width)\u001B[0m\n\u001B[1;32m    462\u001B[0m             \u001B[0mcy\u001B[0m \u001B[0;34m=\u001B[0m \u001B[0mint\u001B[0m\u001B[0;34m(\u001B[0m\u001B[0mcy\u001B[0m \u001B[0;34m/\u001B[0m \u001B[0mself\u001B[0m\u001B[0;34m.\u001B[0m\u001B[0mdata\u001B[0m\u001B[0;34m.\u001B[0m\u001B[0maxes_manager\u001B[0m\u001B[0;34m[\u001B[0m\u001B[0;34m-\u001B[0m\u001B[0;36m1\u001B[0m\u001B[0;34m]\u001B[0m\u001B[0;34m.\u001B[0m\u001B[0mscale\u001B[0m\u001B[0;34m)\u001B[0m\u001B[0;34m\u001B[0m\u001B[0;34m\u001B[0m\u001B[0m\n\u001B[1;32m    463\u001B[0m \u001B[0;34m\u001B[0m\u001B[0m\n\u001B[0;32m--> 464\u001B[0;31m         return self.data.isig[int(cx - half_width):int(cx + half_width), int(cy - half_width):int(cy + half_width)].sum(\n\u001B[0m\u001B[1;32m    465\u001B[0m             axis=np.arange(self.dimension - 2, self.dimension))\n\u001B[1;32m    466\u001B[0m \u001B[0;34m\u001B[0m\u001B[0m\n",
      "\u001B[0;32m~/anaconda3/envs/mib2hspyV2/lib/python3.8/site-packages/hyperspy/signal.py\u001B[0m in \u001B[0;36msum\u001B[0;34m(self, axis, out, rechunk)\u001B[0m\n\u001B[1;32m   3015\u001B[0m         \u001B[0;32mif\u001B[0m \u001B[0maxis\u001B[0m \u001B[0;32mis\u001B[0m \u001B[0;32mNone\u001B[0m\u001B[0;34m:\u001B[0m\u001B[0;34m\u001B[0m\u001B[0;34m\u001B[0m\u001B[0m\n\u001B[1;32m   3016\u001B[0m             \u001B[0maxis\u001B[0m \u001B[0;34m=\u001B[0m \u001B[0mself\u001B[0m\u001B[0;34m.\u001B[0m\u001B[0maxes_manager\u001B[0m\u001B[0;34m.\u001B[0m\u001B[0mnavigation_axes\u001B[0m\u001B[0;34m\u001B[0m\u001B[0;34m\u001B[0m\u001B[0m\n\u001B[0;32m-> 3017\u001B[0;31m         return self._apply_function_on_data_and_remove_axis(\n\u001B[0m\u001B[1;32m   3018\u001B[0m             np.sum, axis, out=out, rechunk=rechunk)\n\u001B[1;32m   3019\u001B[0m     \u001B[0msum\u001B[0m\u001B[0;34m.\u001B[0m\u001B[0m__doc__\u001B[0m \u001B[0;34m%=\u001B[0m \u001B[0;34m(\u001B[0m\u001B[0mMANY_AXIS_PARAMETER\u001B[0m\u001B[0;34m,\u001B[0m \u001B[0mOUT_ARG\u001B[0m\u001B[0;34m,\u001B[0m \u001B[0mRECHUNK_ARG\u001B[0m\u001B[0;34m)\u001B[0m\u001B[0;34m\u001B[0m\u001B[0;34m\u001B[0m\u001B[0m\n",
      "\u001B[0;32m~/anaconda3/envs/mib2hspyV2/lib/python3.8/site-packages/hyperspy/_signals/lazy.py\u001B[0m in \u001B[0;36m_apply_function_on_data_and_remove_axis\u001B[0;34m(self, function, axes, out, rechunk)\u001B[0m\n\u001B[1;32m    281\u001B[0m                     \"`out` %s\" % (new_data.shape, out.data.shape))\n\u001B[1;32m    282\u001B[0m         \u001B[0;32melse\u001B[0m\u001B[0;34m:\u001B[0m\u001B[0;34m\u001B[0m\u001B[0;34m\u001B[0m\u001B[0m\n\u001B[0;32m--> 283\u001B[0;31m             \u001B[0ms\u001B[0m \u001B[0;34m=\u001B[0m \u001B[0mself\u001B[0m\u001B[0;34m.\u001B[0m\u001B[0m_deepcopy_with_new_data\u001B[0m\u001B[0;34m(\u001B[0m\u001B[0mnew_data\u001B[0m\u001B[0;34m)\u001B[0m\u001B[0;34m\u001B[0m\u001B[0;34m\u001B[0m\u001B[0m\n\u001B[0m\u001B[1;32m    284\u001B[0m             \u001B[0ms\u001B[0m\u001B[0;34m.\u001B[0m\u001B[0m_remove_axis\u001B[0m\u001B[0;34m(\u001B[0m\u001B[0;34m[\u001B[0m\u001B[0max\u001B[0m\u001B[0;34m.\u001B[0m\u001B[0mindex_in_axes_manager\u001B[0m \u001B[0;32mfor\u001B[0m \u001B[0max\u001B[0m \u001B[0;32min\u001B[0m \u001B[0maxes\u001B[0m\u001B[0;34m]\u001B[0m\u001B[0;34m)\u001B[0m\u001B[0;34m\u001B[0m\u001B[0;34m\u001B[0m\u001B[0m\n\u001B[1;32m    285\u001B[0m             \u001B[0;32mreturn\u001B[0m \u001B[0ms\u001B[0m\u001B[0;34m\u001B[0m\u001B[0;34m\u001B[0m\u001B[0m\n",
      "\u001B[0;32m~/anaconda3/envs/mib2hspyV2/lib/python3.8/site-packages/hyperspy/signal.py\u001B[0m in \u001B[0;36m_deepcopy_with_new_data\u001B[0;34m(self, data, copy_variance)\u001B[0m\n\u001B[1;32m   1766\u001B[0m                 \u001B[0;32mdel\u001B[0m \u001B[0mself\u001B[0m\u001B[0;34m.\u001B[0m\u001B[0mmetadata\u001B[0m\u001B[0;34m.\u001B[0m\u001B[0mSignal\u001B[0m\u001B[0;34m.\u001B[0m\u001B[0mNoise_properties\u001B[0m\u001B[0;34m\u001B[0m\u001B[0;34m\u001B[0m\u001B[0m\n\u001B[1;32m   1767\u001B[0m             \u001B[0mself\u001B[0m\u001B[0;34m.\u001B[0m\u001B[0mmodels\u001B[0m\u001B[0;34m.\u001B[0m\u001B[0m_models\u001B[0m \u001B[0;34m=\u001B[0m \u001B[0mDictionaryTreeBrowser\u001B[0m\u001B[0;34m(\u001B[0m\u001B[0;34m)\u001B[0m\u001B[0;34m\u001B[0m\u001B[0;34m\u001B[0m\u001B[0m\n\u001B[0;32m-> 1768\u001B[0;31m             \u001B[0mns\u001B[0m \u001B[0;34m=\u001B[0m \u001B[0mself\u001B[0m\u001B[0;34m.\u001B[0m\u001B[0mdeepcopy\u001B[0m\u001B[0;34m(\u001B[0m\u001B[0;34m)\u001B[0m\u001B[0;34m\u001B[0m\u001B[0;34m\u001B[0m\u001B[0m\n\u001B[0m\u001B[1;32m   1769\u001B[0m             \u001B[0mns\u001B[0m\u001B[0;34m.\u001B[0m\u001B[0mdata\u001B[0m \u001B[0;34m=\u001B[0m \u001B[0mdata\u001B[0m\u001B[0;34m\u001B[0m\u001B[0;34m\u001B[0m\u001B[0m\n\u001B[1;32m   1770\u001B[0m             \u001B[0;32mreturn\u001B[0m \u001B[0mns\u001B[0m\u001B[0;34m\u001B[0m\u001B[0;34m\u001B[0m\u001B[0m\n",
      "\u001B[0;32m~/anaconda3/envs/mib2hspyV2/lib/python3.8/site-packages/hyperspy/signal.py\u001B[0m in \u001B[0;36mdeepcopy\u001B[0;34m(self)\u001B[0m\n\u001B[1;32m   4137\u001B[0m         \u001B[0mthe\u001B[0m \u001B[0munderlying\u001B[0m \u001B[0mdata\u001B[0m \u001B[0mstructure\u001B[0m \u001B[0mwill\u001B[0m \u001B[0mbe\u001B[0m \u001B[0mduplicated\u001B[0m \u001B[0;32min\u001B[0m \u001B[0mmemory\u001B[0m\u001B[0;34m.\u001B[0m\u001B[0;34m\u001B[0m\u001B[0;34m\u001B[0m\u001B[0m\n\u001B[1;32m   4138\u001B[0m         \"\"\"\n\u001B[0;32m-> 4139\u001B[0;31m         \u001B[0;32mreturn\u001B[0m \u001B[0mcopy\u001B[0m\u001B[0;34m.\u001B[0m\u001B[0mdeepcopy\u001B[0m\u001B[0;34m(\u001B[0m\u001B[0mself\u001B[0m\u001B[0;34m)\u001B[0m\u001B[0;34m\u001B[0m\u001B[0;34m\u001B[0m\u001B[0m\n\u001B[0m\u001B[1;32m   4140\u001B[0m \u001B[0;34m\u001B[0m\u001B[0m\n\u001B[1;32m   4141\u001B[0m     \u001B[0;32mdef\u001B[0m \u001B[0mchange_dtype\u001B[0m\u001B[0;34m(\u001B[0m\u001B[0mself\u001B[0m\u001B[0;34m,\u001B[0m \u001B[0mdtype\u001B[0m\u001B[0;34m,\u001B[0m \u001B[0mrechunk\u001B[0m\u001B[0;34m=\u001B[0m\u001B[0;32mTrue\u001B[0m\u001B[0;34m)\u001B[0m\u001B[0;34m:\u001B[0m\u001B[0;34m\u001B[0m\u001B[0;34m\u001B[0m\u001B[0m\n",
      "\u001B[0;32m~/anaconda3/envs/mib2hspyV2/lib/python3.8/copy.py\u001B[0m in \u001B[0;36mdeepcopy\u001B[0;34m(x, memo, _nil)\u001B[0m\n\u001B[1;32m    151\u001B[0m             \u001B[0mcopier\u001B[0m \u001B[0;34m=\u001B[0m \u001B[0mgetattr\u001B[0m\u001B[0;34m(\u001B[0m\u001B[0mx\u001B[0m\u001B[0;34m,\u001B[0m \u001B[0;34m\"__deepcopy__\"\u001B[0m\u001B[0;34m,\u001B[0m \u001B[0;32mNone\u001B[0m\u001B[0;34m)\u001B[0m\u001B[0;34m\u001B[0m\u001B[0;34m\u001B[0m\u001B[0m\n\u001B[1;32m    152\u001B[0m             \u001B[0;32mif\u001B[0m \u001B[0mcopier\u001B[0m \u001B[0;32mis\u001B[0m \u001B[0;32mnot\u001B[0m \u001B[0;32mNone\u001B[0m\u001B[0;34m:\u001B[0m\u001B[0;34m\u001B[0m\u001B[0;34m\u001B[0m\u001B[0m\n\u001B[0;32m--> 153\u001B[0;31m                 \u001B[0my\u001B[0m \u001B[0;34m=\u001B[0m \u001B[0mcopier\u001B[0m\u001B[0;34m(\u001B[0m\u001B[0mmemo\u001B[0m\u001B[0;34m)\u001B[0m\u001B[0;34m\u001B[0m\u001B[0;34m\u001B[0m\u001B[0m\n\u001B[0m\u001B[1;32m    154\u001B[0m             \u001B[0;32melse\u001B[0m\u001B[0;34m:\u001B[0m\u001B[0;34m\u001B[0m\u001B[0;34m\u001B[0m\u001B[0m\n\u001B[1;32m    155\u001B[0m                 \u001B[0mreductor\u001B[0m \u001B[0;34m=\u001B[0m \u001B[0mdispatch_table\u001B[0m\u001B[0;34m.\u001B[0m\u001B[0mget\u001B[0m\u001B[0;34m(\u001B[0m\u001B[0mcls\u001B[0m\u001B[0;34m)\u001B[0m\u001B[0;34m\u001B[0m\u001B[0;34m\u001B[0m\u001B[0m\n",
      "\u001B[0;32m~/anaconda3/envs/mib2hspyV2/lib/python3.8/site-packages/hyperspy/signal.py\u001B[0m in \u001B[0;36m__deepcopy__\u001B[0;34m(self, memo)\u001B[0m\n\u001B[1;32m   4107\u001B[0m \u001B[0;34m\u001B[0m\u001B[0m\n\u001B[1;32m   4108\u001B[0m     \u001B[0;32mdef\u001B[0m \u001B[0m__deepcopy__\u001B[0m\u001B[0;34m(\u001B[0m\u001B[0mself\u001B[0m\u001B[0;34m,\u001B[0m \u001B[0mmemo\u001B[0m\u001B[0;34m)\u001B[0m\u001B[0;34m:\u001B[0m\u001B[0;34m\u001B[0m\u001B[0;34m\u001B[0m\u001B[0m\n\u001B[0;32m-> 4109\u001B[0;31m         \u001B[0mdc\u001B[0m \u001B[0;34m=\u001B[0m \u001B[0mtype\u001B[0m\u001B[0;34m(\u001B[0m\u001B[0mself\u001B[0m\u001B[0;34m)\u001B[0m\u001B[0;34m(\u001B[0m\u001B[0;34m**\u001B[0m\u001B[0mself\u001B[0m\u001B[0;34m.\u001B[0m\u001B[0m_to_dictionary\u001B[0m\u001B[0;34m(\u001B[0m\u001B[0;34m)\u001B[0m\u001B[0;34m)\u001B[0m\u001B[0;34m\u001B[0m\u001B[0;34m\u001B[0m\u001B[0m\n\u001B[0m\u001B[1;32m   4110\u001B[0m         \u001B[0;32mif\u001B[0m \u001B[0misinstance\u001B[0m\u001B[0;34m(\u001B[0m\u001B[0mdc\u001B[0m\u001B[0;34m.\u001B[0m\u001B[0mdata\u001B[0m\u001B[0;34m,\u001B[0m \u001B[0mnp\u001B[0m\u001B[0;34m.\u001B[0m\u001B[0mndarray\u001B[0m\u001B[0;34m)\u001B[0m\u001B[0;34m:\u001B[0m\u001B[0;34m\u001B[0m\u001B[0;34m\u001B[0m\u001B[0m\n\u001B[1;32m   4111\u001B[0m             \u001B[0mdc\u001B[0m\u001B[0;34m.\u001B[0m\u001B[0mdata\u001B[0m \u001B[0;34m=\u001B[0m \u001B[0mdc\u001B[0m\u001B[0;34m.\u001B[0m\u001B[0mdata\u001B[0m\u001B[0;34m.\u001B[0m\u001B[0mcopy\u001B[0m\u001B[0;34m(\u001B[0m\u001B[0;34m)\u001B[0m\u001B[0;34m\u001B[0m\u001B[0;34m\u001B[0m\u001B[0m\n",
      "\u001B[0;32m~/anaconda3/envs/mib2hspyV2/lib/python3.8/site-packages/pyxem/signals/electron_diffraction2d.py\u001B[0m in \u001B[0;36m__init__\u001B[0;34m(self, *args, **kwargs)\u001B[0m\n\u001B[1;32m     45\u001B[0m             \u001B[0mPassed\u001B[0m \u001B[0mto\u001B[0m \u001B[0mthe\u001B[0m \u001B[0m__init__\u001B[0m \u001B[0mof\u001B[0m \u001B[0mDiffraction2D\u001B[0m\u001B[0;34m\u001B[0m\u001B[0;34m\u001B[0m\u001B[0m\n\u001B[1;32m     46\u001B[0m         \"\"\"\n\u001B[0;32m---> 47\u001B[0;31m         \u001B[0msuper\u001B[0m\u001B[0;34m(\u001B[0m\u001B[0;34m)\u001B[0m\u001B[0;34m.\u001B[0m\u001B[0m__init__\u001B[0m\u001B[0;34m(\u001B[0m\u001B[0;34m*\u001B[0m\u001B[0margs\u001B[0m\u001B[0;34m,\u001B[0m \u001B[0;34m**\u001B[0m\u001B[0mkwargs\u001B[0m\u001B[0;34m)\u001B[0m\u001B[0;34m\u001B[0m\u001B[0;34m\u001B[0m\u001B[0m\n\u001B[0m\u001B[1;32m     48\u001B[0m \u001B[0;34m\u001B[0m\u001B[0m\n\u001B[1;32m     49\u001B[0m         \u001B[0;31m# Set default attributes\u001B[0m\u001B[0;34m\u001B[0m\u001B[0;34m\u001B[0m\u001B[0;34m\u001B[0m\u001B[0m\n",
      "\u001B[0;32m~/anaconda3/envs/mib2hspyV2/lib/python3.8/site-packages/hyperspy/_signals/signal2d.py\u001B[0m in \u001B[0;36m__init__\u001B[0;34m(self, *args, **kw)\u001B[0m\n\u001B[1;32m    287\u001B[0m \u001B[0;34m\u001B[0m\u001B[0m\n\u001B[1;32m    288\u001B[0m     \u001B[0;32mdef\u001B[0m \u001B[0m__init__\u001B[0m\u001B[0;34m(\u001B[0m\u001B[0mself\u001B[0m\u001B[0;34m,\u001B[0m \u001B[0;34m*\u001B[0m\u001B[0margs\u001B[0m\u001B[0;34m,\u001B[0m \u001B[0;34m**\u001B[0m\u001B[0mkw\u001B[0m\u001B[0;34m)\u001B[0m\u001B[0;34m:\u001B[0m\u001B[0;34m\u001B[0m\u001B[0;34m\u001B[0m\u001B[0m\n\u001B[0;32m--> 289\u001B[0;31m         \u001B[0msuper\u001B[0m\u001B[0;34m(\u001B[0m\u001B[0;34m)\u001B[0m\u001B[0;34m.\u001B[0m\u001B[0m__init__\u001B[0m\u001B[0;34m(\u001B[0m\u001B[0;34m*\u001B[0m\u001B[0margs\u001B[0m\u001B[0;34m,\u001B[0m \u001B[0;34m**\u001B[0m\u001B[0mkw\u001B[0m\u001B[0;34m)\u001B[0m\u001B[0;34m\u001B[0m\u001B[0;34m\u001B[0m\u001B[0m\n\u001B[0m\u001B[1;32m    290\u001B[0m         \u001B[0;32mif\u001B[0m \u001B[0mself\u001B[0m\u001B[0;34m.\u001B[0m\u001B[0maxes_manager\u001B[0m\u001B[0;34m.\u001B[0m\u001B[0msignal_dimension\u001B[0m \u001B[0;34m!=\u001B[0m \u001B[0;36m2\u001B[0m\u001B[0;34m:\u001B[0m\u001B[0;34m\u001B[0m\u001B[0;34m\u001B[0m\u001B[0m\n\u001B[1;32m    291\u001B[0m             \u001B[0mself\u001B[0m\u001B[0;34m.\u001B[0m\u001B[0maxes_manager\u001B[0m\u001B[0;34m.\u001B[0m\u001B[0mset_signal_dimension\u001B[0m\u001B[0;34m(\u001B[0m\u001B[0;36m2\u001B[0m\u001B[0;34m)\u001B[0m\u001B[0;34m\u001B[0m\u001B[0;34m\u001B[0m\u001B[0m\n",
      "\u001B[0;32m~/anaconda3/envs/mib2hspyV2/lib/python3.8/site-packages/hyperspy/signal.py\u001B[0m in \u001B[0;36m__init__\u001B[0;34m(self, data, **kwds)\u001B[0m\n\u001B[1;32m   1623\u001B[0m         \u001B[0mself\u001B[0m\u001B[0;34m.\u001B[0m\u001B[0mlearning_results\u001B[0m \u001B[0;34m=\u001B[0m \u001B[0mLearningResults\u001B[0m\u001B[0;34m(\u001B[0m\u001B[0;34m)\u001B[0m\u001B[0;34m\u001B[0m\u001B[0;34m\u001B[0m\u001B[0m\n\u001B[1;32m   1624\u001B[0m         \u001B[0mkwds\u001B[0m\u001B[0;34m[\u001B[0m\u001B[0;34m'data'\u001B[0m\u001B[0;34m]\u001B[0m \u001B[0;34m=\u001B[0m \u001B[0mdata\u001B[0m\u001B[0;34m\u001B[0m\u001B[0;34m\u001B[0m\u001B[0m\n\u001B[0;32m-> 1625\u001B[0;31m         \u001B[0mself\u001B[0m\u001B[0;34m.\u001B[0m\u001B[0m_load_dictionary\u001B[0m\u001B[0;34m(\u001B[0m\u001B[0mkwds\u001B[0m\u001B[0;34m)\u001B[0m\u001B[0;34m\u001B[0m\u001B[0;34m\u001B[0m\u001B[0m\n\u001B[0m\u001B[1;32m   1626\u001B[0m         \u001B[0mself\u001B[0m\u001B[0;34m.\u001B[0m\u001B[0m_plot\u001B[0m \u001B[0;34m=\u001B[0m \u001B[0;32mNone\u001B[0m\u001B[0;34m\u001B[0m\u001B[0;34m\u001B[0m\u001B[0m\n\u001B[1;32m   1627\u001B[0m         \u001B[0mself\u001B[0m\u001B[0;34m.\u001B[0m\u001B[0minav\u001B[0m \u001B[0;34m=\u001B[0m \u001B[0mSpecialSlicersSignal\u001B[0m\u001B[0;34m(\u001B[0m\u001B[0mself\u001B[0m\u001B[0;34m,\u001B[0m \u001B[0;32mTrue\u001B[0m\u001B[0;34m)\u001B[0m\u001B[0;34m\u001B[0m\u001B[0;34m\u001B[0m\u001B[0m\n",
      "\u001B[0;32m~/anaconda3/envs/mib2hspyV2/lib/python3.8/site-packages/hyperspy/signal.py\u001B[0m in \u001B[0;36m_load_dictionary\u001B[0;34m(self, file_data_dict)\u001B[0m\n\u001B[1;32m   1862\u001B[0m         \u001B[0;32mif\u001B[0m \u001B[0;34m'axes'\u001B[0m \u001B[0;32mnot\u001B[0m \u001B[0;32min\u001B[0m \u001B[0mfile_data_dict\u001B[0m\u001B[0;34m:\u001B[0m\u001B[0;34m\u001B[0m\u001B[0;34m\u001B[0m\u001B[0m\n\u001B[1;32m   1863\u001B[0m             \u001B[0mfile_data_dict\u001B[0m\u001B[0;34m[\u001B[0m\u001B[0;34m'axes'\u001B[0m\u001B[0;34m]\u001B[0m \u001B[0;34m=\u001B[0m \u001B[0mself\u001B[0m\u001B[0;34m.\u001B[0m\u001B[0m_get_undefined_axes_list\u001B[0m\u001B[0;34m(\u001B[0m\u001B[0;34m)\u001B[0m\u001B[0;34m\u001B[0m\u001B[0;34m\u001B[0m\u001B[0m\n\u001B[0;32m-> 1864\u001B[0;31m         self.axes_manager = AxesManager(\n\u001B[0m\u001B[1;32m   1865\u001B[0m             file_data_dict['axes'])\n\u001B[1;32m   1866\u001B[0m         \u001B[0;32mif\u001B[0m \u001B[0;34m'metadata'\u001B[0m \u001B[0;32mnot\u001B[0m \u001B[0;32min\u001B[0m \u001B[0mfile_data_dict\u001B[0m\u001B[0;34m:\u001B[0m\u001B[0;34m\u001B[0m\u001B[0;34m\u001B[0m\u001B[0m\n",
      "\u001B[0;32m~/anaconda3/envs/mib2hspyV2/lib/python3.8/site-packages/hyperspy/axes.py\u001B[0m in \u001B[0;36m__init__\u001B[0;34m(self, axes_list)\u001B[0m\n\u001B[1;32m    745\u001B[0m             \u001B[0mobj\u001B[0m \u001B[0;34m:\u001B[0m \u001B[0mThe\u001B[0m \u001B[0mAxesManager\u001B[0m \u001B[0mthat\u001B[0m \u001B[0mthe\u001B[0m \u001B[0mevent\u001B[0m \u001B[0mbelongs\u001B[0m \u001B[0mto\u001B[0m\u001B[0;34m.\u001B[0m\u001B[0;34m\u001B[0m\u001B[0;34m\u001B[0m\u001B[0m\n\u001B[1;32m    746\u001B[0m             \"\"\", arguments=['obj'])\n\u001B[0;32m--> 747\u001B[0;31m         \u001B[0mself\u001B[0m\u001B[0;34m.\u001B[0m\u001B[0mcreate_axes\u001B[0m\u001B[0;34m(\u001B[0m\u001B[0maxes_list\u001B[0m\u001B[0;34m)\u001B[0m\u001B[0;34m\u001B[0m\u001B[0;34m\u001B[0m\u001B[0m\n\u001B[0m\u001B[1;32m    748\u001B[0m         \u001B[0;31m# set_signal_dimension is called only if there is no current\u001B[0m\u001B[0;34m\u001B[0m\u001B[0;34m\u001B[0m\u001B[0;34m\u001B[0m\u001B[0m\n\u001B[1;32m    749\u001B[0m         \u001B[0;31m# view. It defaults to spectrum\u001B[0m\u001B[0;34m\u001B[0m\u001B[0;34m\u001B[0m\u001B[0;34m\u001B[0m\u001B[0m\n",
      "\u001B[0;32m~/anaconda3/envs/mib2hspyV2/lib/python3.8/site-packages/hyperspy/axes.py\u001B[0m in \u001B[0;36mcreate_axes\u001B[0;34m(self, axes_list)\u001B[0m\n\u001B[1;32m    928\u001B[0m             \u001B[0maxes_list\u001B[0m\u001B[0;34m.\u001B[0m\u001B[0msort\u001B[0m\u001B[0;34m(\u001B[0m\u001B[0mkey\u001B[0m\u001B[0;34m=\u001B[0m\u001B[0;32mlambda\u001B[0m \u001B[0mx\u001B[0m\u001B[0;34m:\u001B[0m \u001B[0mx\u001B[0m\u001B[0;34m[\u001B[0m\u001B[0;34m'index_in_array'\u001B[0m\u001B[0;34m]\u001B[0m\u001B[0;34m)\u001B[0m\u001B[0;34m\u001B[0m\u001B[0;34m\u001B[0m\u001B[0m\n\u001B[1;32m    929\u001B[0m         \u001B[0;32mfor\u001B[0m \u001B[0maxis_dict\u001B[0m \u001B[0;32min\u001B[0m \u001B[0maxes_list\u001B[0m\u001B[0;34m:\u001B[0m\u001B[0;34m\u001B[0m\u001B[0;34m\u001B[0m\u001B[0m\n\u001B[0;32m--> 930\u001B[0;31m             \u001B[0mself\u001B[0m\u001B[0;34m.\u001B[0m\u001B[0m_append_axis\u001B[0m\u001B[0;34m(\u001B[0m\u001B[0;34m**\u001B[0m\u001B[0maxis_dict\u001B[0m\u001B[0;34m)\u001B[0m\u001B[0;34m\u001B[0m\u001B[0;34m\u001B[0m\u001B[0m\n\u001B[0m\u001B[1;32m    931\u001B[0m \u001B[0;34m\u001B[0m\u001B[0m\n\u001B[1;32m    932\u001B[0m     \u001B[0;32mdef\u001B[0m \u001B[0m_update_max_index\u001B[0m\u001B[0;34m(\u001B[0m\u001B[0mself\u001B[0m\u001B[0;34m)\u001B[0m\u001B[0;34m:\u001B[0m\u001B[0;34m\u001B[0m\u001B[0;34m\u001B[0m\u001B[0m\n",
      "\u001B[0;32m~/anaconda3/envs/mib2hspyV2/lib/python3.8/site-packages/hyperspy/axes.py\u001B[0m in \u001B[0;36m_append_axis\u001B[0;34m(self, *args, **kwargs)\u001B[0m\n\u001B[1;32m    971\u001B[0m \u001B[0;34m\u001B[0m\u001B[0m\n\u001B[1;32m    972\u001B[0m     \u001B[0;32mdef\u001B[0m \u001B[0m_append_axis\u001B[0m\u001B[0;34m(\u001B[0m\u001B[0mself\u001B[0m\u001B[0;34m,\u001B[0m \u001B[0;34m*\u001B[0m\u001B[0margs\u001B[0m\u001B[0;34m,\u001B[0m \u001B[0;34m**\u001B[0m\u001B[0mkwargs\u001B[0m\u001B[0;34m)\u001B[0m\u001B[0;34m:\u001B[0m\u001B[0;34m\u001B[0m\u001B[0;34m\u001B[0m\u001B[0m\n\u001B[0;32m--> 973\u001B[0;31m         \u001B[0maxis\u001B[0m \u001B[0;34m=\u001B[0m \u001B[0mDataAxis\u001B[0m\u001B[0;34m(\u001B[0m\u001B[0;34m*\u001B[0m\u001B[0margs\u001B[0m\u001B[0;34m,\u001B[0m \u001B[0;34m**\u001B[0m\u001B[0mkwargs\u001B[0m\u001B[0;34m)\u001B[0m\u001B[0;34m\u001B[0m\u001B[0;34m\u001B[0m\u001B[0m\n\u001B[0m\u001B[1;32m    974\u001B[0m         \u001B[0maxis\u001B[0m\u001B[0;34m.\u001B[0m\u001B[0maxes_manager\u001B[0m \u001B[0;34m=\u001B[0m \u001B[0mself\u001B[0m\u001B[0;34m\u001B[0m\u001B[0;34m\u001B[0m\u001B[0m\n\u001B[1;32m    975\u001B[0m         \u001B[0mself\u001B[0m\u001B[0;34m.\u001B[0m\u001B[0m_axes\u001B[0m\u001B[0;34m.\u001B[0m\u001B[0mappend\u001B[0m\u001B[0;34m(\u001B[0m\u001B[0maxis\u001B[0m\u001B[0;34m)\u001B[0m\u001B[0;34m\u001B[0m\u001B[0;34m\u001B[0m\u001B[0m\n",
      "\u001B[0;32m~/anaconda3/envs/mib2hspyV2/lib/python3.8/site-packages/hyperspy/axes.py\u001B[0m in \u001B[0;36m__init__\u001B[0;34m(self, size, index_in_array, name, scale, offset, units, navigate)\u001B[0m\n\u001B[1;32m    262\u001B[0m         \u001B[0mself\u001B[0m\u001B[0;34m.\u001B[0m\u001B[0mhigh_index\u001B[0m \u001B[0;34m=\u001B[0m \u001B[0mself\u001B[0m\u001B[0;34m.\u001B[0m\u001B[0msize\u001B[0m \u001B[0;34m-\u001B[0m \u001B[0;36m1\u001B[0m\u001B[0;34m\u001B[0m\u001B[0;34m\u001B[0m\u001B[0m\n\u001B[1;32m    263\u001B[0m         \u001B[0mself\u001B[0m\u001B[0;34m.\u001B[0m\u001B[0mlow_index\u001B[0m \u001B[0;34m=\u001B[0m \u001B[0;36m0\u001B[0m\u001B[0;34m\u001B[0m\u001B[0;34m\u001B[0m\u001B[0m\n\u001B[0;32m--> 264\u001B[0;31m         \u001B[0mself\u001B[0m\u001B[0;34m.\u001B[0m\u001B[0mindex\u001B[0m \u001B[0;34m=\u001B[0m \u001B[0;36m0\u001B[0m\u001B[0;34m\u001B[0m\u001B[0;34m\u001B[0m\u001B[0m\n\u001B[0m\u001B[1;32m    265\u001B[0m         \u001B[0mself\u001B[0m\u001B[0;34m.\u001B[0m\u001B[0mupdate_axis\u001B[0m\u001B[0;34m(\u001B[0m\u001B[0;34m)\u001B[0m\u001B[0;34m\u001B[0m\u001B[0;34m\u001B[0m\u001B[0m\n\u001B[1;32m    266\u001B[0m         \u001B[0mself\u001B[0m\u001B[0;34m.\u001B[0m\u001B[0mnavigate\u001B[0m \u001B[0;34m=\u001B[0m \u001B[0mnavigate\u001B[0m\u001B[0;34m\u001B[0m\u001B[0;34m\u001B[0m\u001B[0m\n",
      "\u001B[0;32m~/anaconda3/envs/mib2hspyV2/lib/python3.8/site-packages/traits/trait_types.py\u001B[0m in \u001B[0;36m_set\u001B[0;34m(self, object, name, value)\u001B[0m\n\u001B[1;32m   1798\u001B[0m                 \u001B[0;32mpass\u001B[0m\u001B[0;34m\u001B[0m\u001B[0;34m\u001B[0m\u001B[0m\n\u001B[1;32m   1799\u001B[0m \u001B[0;34m\u001B[0m\u001B[0m\n\u001B[0;32m-> 1800\u001B[0;31m         \u001B[0mself\u001B[0m\u001B[0;34m.\u001B[0m\u001B[0merror\u001B[0m\u001B[0;34m(\u001B[0m\u001B[0mobject\u001B[0m\u001B[0;34m,\u001B[0m \u001B[0mname\u001B[0m\u001B[0;34m,\u001B[0m \u001B[0mvalue\u001B[0m\u001B[0;34m)\u001B[0m\u001B[0;34m\u001B[0m\u001B[0;34m\u001B[0m\u001B[0m\n\u001B[0m\u001B[1;32m   1801\u001B[0m \u001B[0;34m\u001B[0m\u001B[0m\n\u001B[1;32m   1802\u001B[0m     \u001B[0;32mdef\u001B[0m \u001B[0m_typed_value\u001B[0m\u001B[0;34m(\u001B[0m\u001B[0mself\u001B[0m\u001B[0;34m,\u001B[0m \u001B[0mvalue\u001B[0m\u001B[0;34m,\u001B[0m \u001B[0mlow\u001B[0m\u001B[0;34m,\u001B[0m \u001B[0mhigh\u001B[0m\u001B[0;34m)\u001B[0m\u001B[0;34m:\u001B[0m\u001B[0;34m\u001B[0m\u001B[0;34m\u001B[0m\u001B[0m\n",
      "\u001B[0;32m~/anaconda3/envs/mib2hspyV2/lib/python3.8/site-packages/traits/base_trait_handler.py\u001B[0m in \u001B[0;36merror\u001B[0;34m(self, object, name, value)\u001B[0m\n\u001B[1;32m     72\u001B[0m             \u001B[0mThe\u001B[0m \u001B[0mproposed\u001B[0m \u001B[0mnew\u001B[0m \u001B[0mvalue\u001B[0m \u001B[0;32mfor\u001B[0m \u001B[0mthe\u001B[0m \u001B[0mattribute\u001B[0m\u001B[0;34m.\u001B[0m\u001B[0;34m\u001B[0m\u001B[0;34m\u001B[0m\u001B[0m\n\u001B[1;32m     73\u001B[0m         \"\"\"\n\u001B[0;32m---> 74\u001B[0;31m         raise TraitError(\n\u001B[0m\u001B[1;32m     75\u001B[0m             \u001B[0mobject\u001B[0m\u001B[0;34m,\u001B[0m \u001B[0mname\u001B[0m\u001B[0;34m,\u001B[0m \u001B[0mself\u001B[0m\u001B[0;34m.\u001B[0m\u001B[0mfull_info\u001B[0m\u001B[0;34m(\u001B[0m\u001B[0mobject\u001B[0m\u001B[0;34m,\u001B[0m \u001B[0mname\u001B[0m\u001B[0;34m,\u001B[0m \u001B[0mvalue\u001B[0m\u001B[0;34m)\u001B[0m\u001B[0;34m,\u001B[0m \u001B[0mvalue\u001B[0m\u001B[0;34m\u001B[0m\u001B[0;34m\u001B[0m\u001B[0m\n\u001B[1;32m     76\u001B[0m         )\n",
      "\u001B[0;31mTraitError\u001B[0m: The 'index' trait of a DataAxis instance must be 0 <= a number <= -1, but a value of 0 <class 'int'> was specified."
     ]
    }
   ],
   "source": [
    "vbf = converter.get_square_vbf()\n",
    "vbf.plot()"
   ],
   "metadata": {
    "collapsed": false,
    "pycharm": {
     "name": "#%%\n"
    }
   }
  },
  {
   "cell_type": "code",
   "execution_count": null,
   "outputs": [],
   "source": [
    "converter.plot_VBF('box')"
   ],
   "metadata": {
    "collapsed": false,
    "pycharm": {
     "name": "#%%\n"
    }
   }
  },
  {
   "cell_type": "code",
   "execution_count": 19,
   "outputs": [],
   "source": [
    "import numpy as np"
   ],
   "metadata": {
    "collapsed": false,
    "pycharm": {
     "name": "#%%\n"
    }
   }
  },
  {
   "cell_type": "code",
   "execution_count": 27,
   "outputs": [
    {
     "name": "stdout",
     "output_type": "stream",
     "text": [
      "128\n"
     ]
    }
   ],
   "source": [
    "cx =\n",
    "print(cx)"
   ],
   "metadata": {
    "collapsed": false,
    "pycharm": {
     "name": "#%%\n"
    }
   }
  },
  {
   "cell_type": "code",
   "execution_count": 25,
   "outputs": [
    {
     "data": {
      "text/plain": "-128.0"
     },
     "execution_count": 25,
     "metadata": {},
     "output_type": "execute_result"
    }
   ],
   "source": [],
   "metadata": {
    "collapsed": false,
    "pycharm": {
     "name": "#%%\n"
    }
   }
  },
  {
   "cell_type": "code",
   "execution_count": 35,
   "outputs": [
    {
     "data": {
      "text/plain": "128.0"
     },
     "execution_count": 35,
     "metadata": {},
     "output_type": "execute_result"
    }
   ],
   "source": [
    "axis = 0\n",
    "converter.data.axes_manager[axis].axis[int(converter.data.axes_manager[axis].size/2)]"
   ],
   "metadata": {
    "collapsed": false,
    "pycharm": {
     "name": "#%%\n"
    }
   }
  },
  {
   "cell_type": "code",
   "execution_count": null,
   "outputs": [],
   "source": [
    "cx = int(converter.data.axes_manager[-2].size + converter.data.axes_manager[-2].offset / converter.data.axes_manager[-2].scale)\n",
    "cy = int(converter.data.axes_manager[-1].size + converter.data.axes_manager[-1].offset / converter.data.axes_manager[-1].scale)\n",
    "half_width = int(10 / 2)\n",
    "print(cx, cy)"
   ],
   "metadata": {
    "collapsed": false,
    "pycharm": {
     "name": "#%%\n"
    }
   }
  },
  {
   "cell_type": "code",
   "execution_count": null,
   "outputs": [],
   "source": [
    "vbf = converter.data.isig[int(cx - half_width):int(cx + half_width), int(cy - half_width):int(cy + half_width)].sum(axis=np.arange(converter.dimension - 2, converter.dimension))"
   ],
   "metadata": {
    "collapsed": false,
    "pycharm": {
     "name": "#%%\n"
    }
   }
  },
  {
   "cell_type": "code",
   "execution_count": 33,
   "outputs": [],
   "source": [
    "vbf.plot()"
   ],
   "metadata": {
    "collapsed": false,
    "pycharm": {
     "name": "#%%\n"
    }
   }
  },
  {
   "cell_type": "code",
   "execution_count": 18,
   "outputs": [],
   "source": [
    "converter.data.plot()"
   ],
   "metadata": {
    "collapsed": false,
    "pycharm": {
     "name": "#%%\n"
    }
   }
  },
  {
   "cell_type": "code",
   "execution_count": null,
   "outputs": [],
   "source": [
    "converter.write('.png', height=0.01, num_frames=2)"
   ],
   "metadata": {
    "collapsed": false,
    "pycharm": {
     "name": "#%%\n"
    }
   }
  },
  {
   "cell_type": "code",
   "execution_count": 9,
   "outputs": [
    {
     "name": "stdout",
     "output_type": "stream",
     "text": [
      "<LazyElectronDiffraction2D, title: , dimensions: (|256, 256)>\n",
      "1\n"
     ]
    }
   ],
   "source": [
    "print(frame)\n",
    "print(len(frame))"
   ],
   "metadata": {
    "collapsed": false,
    "pycharm": {
     "name": "#%%\n"
    }
   }
  },
  {
   "cell_type": "code",
   "execution_count": 10,
   "outputs": [
    {
     "data": {
      "text/plain": "-1.7324865161109209"
     },
     "execution_count": 10,
     "metadata": {},
     "output_type": "execute_result"
    }
   ],
   "source": [
    "min(frame.axes_manager[-2].axis)"
   ],
   "metadata": {
    "collapsed": false,
    "pycharm": {
     "name": "#%%\n"
    }
   }
  },
  {
   "cell_type": "code",
   "execution_count": 7,
   "outputs": [],
   "source": [],
   "metadata": {
    "collapsed": false,
    "pycharm": {
     "name": "#%%\n"
    }
   }
  },
  {
   "cell_type": "code",
   "execution_count": null,
   "outputs": [],
   "source": [
    "converter.data.plot()"
   ],
   "metadata": {
    "collapsed": false,
    "pycharm": {
     "name": "#%%\n"
    }
   }
  },
  {
   "cell_type": "code",
   "execution_count": 4,
   "outputs": [
    {
     "name": "stderr",
     "output_type": "stream",
     "text": [
      "C:\\Users\\emilc\\Documents\\mib2hspy\\mib2hspy\\Tools\\conversion.py:396: UserWarning: Preparing plots for a stack is not advised.\n",
      "  warn('Preparing plots for a stack is not advised.')\n"
     ]
    },
    {
     "ename": "WriteError",
     "evalue": "'DataAxis' object is not iterable",
     "output_type": "error",
     "traceback": [
      "\u001B[1;31m---------------------------------------------------------------------------\u001B[0m",
      "\u001B[1;31mTypeError\u001B[0m                                 Traceback (most recent call last)",
      "\u001B[1;32m~\\Documents\\mib2hspy\\mib2hspy\\Tools\\conversion.py\u001B[0m in \u001B[0;36mwrite\u001B[1;34m(self, extension, overwrite, **kwargs)\u001B[0m\n\u001B[0;32m    450\u001B[0m                 \u001B[1;32mif\u001B[0m \u001B[0mextension\u001B[0m \u001B[1;32min\u001B[0m \u001B[1;33m[\u001B[0m\u001B[1;34m'.png'\u001B[0m\u001B[1;33m,\u001B[0m \u001B[1;34m'.jpg'\u001B[0m\u001B[1;33m,\u001B[0m \u001B[1;34m'.bmp'\u001B[0m\u001B[1;33m,\u001B[0m \u001B[1;34m'.tiff'\u001B[0m\u001B[1;33m,\u001B[0m \u001B[1;34m'.tif'\u001B[0m\u001B[1;33m]\u001B[0m\u001B[1;33m:\u001B[0m\u001B[1;33m\u001B[0m\u001B[1;33m\u001B[0m\u001B[0m\n\u001B[1;32m--> 451\u001B[1;33m                     \u001B[0mself\u001B[0m\u001B[1;33m.\u001B[0m\u001B[0msave_plot\u001B[0m\u001B[1;33m(\u001B[0m\u001B[0mextension\u001B[0m\u001B[1;33m,\u001B[0m \u001B[1;33m**\u001B[0m\u001B[0mkwargs\u001B[0m\u001B[1;33m)\u001B[0m\u001B[1;33m\u001B[0m\u001B[1;33m\u001B[0m\u001B[0m\n\u001B[0m\u001B[0;32m    452\u001B[0m                 \u001B[1;32melse\u001B[0m\u001B[1;33m:\u001B[0m\u001B[1;33m\u001B[0m\u001B[1;33m\u001B[0m\u001B[0m\n",
      "\u001B[1;32m~\\Documents\\mib2hspy\\mib2hspy\\Tools\\conversion.py\u001B[0m in \u001B[0;36msave_plot\u001B[1;34m(self, extension, toggle_prompt, **kwargs)\u001B[0m\n\u001B[0;32m    503\u001B[0m                 \u001B[1;32mfor\u001B[0m \u001B[0my\u001B[0m \u001B[1;32min\u001B[0m \u001B[0mys\u001B[0m\u001B[1;33m:\u001B[0m\u001B[1;33m\u001B[0m\u001B[1;33m\u001B[0m\u001B[0m\n\u001B[1;32m--> 504\u001B[1;33m                     self.prepare_plot(inav=(x, y), **kwargs).savefig(self.data_path.with_name(\n\u001B[0m\u001B[0;32m    505\u001B[0m                         '{self.data_path.stem}_{x:06.0f}_{y:06.0f}{self.data_path.suffix}'.format(self=self, x=x, y=y)))\n",
      "\u001B[1;32m~\\Documents\\mib2hspy\\mib2hspy\\Tools\\conversion.py\u001B[0m in \u001B[0;36mprepare_plot\u001B[1;34m(self, dpi, figsize, logarithm, inav, **kwargs)\u001B[0m\n\u001B[0;32m    425\u001B[0m             \u001B[0mimage\u001B[0m \u001B[1;33m=\u001B[0m \u001B[0mnp\u001B[0m\u001B[1;33m.\u001B[0m\u001B[0mlog10\u001B[0m\u001B[1;33m(\u001B[0m\u001B[0mimage\u001B[0m\u001B[1;33m)\u001B[0m\u001B[1;33m\u001B[0m\u001B[1;33m\u001B[0m\u001B[0m\n\u001B[1;32m--> 426\u001B[1;33m         extent = [min(self.data.axes_manager[-2].axis), max(self.data.axes_manager[-2]).axis,\n\u001B[0m\u001B[0;32m    427\u001B[0m                   min(self.data.axes_manager[-1].axis), max(self.data.axes_manager[-1]).axis]\n",
      "\u001B[1;31mTypeError\u001B[0m: 'DataAxis' object is not iterable",
      "\nDuring handling of the above exception, another exception occurred:\n",
      "\u001B[1;31mWriteError\u001B[0m                                Traceback (most recent call last)",
      "\u001B[1;32m<ipython-input-4-c1f1d479b277>\u001B[0m in \u001B[0;36m<module>\u001B[1;34m\u001B[0m\n\u001B[1;32m----> 1\u001B[1;33m \u001B[0mconverter\u001B[0m\u001B[1;33m.\u001B[0m\u001B[0mwrite\u001B[0m\u001B[1;33m(\u001B[0m\u001B[1;34m'.jpg'\u001B[0m\u001B[1;33m,\u001B[0m \u001B[0minav\u001B[0m\u001B[1;33m=\u001B[0m\u001B[1;33m(\u001B[0m\u001B[1;36m0\u001B[0m\u001B[1;33m,\u001B[0m\u001B[1;36m0\u001B[0m\u001B[1;33m)\u001B[0m\u001B[1;33m)\u001B[0m\u001B[1;33m\u001B[0m\u001B[1;33m\u001B[0m\u001B[0m\n\u001B[0m\u001B[0;32m      2\u001B[0m \u001B[1;33m\u001B[0m\u001B[0m\n",
      "\u001B[1;32m~\\Documents\\mib2hspy\\mib2hspy\\Tools\\conversion.py\u001B[0m in \u001B[0;36mwrite\u001B[1;34m(self, extension, overwrite, **kwargs)\u001B[0m\n\u001B[0;32m    453\u001B[0m                     \u001B[0mself\u001B[0m\u001B[1;33m.\u001B[0m\u001B[0mdata\u001B[0m\u001B[1;33m.\u001B[0m\u001B[0msave\u001B[0m\u001B[1;33m(\u001B[0m\u001B[0moutput_path\u001B[0m\u001B[1;33m,\u001B[0m \u001B[0moverwrite\u001B[0m\u001B[1;33m=\u001B[0m\u001B[0moverwrite\u001B[0m\u001B[1;33m)\u001B[0m\u001B[1;33m\u001B[0m\u001B[1;33m\u001B[0m\u001B[0m\n\u001B[0;32m    454\u001B[0m             \u001B[1;32mexcept\u001B[0m \u001B[0mException\u001B[0m \u001B[1;32mas\u001B[0m \u001B[0me\u001B[0m\u001B[1;33m:\u001B[0m\u001B[1;33m\u001B[0m\u001B[1;33m\u001B[0m\u001B[0m\n\u001B[1;32m--> 455\u001B[1;33m                 \u001B[1;32mraise\u001B[0m \u001B[0mWriteError\u001B[0m\u001B[1;33m(\u001B[0m\u001B[0me\u001B[0m\u001B[1;33m)\u001B[0m\u001B[1;33m\u001B[0m\u001B[1;33m\u001B[0m\u001B[0m\n\u001B[0m\u001B[0;32m    456\u001B[0m         \u001B[1;32melse\u001B[0m\u001B[1;33m:\u001B[0m\u001B[1;33m\u001B[0m\u001B[1;33m\u001B[0m\u001B[0m\n\u001B[0;32m    457\u001B[0m             \u001B[1;32mraise\u001B[0m \u001B[0mWriteError\u001B[0m\u001B[1;33m(\u001B[0m\u001B[1;34m'Can not write data before it is set!'\u001B[0m\u001B[1;33m)\u001B[0m\u001B[1;33m\u001B[0m\u001B[1;33m\u001B[0m\u001B[0m\n",
      "\u001B[1;31mWriteError\u001B[0m: 'DataAxis' object is not iterable"
     ]
    }
   ],
   "source": [],
   "metadata": {
    "collapsed": false,
    "pycharm": {
     "name": "#%%\n"
    }
   }
  },
  {
   "cell_type": "code",
   "execution_count": 10,
   "outputs": [],
   "source": [
    "converter.data.save(str(converter.data_path.with_suffix('.hspy')), overwrite=True, chunks=converter._chunks)"
   ],
   "metadata": {
    "collapsed": false,
    "pycharm": {
     "name": "#%%\n"
    }
   }
  },
  {
   "cell_type": "code",
   "execution_count": null,
   "outputs": [],
   "source": [
    "converter.writ"
   ],
   "metadata": {
    "collapsed": false,
    "pycharm": {
     "name": "#%%\n"
    }
   }
  },
  {
   "cell_type": "code",
   "execution_count": 6,
   "outputs": [],
   "source": [
    "signal = hs.load(str(converter.data_path.with_suffix('.hspy')))"
   ],
   "metadata": {
    "collapsed": false,
    "pycharm": {
     "name": "#%%\n"
    }
   }
  },
  {
   "cell_type": "code",
   "execution_count": 7,
   "outputs": [
    {
     "name": "stdout",
     "output_type": "stream",
     "text": [
      "<ElectronDiffraction2D, title: , dimensions: (100, 100|256, 256)>\n",
      "<Axes manager, axes: (100, 100|256, 256)>\n",
      "            Name |   size |  index |  offset |   scale |  units \n",
      "================ | ====== | ====== | ======= | ======= | ====== \n",
      "     <undefined> |    100 |      0 |       0 |       1 | <undefined> \n",
      "     <undefined> |    100 |      0 |       0 |       1 | <undefined> \n",
      "---------------- | ------ | ------ | ------- | ------- | ------ \n",
      "              kx |    256 |        |    -1.7 |   0.014 | $A^{-1}$ \n",
      "              ky |    256 |        |    -1.7 |   0.014 | $A^{-1}$ \n",
      "├── Acquisition_instrument\n",
      "│   └── TEM\n",
      "│       ├── Detector\n",
      "│       │   └── Diffraction\n",
      "│       │       └── camera_length = 16.20267322524813\n",
      "│       ├── beam_energy = 200000\n",
      "│       ├── convergence_angle = nan\n",
      "│       ├── rocking_angle = nan\n",
      "│       └── rocking_frequency = nan\n",
      "├── General\n",
      "│   └── title = \n",
      "└── Signal\n",
      "    ├── binned = False\n",
      "    └── signal_type = electron_diffraction\n",
      "\n",
      "├── Acquisition_instrument\n",
      "│   └── Parameters\n",
      "│       ├── acceleration_voltage\n",
      "│       │   ├── Units = V\n",
      "│       │   └── Value = 200000\n",
      "│       ├── acquisition_date\n",
      "│       │   ├── Units = \n",
      "│       │   └── Value = None\n",
      "│       ├── alpha\n",
      "│       │   ├── Units = \n",
      "│       │   └── Value = nan\n",
      "│       ├── camera\n",
      "│       │   ├── Units = \n",
      "│       │   └── Value = Merlin\n",
      "│       ├── cameralength\n",
      "│       │   ├── Actual value = 16.20267322524813\n",
      "│       │   ├── Nominal value = 8\n",
      "│       │   └── Units = cm\n",
      "│       ├── condenser_aperture\n",
      "│       │   ├── Actual value = nan\n",
      "│       │   ├── Nominal value = nan\n",
      "│       │   └── Units = um\n",
      "│       ├── convergence_angle\n",
      "│       │   ├── Actual value = nan\n",
      "│       │   ├── Nominal value = nan\n",
      "│       │   └── Units = mrad\n",
      "│       ├── exposure_time\n",
      "│       │   ├── Units = ms\n",
      "│       │   └── Value = nan\n",
      "│       ├── mag_mode\n",
      "│       │   ├── Units = \n",
      "│       │   └── Value = None\n",
      "│       ├── magnification\n",
      "│       │   ├── Actual value = nan\n",
      "│       │   ├── Nominal value = nan\n",
      "│       │   └── Units = \n",
      "│       ├── microscope\n",
      "│       │   ├── Units = \n",
      "│       │   └── Value = 2100F\n",
      "│       ├── mode\n",
      "│       │   ├── Units = \n",
      "│       │   └── Value = None\n",
      "│       ├── rocking_angle\n",
      "│       │   ├── Actual value = nan\n",
      "│       │   ├── Nominal value = nan\n",
      "│       │   └── Units = deg\n",
      "│       ├── rocking_frequency\n",
      "│       │   ├── Units = Hz\n",
      "│       │   └── Value = nan\n",
      "│       ├── scale\n",
      "│       │   ├── Units = 1/Å\n",
      "│       │   └── Value = 0.01353505090711657\n",
      "│       ├── spot\n",
      "│       │   ├── Units = \n",
      "│       │   └── Value = nan\n",
      "│       ├── spotsize\n",
      "│       │   ├── Actual value = nan\n",
      "│       │   ├── Nominal value = nan\n",
      "│       │   └── Units = nm\n",
      "│       ├── step_x\n",
      "│       │   ├── Actual value = nan\n",
      "│       │   ├── Nominal value = nan\n",
      "│       │   └── Units = nm\n",
      "│       └── step_y\n",
      "│           ├── Actual value = nan\n",
      "│           ├── Nominal value = nan\n",
      "│           └── Units = nm\n",
      "└── Header\n",
      "    ├── acquisitiontype(normal,th_scan,config) = \n",
      "    ├── activecounters = \n",
      "    ├── assemblysize(nx1,2x2) = \n",
      "    ├── bpcfile = \n",
      "    ├── chipid = \n",
      "    ├── chipmode(spm,csm,cm,cscm) = \n",
      "    ├── chiptype(medipix3.0,medipix3.1,medipix3rx) = \n",
      "    ├── counterdepth(number) = \n",
      "    ├── dacfile = \n",
      "    ├── dacs = \n",
      "    ├── deadtimefile = \n",
      "    ├── flatfieldfile = \n",
      "    ├── framesinacquisition(number) = \n",
      "    ├── framespertrigger(number) = \n",
      "    ├── gain = \n",
      "    ├── gapfillmode = \n",
      "    ├── humidity(%) = \n",
      "    ├── medipixclock(mhz) = \n",
      "    ├── readoutsystem = \n",
      "    ├── sensorbias(v) = \n",
      "    ├── sensorpolarity(positive,negative) = \n",
      "    ├── softwareversion = \n",
      "    ├── temperature(c) = \n",
      "    ├── thresholds(kev) = \n",
      "    ├── timeanddatestamp(day,mnth,yr,hr,min,s) = \n",
      "    ├── triggerstart(positive,negative,internal) = \n",
      "    └── triggerstop(positive,negative,internal) = \n",
      "\n"
     ]
    }
   ],
   "source": [
    "print(signal)\n",
    "print(signal.axes_manager)\n",
    "print(signal.metadata)\n",
    "print(signal.original_metadata)\n",
    "#signal.original_metadata"
   ],
   "metadata": {
    "collapsed": false,
    "pycharm": {
     "name": "#%%\n"
    }
   }
  },
  {
   "cell_type": "code",
   "execution_count": 7,
   "outputs": [
    {
     "data": {
      "text/plain": "-1.7324865161109209"
     },
     "execution_count": 7,
     "metadata": {},
     "output_type": "execute_result"
    }
   ],
   "source": [
    "min(converter.data.axes_manager[-2].axis)"
   ],
   "metadata": {
    "collapsed": false,
    "pycharm": {
     "name": "#%%\n"
    }
   }
  },
  {
   "cell_type": "code",
   "execution_count": null,
   "outputs": [],
   "source": [
    "signal.plot()"
   ],
   "metadata": {
    "collapsed": false,
    "pycharm": {
     "name": "#%%\n"
    }
   }
  },
  {
   "cell_type": "code",
   "execution_count": 16,
   "outputs": [
    {
     "data": {
      "text/plain": "(32, 32, 32, 32)"
     },
     "execution_count": 16,
     "metadata": {},
     "output_type": "execute_result"
    }
   ],
   "source": [
    "tuple([32]*len(np.shape(converter.data)))"
   ],
   "metadata": {
    "collapsed": false,
    "pycharm": {
     "name": "#%%\n"
    }
   }
  },
  {
   "cell_type": "code",
   "execution_count": 3,
   "outputs": [
    {
     "name": "stdout",
     "output_type": "stream",
     "text": [
      "Cameralength 8: 16.2 cm\n"
     ]
    },
    {
     "data": {
      "text/plain": "  Label  Nominal Cameralength (cm)  Cameralength (cm)        Date  \\\n0  DIFF                        8.0          16.202673  2020-11-23   \n\n   Scale (1/Å)  Acceleration Voltage (V) Mag mode  Camera Microscope  \\\n0     0.013535                    200000    SAEDP  Merlin      2100F   \n\n   Scale (mrad)  Scale (deg)  \n0       0.33945     0.019449  ",
      "text/html": "<div>\n<style scoped>\n    .dataframe tbody tr th:only-of-type {\n        vertical-align: middle;\n    }\n\n    .dataframe tbody tr th {\n        vertical-align: top;\n    }\n\n    .dataframe thead th {\n        text-align: right;\n    }\n</style>\n<table border=\"1\" class=\"dataframe\">\n  <thead>\n    <tr style=\"text-align: right;\">\n      <th></th>\n      <th>Label</th>\n      <th>Nominal Cameralength (cm)</th>\n      <th>Cameralength (cm)</th>\n      <th>Date</th>\n      <th>Scale (1/Å)</th>\n      <th>Acceleration Voltage (V)</th>\n      <th>Mag mode</th>\n      <th>Camera</th>\n      <th>Microscope</th>\n      <th>Scale (mrad)</th>\n      <th>Scale (deg)</th>\n    </tr>\n  </thead>\n  <tbody>\n    <tr>\n      <th>0</th>\n      <td>DIFF</td>\n      <td>8.0</td>\n      <td>16.202673</td>\n      <td>2020-11-23</td>\n      <td>0.013535</td>\n      <td>200000</td>\n      <td>SAEDP</td>\n      <td>Merlin</td>\n      <td>2100F</td>\n      <td>0.33945</td>\n      <td>0.019449</td>\n    </tr>\n  </tbody>\n</table>\n</div>"
     },
     "execution_count": 3,
     "metadata": {},
     "output_type": "execute_result"
    }
   ],
   "source": [
    "signal = hs.load(r'C:\\Users\\emilc\\OneDrive - NTNU\\NORTEM\\Calibrations\\2100F\\Merlin\\2020_11_21_TEDPELLA673\\CL8cm.hspy')\n",
    "cl = m2h.get_calibration_from_MERLIN(signal)\n",
    "print(cl)\n",
    "cl.as_dataframe()"
   ],
   "metadata": {
    "collapsed": false,
    "pycharm": {
     "name": "#%%\n"
    }
   }
  },
  {
   "cell_type": "code",
   "execution_count": 5,
   "outputs": [
    {
     "name": "stdout",
     "output_type": "stream",
     "text": [
      "Magnification 10000: 16830\n"
     ]
    },
    {
     "data": {
      "text/plain": "  Label  Nominal Magnification ()  Magnification ()        Date  Scale (nm)  \\\n0   IMG                     10000           16830.0  2020-11-23    3.267974   \n\n  Mag mode  Camera Microscope  \n0    SAMAG  Merlin      2100F  ",
      "text/html": "<div>\n<style scoped>\n    .dataframe tbody tr th:only-of-type {\n        vertical-align: middle;\n    }\n\n    .dataframe tbody tr th {\n        vertical-align: top;\n    }\n\n    .dataframe thead th {\n        text-align: right;\n    }\n</style>\n<table border=\"1\" class=\"dataframe\">\n  <thead>\n    <tr style=\"text-align: right;\">\n      <th></th>\n      <th>Label</th>\n      <th>Nominal Magnification ()</th>\n      <th>Magnification ()</th>\n      <th>Date</th>\n      <th>Scale (nm)</th>\n      <th>Mag mode</th>\n      <th>Camera</th>\n      <th>Microscope</th>\n    </tr>\n  </thead>\n  <tbody>\n    <tr>\n      <th>0</th>\n      <td>IMG</td>\n      <td>10000</td>\n      <td>16830.0</td>\n      <td>2020-11-23</td>\n      <td>3.267974</td>\n      <td>SAMAG</td>\n      <td>Merlin</td>\n      <td>2100F</td>\n    </tr>\n  </tbody>\n</table>\n</div>"
     },
     "execution_count": 5,
     "metadata": {},
     "output_type": "execute_result"
    }
   ],
   "source": [
    "signal = hs.load(r'C:\\Users\\emilc\\OneDrive - NTNU\\NORTEM\\Calibrations\\2100F\\Merlin\\2020_11_21_TEDPELLA673\\SAMAG10k.hspy')\n",
    "mag = m2h.get_calibration_from_MERLIN(signal)\n",
    "mag.nominal_value=10000\n",
    "mag.parameters['Mag mode']='SAMAG'\n",
    "print(mag)\n",
    "mag.as_dataframe()"
   ],
   "metadata": {
    "collapsed": false,
    "pycharm": {
     "name": "#%%\n"
    }
   }
  },
  {
   "cell_type": "code",
   "execution_count": 5,
   "outputs": [
    {
     "data": {
      "text/plain": "├── Acquisition_instrument\n│   └── TEM\n│       ├── acceleration_voltage = 200000.0\n│       ├── alpha = Alpha 3\n│       ├── mode = SAEDP\n│       ├── nominal_cameralength = 8\n│       └── spot = Spot 1\n├── HDR\n│   ├── Acquisition Type (Normal, Th_scan, Config) = Normal\n│   ├── Active Counters = Counter 0\n│   ├── Assembly Size (NX1, 2X2) = 1x1\n│   ├── Chip ID = W559_G11, - , - , -\n│   ├── Chip Mode  (SPM, CSM, CM, CSCM) = SPM\n│   ├── Chip Type (Medipix 3.0, Medipix 3.1, Medipix 3RX) = Medipix 3RX\n│   ├── Counter Depth (number) = 24\n│   ├── DAC File = c:\\MERLIN_Quad_Config\\W559_G11\\W559_G11_SPM.dacs,,,\n│   ├── DACs = 068,511,000,000,000,000,000,000,100,255,100,125,100,100,080,100,090,030,128,004,255,126,128,174,172,511,511\n│   ├── Dead Time File = Dummy (C:\\<NUL>\\)\n│   ├── Flat Field File = None\n│   ├── Frames in Acquisition (Number) = 1\n│   ├── Frames per Trigger (Number) = 1\n│   ├── Gain = SLGM\n│   ├── Gap Fill Mode = None\n│   ├── Humidity (%) = Board Humidity 0.000000\n│   ├── Medipix Clock (MHz) = 160MHz\n│   ├── Readout System = Merlin Quad\n│   ├── Sensor Bias (V) = 120 V\n│   ├── Sensor Polarity (Positive, Negative) = Positive\n│   ├── Software Version = 0.73.8.1\n│   ├── Temperature (C) = Board Temp 0.000000 Deg C\n│   ├── Thresholds (keV) = 4.000000E+1,5.110000E+2,0.000000E+0,0.000000E+0,0.000000E+0,0.000000E+0,0.000000E+0,0.000000E+0\n│   ├── Time and Date Stamp (day, mnth, yr, hr, min, s) = 23/11/2020 10:30:12\n│   ├── Trigger Start (Positive, Negative, Internal) = Internal\n│   ├── Trigger Stop (Positive, Negative, Internal) = Internal\n│   └── bpc File = c:\\MERLIN_Quad_Config\\W559_G11\\W559_G11_SPM.bpc,,,\n└── Session\n    ├── Date = 2020-11-23T10:30:12\n    ├── Operator = Emil Christiansen\n    └── Specimen = TED PELLA no. 673"
     },
     "execution_count": 5,
     "metadata": {},
     "output_type": "execute_result"
    }
   ],
   "source": [
    "signal.original_metadata"
   ],
   "metadata": {
    "collapsed": false,
    "pycharm": {
     "name": "#%%\n"
    }
   }
  },
  {
   "cell_type": "code",
   "execution_count": null,
   "outputs": [],
   "source": [
    "cameralengths = [\n",
    "    (8, 16.2)\n",
    "]\n",
    "\n",
    "cl1 = m2h.Cameralength(8, 16.2, '2020-12-07',acceleration_voltage=200000, camera='Merlin')\n",
    "#cl1.calibrate_cameralength()\n",
    "cl1.calibrate_scale()\n",
    "print(cl1.as_dataframe())"
   ],
   "metadata": {
    "collapsed": false,
    "pycharm": {
     "name": "#%%\n"
    }
   }
  },
  {
   "cell_type": "code",
   "execution_count": 4,
   "outputs": [
    {
     "name": "stdout",
     "output_type": "stream",
     "text": [
      "Magnification 12000: 14300\n"
     ]
    }
   ],
   "source": [
    "mag1 = m2h.Magnification(12000, 1, '2020-12-07', scale=0.979, acceleration_voltage=200000, camera='US1000')\n",
    "#mag1.calibrate_scale()\n",
    "mag1.calibrate_magnification()\n",
    "print(mag1)"
   ],
   "metadata": {
    "collapsed": false,
    "pycharm": {
     "name": "#%%\n"
    }
   }
  },
  {
   "cell_type": "code",
   "execution_count": null,
   "outputs": [],
   "source": [
    "m1 = m2h.Magnification(8000, 12030, '2020-12-07', acceleration_voltage=200000, mode='TEM', camera='Ultrascan', mag_mode='SAMAG')\n",
    "cl1 = m2h.Cameralength(8, 16.2, '2020-12-07', scale=0.00134, spot_size=0.5, acceleration_voltage=200000, camera='Merlin')\n",
    "cl2 = m2h.Cameralength(10, 19.3, '2020-12-07', acceleration_voltage=200000, camera='Merlin')\n",
    "cl3 = m2h.Cameralength(10, 19.3, '2020-12-07', acceleration_voltage=200000, camera='Ultrascan')\n",
    "step1 = m2h.StepSize(2.5, 2.4, '2020-12-07', direction='X', mode='STEM', alpha=None)\n",
    "precession_calibration = m2h.PrecessionAngle(1.0, 1.04, 20., '2020-12-07', mode='NBD', alpha='Alpha 4', deflectors={'Upper_1': {'X': {'A':0.1, 'P':39}, 'Y': {'A': 0.5, 'P': 44}}})\n",
    "spot1 = m2h.Spotsize(3, '2020-12-07', spot_size=0.5, mode='NBD', alpha=4, acceleration_voltage=200000)\n",
    "calibrations = m2h.CalibrationList()\n",
    "calibrations+=m1\n",
    "calibrations+=cl1\n",
    "calibrations+=cl2\n",
    "calibrations+=cl3\n",
    "calibrations+=step1\n",
    "calibrations += precession_calibration\n",
    "calibrations += spot1\n",
    "#print([calibration.nominal_value for calibration in calibrations])\n",
    "print(calibrations.dataframe)\n"
   ],
   "metadata": {
    "collapsed": false,
    "pycharm": {
     "name": "#%%\n"
    }
   }
  },
  {
   "cell_type": "code",
   "execution_count": 5,
   "outputs": [
    {
     "data": {
      "text/plain": "  Label  Nominal Cameralength (cm)  Cameralength (cm)        Date  \\\n0  DIFF                        8.0               16.2  2020-12-07   \n\n   Acceleration Voltage (V)  Nominal Spotsize (nm)  Camera  Scale (mrad)  \\\n0                    200000                    0.5  Merlin      0.033606   \n\n   Scale (deg)  \n0     0.001926  ",
      "text/html": "<div>\n<style scoped>\n    .dataframe tbody tr th:only-of-type {\n        vertical-align: middle;\n    }\n\n    .dataframe tbody tr th {\n        vertical-align: top;\n    }\n\n    .dataframe thead th {\n        text-align: right;\n    }\n</style>\n<table border=\"1\" class=\"dataframe\">\n  <thead>\n    <tr style=\"text-align: right;\">\n      <th></th>\n      <th>Label</th>\n      <th>Nominal Cameralength (cm)</th>\n      <th>Cameralength (cm)</th>\n      <th>Date</th>\n      <th>Acceleration Voltage (V)</th>\n      <th>Nominal Spotsize (nm)</th>\n      <th>Camera</th>\n      <th>Scale (mrad)</th>\n      <th>Scale (deg)</th>\n    </tr>\n  </thead>\n  <tbody>\n    <tr>\n      <th>0</th>\n      <td>DIFF</td>\n      <td>8.0</td>\n      <td>16.2</td>\n      <td>2020-12-07</td>\n      <td>200000</td>\n      <td>0.5</td>\n      <td>Merlin</td>\n      <td>0.033606</td>\n      <td>0.001926</td>\n    </tr>\n  </tbody>\n</table>\n</div>"
     },
     "execution_count": 5,
     "metadata": {},
     "output_type": "execute_result"
    }
   ],
   "source": [
    "cl1.as_dataframe()\n",
    "#spot1.as_dataframe()"
   ],
   "metadata": {
    "collapsed": false,
    "pycharm": {
     "name": "#%%\n"
    }
   }
  },
  {
   "cell_type": "code",
   "execution_count": null,
   "outputs": [],
   "source": [
    "new_calibrations = m2h.generate_from_dataframe(calibrations.dataframe)\n",
    "print(new_calibrations.dataframe)"
   ],
   "metadata": {
    "collapsed": false,
    "pycharm": {
     "name": "#%%\n"
    }
   }
  },
  {
   "cell_type": "code",
   "execution_count": 5,
   "outputs": [
    {
     "data": {
      "text/plain": "  Label  Nominal Precession Angle (deg)  Precession Angle (deg)        Date  \\\n0  PREC                             1.0                    1.04  2020-12-07   \n\n  Mode    Alpha  Precession excitation (%)  Deflector Upper 1 X Amplitude (%)  \\\n0  NBD  Alpha 4                       20.0                                0.1   \n\n   Deflector Upper 1 X Phase (deg)  Deflector Upper 1 Y Amplitude (%)  ...  \\\n0                             39.0                                0.5  ...   \n\n   Deflector Upper 2 Y Amplitude (%)  Deflector Upper 2 Y Phase (deg)  \\\n0                                NaN                              NaN   \n\n   Deflector Lower 1 X Amplitude (%)  Deflector Lower 1 X Phase (deg)  \\\n0                                NaN                              NaN   \n\n   Deflector Lower 1 Y Amplitude (%)  Deflector Lower 1 Y Phase (deg)  \\\n0                                NaN                              NaN   \n\n   Deflector Lower 2 X Amplitude (%)  Deflector Lower 2 X Phase (deg)  \\\n0                                NaN                              NaN   \n\n   Deflector Lower 2 Y Amplitude (%)  Deflector Lower 2 Y Phase (deg)  \n0                                NaN                              NaN  \n\n[1 rows x 23 columns]",
      "text/html": "<div>\n<style scoped>\n    .dataframe tbody tr th:only-of-type {\n        vertical-align: middle;\n    }\n\n    .dataframe tbody tr th {\n        vertical-align: top;\n    }\n\n    .dataframe thead th {\n        text-align: right;\n    }\n</style>\n<table border=\"1\" class=\"dataframe\">\n  <thead>\n    <tr style=\"text-align: right;\">\n      <th></th>\n      <th>Label</th>\n      <th>Nominal Precession Angle (deg)</th>\n      <th>Precession Angle (deg)</th>\n      <th>Date</th>\n      <th>Mode</th>\n      <th>Alpha</th>\n      <th>Precession excitation (%)</th>\n      <th>Deflector Upper 1 X Amplitude (%)</th>\n      <th>Deflector Upper 1 X Phase (deg)</th>\n      <th>Deflector Upper 1 Y Amplitude (%)</th>\n      <th>...</th>\n      <th>Deflector Upper 2 Y Amplitude (%)</th>\n      <th>Deflector Upper 2 Y Phase (deg)</th>\n      <th>Deflector Lower 1 X Amplitude (%)</th>\n      <th>Deflector Lower 1 X Phase (deg)</th>\n      <th>Deflector Lower 1 Y Amplitude (%)</th>\n      <th>Deflector Lower 1 Y Phase (deg)</th>\n      <th>Deflector Lower 2 X Amplitude (%)</th>\n      <th>Deflector Lower 2 X Phase (deg)</th>\n      <th>Deflector Lower 2 Y Amplitude (%)</th>\n      <th>Deflector Lower 2 Y Phase (deg)</th>\n    </tr>\n  </thead>\n  <tbody>\n    <tr>\n      <th>0</th>\n      <td>PREC</td>\n      <td>1.0</td>\n      <td>1.04</td>\n      <td>2020-12-07</td>\n      <td>NBD</td>\n      <td>Alpha 4</td>\n      <td>20.0</td>\n      <td>0.1</td>\n      <td>39.0</td>\n      <td>0.5</td>\n      <td>...</td>\n      <td>NaN</td>\n      <td>NaN</td>\n      <td>NaN</td>\n      <td>NaN</td>\n      <td>NaN</td>\n      <td>NaN</td>\n      <td>NaN</td>\n      <td>NaN</td>\n      <td>NaN</td>\n      <td>NaN</td>\n    </tr>\n  </tbody>\n</table>\n<p>1 rows × 23 columns</p>\n</div>"
     },
     "execution_count": 5,
     "metadata": {},
     "output_type": "execute_result"
    }
   ],
   "source": [
    "precession_calibration.as_dataframe(ignore_nans=False)"
   ],
   "metadata": {
    "collapsed": false,
    "pycharm": {
     "name": "#%%\n"
    }
   }
  },
  {
   "cell_type": "code",
   "execution_count": null,
   "outputs": [],
   "source": [
    "step1 = m2h.StepSize(2, 1.9, '2020-12-07', mode='STEM', alpha=None)\n",
    "print(step1.as_dataframe())"
   ],
   "metadata": {
    "collapsed": false,
    "pycharm": {
     "name": "#%%\n"
    }
   }
  },
  {
   "cell_type": "code",
   "execution_count": null,
   "outputs": [],
   "source": [
    "cl3.scale"
   ],
   "metadata": {
    "collapsed": false,
    "pycharm": {
     "name": "#%%\n"
    }
   }
  },
  {
   "cell_type": "code",
   "execution_count": null,
   "outputs": [],
   "source": [
    "print(calibrations['`Nominal Cameralength (cm)`==8.0'])"
   ],
   "metadata": {
    "collapsed": false,
    "pycharm": {
     "name": "#%%\n"
    }
   }
  },
  {
   "cell_type": "code",
   "execution_count": null,
   "outputs": [],
   "source": [
    "\n",
    "#print(precession_calibration)\n",
    "print(precession_calibration.as_dataframe(ignore_nans=False))"
   ],
   "metadata": {
    "collapsed": false,
    "pycharm": {
     "name": "#%%\n"
    }
   }
  },
  {
   "cell_type": "code",
   "execution_count": null,
   "outputs": [],
   "source": [
    "from mib2hspy import DiffractionScale"
   ],
   "metadata": {
    "collapsed": false,
    "pycharm": {
     "name": "#%%\n"
    }
   }
  },
  {
   "cell_type": "code",
   "execution_count": null,
   "outputs": [],
   "source": [
    "cl3.scale"
   ],
   "metadata": {
    "collapsed": false,
    "pycharm": {
     "name": "#%%\n"
    }
   }
  },
  {
   "cell_type": "code",
   "execution_count": null,
   "outputs": [],
   "source": [
    "cl3.scale"
   ],
   "metadata": {
    "collapsed": false,
    "pycharm": {
     "name": "#%%\n"
    }
   }
  },
  {
   "cell_type": "code",
   "execution_count": null,
   "outputs": [],
   "source": [
    "print(calibrations['`Nominal Cameralength (cm)`==8.0'])"
   ],
   "metadata": {
    "collapsed": false,
    "pycharm": {
     "name": "#%%\n"
    }
   }
  },
  {
   "cell_type": "code",
   "execution_count": null,
   "outputs": [],
   "source": [
    "\n",
    "#print(precession_calibration)\n",
    "print(precession_calibration.as_dataframe(ignore_nans=False))"
   ],
   "metadata": {
    "collapsed": false,
    "pycharm": {
     "name": "#%%\n"
    }
   }
  },
  {
   "cell_type": "code",
   "execution_count": null,
   "outputs": [],
   "source": [
    "from mib2hspy import DiffractionScale"
   ],
   "metadata": {
    "collapsed": false,
    "pycharm": {
     "name": "#%%\n"
    }
   }
  },
  {
   "cell_type": "code",
   "execution_count": null,
   "outputs": [],
   "source": [
    "cl3.scale"
   ],
   "metadata": {
    "collapsed": false,
    "pycharm": {
     "name": "#%%\n"
    }
   }
  },
  {
   "cell_type": "code",
   "execution_count": null,
   "outputs": [],
   "source": [
    "print(calibrations['`Nominal Cameralength (cm)`==8.0'])"
   ],
   "metadata": {
    "collapsed": false,
    "pycharm": {
     "name": "#%%\n"
    }
   }
  },
  {
   "cell_type": "code",
   "execution_count": 2,
   "outputs": [
    {
     "name": "stdout",
     "output_type": "stream",
     "text": [
      "  Label  Nominal Precession Angle (deg)  Precession Angle (deg)        Date  \\\n",
      "0  PREC                             1.0                    1.04  2020-12-07   \n",
      "\n",
      "  Mode    Alpha  Precession excitation (%)  Deflector Upper 1 X Amplitude (%)  \\\n",
      "0  NBD  Alpha 4                       20.0                                NaN   \n",
      "\n",
      "   Deflector Upper 1 X Phase (deg)  Deflector Upper 1 Y Amplitude (%)  ...  \\\n",
      "0                              NaN                                NaN  ...   \n",
      "\n",
      "   Deflector Upper 2 Y Amplitude (%)  Deflector Upper 2 Y Phase (deg)  \\\n",
      "0                                NaN                              NaN   \n",
      "\n",
      "   Deflector Lower 1 X Amplitude (%)  Deflector Lower 1 X Phase (deg)  \\\n",
      "0                                NaN                              NaN   \n",
      "\n",
      "   Deflector Lower 1 Y Amplitude (%)  Deflector Lower 1 Y Phase (deg)  \\\n",
      "0                                NaN                              NaN   \n",
      "\n",
      "   Deflector Lower 2 X Amplitude (%)  Deflector Lower 2 X Phase (deg)  \\\n",
      "0                                NaN                              NaN   \n",
      "\n",
      "   Deflector Lower 2 Y Amplitude (%)  Deflector Lower 2 Y Phase (deg)  \n",
      "0                                NaN                              NaN  \n",
      "\n",
      "[1 rows x 23 columns]\n"
     ]
    }
   ],
   "source": [
    "\n",
    "#print(precession_calibration)\n",
    "print(precession_calibration.as_dataframe(ignore_nans=False))"
   ],
   "metadata": {
    "collapsed": false,
    "pycharm": {
     "name": "#%%\n"
    }
   }
  },
  {
   "cell_type": "code",
   "execution_count": null,
   "outputs": [],
   "source": [
    "from mib2hspy import DiffractionScale"
   ],
   "metadata": {
    "collapsed": false,
    "pycharm": {
     "name": "#%%\n"
    }
   }
  },
  {
   "cell_type": "code",
   "execution_count": null,
   "outputs": [],
   "source": [
    "cl = DiffractionScale(0.000135)\n",
    "print(cl)\n",
    "print(cl.to_inv_nm(200000))\n",
    "print(cl.calculate_cameralength(200000, 55E-6))\n",
    "dp = m2h.Cameralength(8, 16.20, '2020-11-20', scale=cl, acceleration_voltage=200000)"
   ],
   "metadata": {
    "collapsed": false,
    "pycharm": {
     "name": "#%%\n"
    }
   }
  },
  {
   "cell_type": "code",
   "execution_count": null,
   "outputs": [],
   "source": [
    "print(dp.as_dataframe())"
   ],
   "metadata": {
    "collapsed": false,
    "pycharm": {
     "name": "#%%\n"
    }
   }
  },
  {
   "cell_type": "code",
   "execution_count": null,
   "outputs": [],
   "source": [
    "mag1 = m2h.Magnification(8000, 16302, '2020-12-01', scale=m2h.Scale(0.34, 'nm'))\n",
    "mag2 = m2h.Magnification(8000, 16302, '2020-12-01')\n",
    "cl1 = m2h.Cameralength(8, 16.32, '2020-12-02', scale=m2h.Scale(0.34, '1/nm'), Acceleration_voltage=200000)\n",
    "\n",
    "df = pd.DataFrame()\n",
    "df = mag1.add_to_dataframe(df)\n",
    "df = mag2.add_to_dataframe(df)\n",
    "df = cl1.add_to_dataframe(df)\n",
    "\n",
    "print(df)"
   ],
   "metadata": {
    "collapsed": false,
    "pycharm": {
     "name": "#%%\n"
    }
   }
  },
  {
   "cell_type": "code",
   "execution_count": 12,
   "outputs": [
    {
     "name": "stdout",
     "output_type": "stream",
     "text": [
      "DiffractionScale Scale=0.000135 1/Å\n",
      "DiffractionScale Scale=1.35e-05 1/nm\n",
      "16.24474187833144\n"
     ]
    }
   ],
   "source": [
    "cl = DiffractionScale(0.000135)\n",
    "print(cl)\n",
    "print(cl.to_inv_nm(200000))\n",
    "print(cl.calculate_cameralength(200000, 55E-6))\n",
    "dp = m2h.Cameralength(8, 16.20, '2020-11-20', scale=cl, acceleration_voltage=200000)"
   ],
   "metadata": {
    "collapsed": false,
    "pycharm": {
     "name": "#%%\n"
    }
   }
  },
  {
   "cell_type": "code",
   "execution_count": 13,
   "outputs": [
    {
     "name": "stdout",
     "output_type": "stream",
     "text": [
      "   Nominal Cameralength (cm)  Cameralength (cm)  Scale (1/Å)  Scale (mrad)  \\\n",
      "0                        8.0               16.2     0.000135      0.003386   \n",
      "\n",
      "   Scale (deg)        Date  Acceleration_voltage  Mode Mag_mode Alpha  Spot  \\\n",
      "0     0.000194  2020-11-20                200000  None     None  None  None   \n",
      "\n",
      "  Spot_size Camera Microscope  \n",
      "0      None   None       None  \n"
     ]
    }
   ],
   "source": [
    "print(dp.as_dataframe())"
   ],
   "metadata": {
    "collapsed": false,
    "pycharm": {
     "name": "#%%\n"
    }
   }
  },
  {
   "cell_type": "code",
   "execution_count": 3,
   "outputs": [
    {
     "name": "stdout",
     "output_type": "stream",
     "text": [
      "   Nominal Magnification ()  Magnification ()  Scale (nm)        Date  \\\n",
      "0                    8000.0           16302.0        0.34  2020-12-01   \n",
      "1                    8000.0           16302.0         NaN  2020-12-01   \n",
      "2                       NaN               NaN         NaN  2020-12-02   \n",
      "\n",
      "  Acceleration_voltage  Mode Mag_mode Alpha  Spot Spot_size Camera Microscope  \\\n",
      "0                 None  None     None  None  None      None   None       None   \n",
      "1                 None  None     None  None  None      None   None       None   \n",
      "2               200000  None     None  None  None      None   None       None   \n",
      "\n",
      "   Scale (nm/px)  Nominal Cameralength (cm)  Cameralength (cm)  Scale (1/nm)  \\\n",
      "0            NaN                        NaN                NaN           NaN   \n",
      "1            NaN                        NaN                NaN           NaN   \n",
      "2            NaN                        8.0              16.32          0.34   \n",
      "\n",
      "   Scale (mrad)  Scale (deg)  \n",
      "0           NaN          NaN  \n",
      "1           NaN          NaN  \n",
      "2     85.269757     4.885597  \n"
     ]
    }
   ],
   "source": [
    "mag1 = m2h.Magnification(8000, 16302, '2020-12-01', scale=m2h.Scale(0.34, 'nm'))\n",
    "mag2 = m2h.Magnification(8000, 16302, '2020-12-01')\n",
    "cl1 = m2h.Cameralength(8, 16.32, '2020-12-02', scale=m2h.Scale(0.34, '1/nm'), Acceleration_voltage=200000)\n",
    "\n",
    "df = pd.DataFrame()\n",
    "df = mag1.add_to_dataframe(df)\n",
    "df = mag2.add_to_dataframe(df)\n",
    "df = cl1.add_to_dataframe(df)\n",
    "\n",
    "print(df)"
   ],
   "metadata": {
    "collapsed": false,
    "pycharm": {
     "name": "#%%\n"
    }
   }
  },
  {
   "cell_type": "code",
   "execution_count": 3,
   "outputs": [
    {
     "name": "stdout",
     "output_type": "stream",
     "text": [
      "   Nominal Magnification ()  Magnification ()        Date  \\\n",
      "0                    8000.0           16302.0  2020-12-01   \n",
      "1                    8000.0           16302.0  2020-12-02   \n",
      "\n",
      "  Acceleration_voltage  Mode Mag_mode Alpha  Spot Spot_size Camera  \n",
      "0                 None  None     None  None  None      None   None  \n",
      "1                 None  None     None  None  None      None   None  \n"
     ]
    }
   ],
   "source": [
    "df = mag1.as_dataframe()\n",
    "df = mag2.add_to_dataframe(df)\n",
    "print(df)\n"
   ],
   "metadata": {
    "collapsed": false,
    "pycharm": {
     "name": "#%%\n"
    }
   }
  },
  {
   "cell_type": "code",
   "execution_count": 4,
   "outputs": [
    {
     "name": "stdout",
     "output_type": "stream",
     "text": [
      "   Nominal {self.name} ({self.units})  {self.name} ({self.units})        Date  \\\n",
      "0                              8000.0                     16302.0  2020-12-02   \n",
      "1                              8000.0                     16302.0  2020-12-01   \n",
      "\n",
      "  Acceleration_voltage  Mode Mag_mode Alpha  Spot Spot_size Camera  \n",
      "0                 None  None     None  None  None      None   None  \n",
      "1                 None  None     None  None  None      None   None  \n"
     ]
    }
   ],
   "source": [
    "df = mag1.as_dataframe()\n",
    "df = mag2.add_to_dataframe(df, remove_duplicates=True)\n",
    "print(df)\n",
    "#print(mag)"
   ],
   "metadata": {
    "collapsed": false,
    "pycharm": {
     "name": "#%%\n"
    }
   }
  },
  {
   "cell_type": "code",
   "execution_count": null,
   "outputs": [],
   "source": [
    "microscope = m2h.Microscope()\n",
    "\n",
    "print(microscope)"
   ],
   "metadata": {
    "collapsed": false,
    "pycharm": {
     "name": "#%%\n"
    }
   }
  },
  {
   "cell_type": "code",
   "execution_count": 2,
   "outputs": [
    {
     "name": "stdout",
     "output_type": "stream",
     "text": [
      "Parameter           Value     Units    Nominal value\n",
      "------------------  --------  -------  ---------------\n",
      "HT                  200000.0  V\n",
      "Mode                NBD\n",
      "Alpha               4\n",
      "Magnification       nan                nan\n",
      "Camera length       16.2      cm       8\n",
      "Magnification Mode\n",
      "Rocking angle       nan       deg      nan\n",
      "Rocking frequency   nan       Hz\n",
      "Step Y              nan       nm       nan\n",
      "Step X              nan       nm       nan\n",
      "Convergence angle   nan       mrad     nan\n",
      "Condenser aperture  nan       um       nan\n",
      "Spot                nan\n",
      "Spotsize            nan       nm       nan\n",
      "Acquisition Date\n",
      "{'ht': {'Value': 200000.0}, 'mode': {'Value': 'NBD'}, 'alpha': {'Value': 4}, 'camera_length': {'nominal_value': 8, 'actual_value': 16.2}}\n"
     ]
    }
   ],
   "source": [
    "microscope.set_acceleration_voltage(200)\n",
    "microscope.set_alpha(4)\n",
    "microscope.set_mode('NBD')\n",
    "microscope.set_nominal_cameralength(8)\n",
    "microscope.set_cameralength(16.2)\n",
    "\n",
    "print(microscope)\n",
    "print(microscope.get_defined_parameters_(as_dict=True))"
   ],
   "metadata": {
    "collapsed": false,
    "pycharm": {
     "name": "#%%\n"
    }
   }
  },
  {
   "cell_type": "code",
   "execution_count": null,
   "outputs": [],
   "source": [
    "\n"
   ],
   "metadata": {
    "collapsed": false,
    "pycharm": {
     "name": "#%%\n"
    }
   }
  }
 ],
 "metadata": {
  "kernelspec": {
   "display_name": "Python 3",
   "language": "python",
   "name": "python3"
  },
  "language_info": {
   "codemirror_mode": {
    "name": "ipython",
    "version": 2
   },
   "file_extension": ".py",
   "mimetype": "text/x-python",
   "name": "python",
   "nbconvert_exporter": "python",
   "pygments_lexer": "ipython2",
   "version": "2.7.6"
  }
 },
 "nbformat": 4,
 "nbformat_minor": 0
}