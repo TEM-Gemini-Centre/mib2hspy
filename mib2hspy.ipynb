{
 "cells": [
  {
   "cell_type": "code",
   "execution_count": 1,
   "metadata": {
    "collapsed": true
   },
   "outputs": [
    {
     "name": "stderr",
     "output_type": "stream",
     "text": [
      "WARNING:silx.opencl.common:Unable to import pyOpenCl. Please install it from: http://pypi.python.org/pypi/pyopencl\n"
     ]
    }
   ],
   "source": [
    "%matplotlib qt\n",
    "import mib2hspy as m2h\n",
    "import pandas as pd\n"
   ]
  },
  {
   "cell_type": "code",
   "execution_count": 2,
   "outputs": [
    {
     "name": "stdout",
     "output_type": "stream",
     "text": [
      "  Label  Nominal Magnification ()  Magnification ()        Date  \\\n",
      "0   IMG                    8000.0           12030.0  2020-12-07   \n",
      "1  DIFF                       NaN               NaN  2020-12-07   \n",
      "2  DIFF                       NaN               NaN  2020-12-07   \n",
      "3  DIFF                       NaN               NaN  2020-12-07   \n",
      "4  STEP                       NaN               NaN  2020-12-07   \n",
      "5  PREC                       NaN               NaN  2020-12-07   \n",
      "6  SPOT                       NaN               NaN  2020-12-07   \n",
      "\n",
      "   Acceleration Voltage (V)  Mode Mag mode     Camera  \\\n",
      "0                  200000.0   TEM    SAMAG  Ultrascan   \n",
      "1                  200000.0   NaN      NaN     Merlin   \n",
      "2                  200000.0   NaN      NaN     Merlin   \n",
      "3                  200000.0   NaN      NaN  Ultrascan   \n",
      "4                       NaN  STEM      NaN        NaN   \n",
      "5                       NaN   NBD      NaN        NaN   \n",
      "6                  200000.0   NBD      NaN        NaN   \n",
      "\n",
      "   Nominal Cameralength (cm)  Cameralength (cm)  ...  Step X (nm)  \\\n",
      "0                        NaN                NaN  ...          NaN   \n",
      "1                        8.0               16.2  ...          NaN   \n",
      "2                       10.0               19.3  ...          NaN   \n",
      "3                       10.0               19.3  ...          NaN   \n",
      "4                        NaN                NaN  ...          2.4   \n",
      "5                        NaN                NaN  ...          NaN   \n",
      "6                        NaN                NaN  ...          NaN   \n",
      "\n",
      "   Nominal Precession Angle (deg)  Precession Angle (deg)    Alpha  \\\n",
      "0                             NaN                     NaN      NaN   \n",
      "1                             NaN                     NaN      NaN   \n",
      "2                             NaN                     NaN      NaN   \n",
      "3                             NaN                     NaN      NaN   \n",
      "4                             NaN                     NaN      NaN   \n",
      "5                             1.0                    1.04  Alpha 4   \n",
      "6                             NaN                     NaN        4   \n",
      "\n",
      "   Precession excitation (%)  Deflector Upper 1 X Amplitude (%)  \\\n",
      "0                        NaN                                NaN   \n",
      "1                        NaN                                NaN   \n",
      "2                        NaN                                NaN   \n",
      "3                        NaN                                NaN   \n",
      "4                        NaN                                NaN   \n",
      "5                       20.0                                0.1   \n",
      "6                        NaN                                NaN   \n",
      "\n",
      "   Deflector Upper 1 X Phase (deg) Deflector Upper 1 Y Amplitude (%)  \\\n",
      "0                              NaN                               NaN   \n",
      "1                              NaN                               NaN   \n",
      "2                              NaN                               NaN   \n",
      "3                              NaN                               NaN   \n",
      "4                              NaN                               NaN   \n",
      "5                             39.0                               0.5   \n",
      "6                              NaN                               NaN   \n",
      "\n",
      "   Deflector Upper 1 Y Phase (deg)  Spotsize (nm)  \n",
      "0                              NaN            NaN  \n",
      "1                              NaN            NaN  \n",
      "2                              NaN            NaN  \n",
      "3                              NaN            NaN  \n",
      "4                              NaN            NaN  \n",
      "5                             44.0            NaN  \n",
      "6                              NaN            3.0  \n",
      "\n",
      "[7 rows x 24 columns]\n"
     ]
    }
   ],
   "source": [
    "m1 = m2h.Magnification(8000, 12030, '2020-12-07', acceleration_voltage=200000, mode='TEM', camera='Ultrascan', mag_mode='SAMAG')\n",
    "cl1 = m2h.Cameralength(8, 16.2, '2020-12-07', scale=0.00134, spot_size=0.5, acceleration_voltage=200000, camera='Merlin')\n",
    "cl2 = m2h.Cameralength(10, 19.3, '2020-12-07', acceleration_voltage=200000, camera='Merlin')\n",
    "cl3 = m2h.Cameralength(10, 19.3, '2020-12-07', acceleration_voltage=200000, camera='Ultrascan')\n",
    "step1 = m2h.StepSize(2.5, 2.4, '2020-12-07', direction='X', mode='STEM', alpha=None)\n",
    "precession_calibration = m2h.PrecessionAngle(1.0, 1.04, 20., '2020-12-07', mode='NBD', alpha='Alpha 4', deflectors={'Upper_1': {'X': {'A':0.1, 'P':39}, 'Y': {'A': 0.5, 'P': 44}}})\n",
    "spot1 = m2h.Spotsize(3, '2020-12-07', spot_size=0.5, mode='NBD', alpha=4, acceleration_voltage=200000)\n",
    "calibrations = m2h.CalibrationList()\n",
    "calibrations+=m1\n",
    "calibrations+=cl1\n",
    "calibrations+=cl2\n",
    "calibrations+=cl3\n",
    "calibrations+=step1\n",
    "calibrations += precession_calibration\n",
    "calibrations += spot1\n",
    "#print([calibration.nominal_value for calibration in calibrations])\n",
    "print(calibrations.dataframe)\n"
   ],
   "metadata": {
    "collapsed": false,
    "pycharm": {
     "name": "#%%\n"
    }
   }
  },
  {
   "cell_type": "code",
   "execution_count": 5,
   "outputs": [
    {
     "data": {
      "text/plain": "  Label  Nominal Cameralength (cm)  Cameralength (cm)        Date  \\\n0  DIFF                        8.0               16.2  2020-12-07   \n\n   Acceleration Voltage (V)  Nominal Spotsize (nm)  Camera  Scale (mrad)  \\\n0                    200000                    0.5  Merlin      0.033606   \n\n   Scale (deg)  \n0     0.001926  ",
      "text/html": "<div>\n<style scoped>\n    .dataframe tbody tr th:only-of-type {\n        vertical-align: middle;\n    }\n\n    .dataframe tbody tr th {\n        vertical-align: top;\n    }\n\n    .dataframe thead th {\n        text-align: right;\n    }\n</style>\n<table border=\"1\" class=\"dataframe\">\n  <thead>\n    <tr style=\"text-align: right;\">\n      <th></th>\n      <th>Label</th>\n      <th>Nominal Cameralength (cm)</th>\n      <th>Cameralength (cm)</th>\n      <th>Date</th>\n      <th>Acceleration Voltage (V)</th>\n      <th>Nominal Spotsize (nm)</th>\n      <th>Camera</th>\n      <th>Scale (mrad)</th>\n      <th>Scale (deg)</th>\n    </tr>\n  </thead>\n  <tbody>\n    <tr>\n      <th>0</th>\n      <td>DIFF</td>\n      <td>8.0</td>\n      <td>16.2</td>\n      <td>2020-12-07</td>\n      <td>200000</td>\n      <td>0.5</td>\n      <td>Merlin</td>\n      <td>0.033606</td>\n      <td>0.001926</td>\n    </tr>\n  </tbody>\n</table>\n</div>"
     },
     "execution_count": 5,
     "metadata": {},
     "output_type": "execute_result"
    }
   ],
   "source": [
    "cl1.as_dataframe()\n",
    "#spot1.as_dataframe()"
   ],
   "metadata": {
    "collapsed": false,
    "pycharm": {
     "name": "#%%\n"
    }
   }
  },
  {
   "cell_type": "code",
   "execution_count": null,
   "outputs": [],
   "source": [
    "new_calibrations = m2h.generate_from_dataframe(calibrations.dataframe)\n",
    "print(new_calibrations.dataframe)"
   ],
   "metadata": {
    "collapsed": false,
    "pycharm": {
     "name": "#%%\n"
    }
   }
  },
  {
   "cell_type": "code",
   "execution_count": 5,
   "outputs": [
    {
     "data": {
      "text/plain": "  Label  Nominal Precession Angle (deg)  Precession Angle (deg)        Date  \\\n0  PREC                             1.0                    1.04  2020-12-07   \n\n  Mode    Alpha  Precession excitation (%)  Deflector Upper 1 X Amplitude (%)  \\\n0  NBD  Alpha 4                       20.0                                0.1   \n\n   Deflector Upper 1 X Phase (deg)  Deflector Upper 1 Y Amplitude (%)  ...  \\\n0                             39.0                                0.5  ...   \n\n   Deflector Upper 2 Y Amplitude (%)  Deflector Upper 2 Y Phase (deg)  \\\n0                                NaN                              NaN   \n\n   Deflector Lower 1 X Amplitude (%)  Deflector Lower 1 X Phase (deg)  \\\n0                                NaN                              NaN   \n\n   Deflector Lower 1 Y Amplitude (%)  Deflector Lower 1 Y Phase (deg)  \\\n0                                NaN                              NaN   \n\n   Deflector Lower 2 X Amplitude (%)  Deflector Lower 2 X Phase (deg)  \\\n0                                NaN                              NaN   \n\n   Deflector Lower 2 Y Amplitude (%)  Deflector Lower 2 Y Phase (deg)  \n0                                NaN                              NaN  \n\n[1 rows x 23 columns]",
      "text/html": "<div>\n<style scoped>\n    .dataframe tbody tr th:only-of-type {\n        vertical-align: middle;\n    }\n\n    .dataframe tbody tr th {\n        vertical-align: top;\n    }\n\n    .dataframe thead th {\n        text-align: right;\n    }\n</style>\n<table border=\"1\" class=\"dataframe\">\n  <thead>\n    <tr style=\"text-align: right;\">\n      <th></th>\n      <th>Label</th>\n      <th>Nominal Precession Angle (deg)</th>\n      <th>Precession Angle (deg)</th>\n      <th>Date</th>\n      <th>Mode</th>\n      <th>Alpha</th>\n      <th>Precession excitation (%)</th>\n      <th>Deflector Upper 1 X Amplitude (%)</th>\n      <th>Deflector Upper 1 X Phase (deg)</th>\n      <th>Deflector Upper 1 Y Amplitude (%)</th>\n      <th>...</th>\n      <th>Deflector Upper 2 Y Amplitude (%)</th>\n      <th>Deflector Upper 2 Y Phase (deg)</th>\n      <th>Deflector Lower 1 X Amplitude (%)</th>\n      <th>Deflector Lower 1 X Phase (deg)</th>\n      <th>Deflector Lower 1 Y Amplitude (%)</th>\n      <th>Deflector Lower 1 Y Phase (deg)</th>\n      <th>Deflector Lower 2 X Amplitude (%)</th>\n      <th>Deflector Lower 2 X Phase (deg)</th>\n      <th>Deflector Lower 2 Y Amplitude (%)</th>\n      <th>Deflector Lower 2 Y Phase (deg)</th>\n    </tr>\n  </thead>\n  <tbody>\n    <tr>\n      <th>0</th>\n      <td>PREC</td>\n      <td>1.0</td>\n      <td>1.04</td>\n      <td>2020-12-07</td>\n      <td>NBD</td>\n      <td>Alpha 4</td>\n      <td>20.0</td>\n      <td>0.1</td>\n      <td>39.0</td>\n      <td>0.5</td>\n      <td>...</td>\n      <td>NaN</td>\n      <td>NaN</td>\n      <td>NaN</td>\n      <td>NaN</td>\n      <td>NaN</td>\n      <td>NaN</td>\n      <td>NaN</td>\n      <td>NaN</td>\n      <td>NaN</td>\n      <td>NaN</td>\n    </tr>\n  </tbody>\n</table>\n<p>1 rows × 23 columns</p>\n</div>"
     },
     "execution_count": 5,
     "metadata": {},
     "output_type": "execute_result"
    }
   ],
   "source": [
    "precession_calibration.as_dataframe(ignore_nans=False)"
   ],
   "metadata": {
    "collapsed": false,
    "pycharm": {
     "name": "#%%\n"
    }
   }
  },
  {
   "cell_type": "code",
   "execution_count": null,
   "outputs": [],
   "source": [
    "step1 = m2h.StepSize(2, 1.9, '2020-12-07', mode='STEM', alpha=None)\n",
    "print(step1.as_dataframe())"
   ],
   "metadata": {
    "collapsed": false,
    "pycharm": {
     "name": "#%%\n"
    }
   }
  },
  {
   "cell_type": "code",
   "execution_count": null,
   "outputs": [],
   "source": [
    "cl3.scale"
   ],
   "metadata": {
    "collapsed": false,
    "pycharm": {
     "name": "#%%\n"
    }
   }
  },
  {
   "cell_type": "code",
   "execution_count": null,
   "outputs": [],
   "source": [
    "print(calibrations['`Nominal Cameralength (cm)`==8.0'])"
   ],
   "metadata": {
    "collapsed": false,
    "pycharm": {
     "name": "#%%\n"
    }
   }
  },
  {
   "cell_type": "code",
   "execution_count": 2,
   "outputs": [
    {
     "name": "stdout",
     "output_type": "stream",
     "text": [
      "  Label  Nominal Precession Angle (deg)  Precession Angle (deg)        Date  \\\n",
      "0  PREC                             1.0                    1.04  2020-12-07   \n",
      "\n",
      "  Mode    Alpha  Precession excitation (%)  Deflector Upper 1 X Amplitude (%)  \\\n",
      "0  NBD  Alpha 4                       20.0                                NaN   \n",
      "\n",
      "   Deflector Upper 1 X Phase (deg)  Deflector Upper 1 Y Amplitude (%)  ...  \\\n",
      "0                              NaN                                NaN  ...   \n",
      "\n",
      "   Deflector Upper 2 Y Amplitude (%)  Deflector Upper 2 Y Phase (deg)  \\\n",
      "0                                NaN                              NaN   \n",
      "\n",
      "   Deflector Lower 1 X Amplitude (%)  Deflector Lower 1 X Phase (deg)  \\\n",
      "0                                NaN                              NaN   \n",
      "\n",
      "   Deflector Lower 1 Y Amplitude (%)  Deflector Lower 1 Y Phase (deg)  \\\n",
      "0                                NaN                              NaN   \n",
      "\n",
      "   Deflector Lower 2 X Amplitude (%)  Deflector Lower 2 X Phase (deg)  \\\n",
      "0                                NaN                              NaN   \n",
      "\n",
      "   Deflector Lower 2 Y Amplitude (%)  Deflector Lower 2 Y Phase (deg)  \n",
      "0                                NaN                              NaN  \n",
      "\n",
      "[1 rows x 23 columns]\n"
     ]
    }
   ],
   "source": [
    "\n",
    "#print(precession_calibration)\n",
    "print(precession_calibration.as_dataframe(ignore_nans=False))"
   ],
   "metadata": {
    "collapsed": false,
    "pycharm": {
     "name": "#%%\n"
    }
   }
  },
  {
   "cell_type": "code",
   "execution_count": null,
   "outputs": [],
   "source": [
    "from mib2hspy import DiffractionScale"
   ],
   "metadata": {
    "collapsed": false,
    "pycharm": {
     "name": "#%%\n"
    }
   }
  },
  {
   "cell_type": "code",
   "execution_count": null,
   "outputs": [],
   "source": [
    "cl = DiffractionScale(0.000135)\n",
    "print(cl)\n",
    "print(cl.to_inv_nm(200000))\n",
    "print(cl.calculate_cameralength(200000, 55E-6))\n",
    "dp = m2h.Cameralength(8, 16.20, '2020-11-20', scale=cl, acceleration_voltage=200000)"
   ],
   "metadata": {
    "collapsed": false,
    "pycharm": {
     "name": "#%%\n"
    }
   }
  },
  {
   "cell_type": "code",
   "execution_count": null,
   "outputs": [],
   "source": [
    "print(dp.as_dataframe())"
   ],
   "metadata": {
    "collapsed": false,
    "pycharm": {
     "name": "#%%\n"
    }
   }
  },
  {
   "cell_type": "code",
   "execution_count": null,
   "outputs": [],
   "source": [
    "mag1 = m2h.Magnification(8000, 16302, '2020-12-01', scale=m2h.Scale(0.34, 'nm'))\n",
    "mag2 = m2h.Magnification(8000, 16302, '2020-12-01')\n",
    "cl1 = m2h.Cameralength(8, 16.32, '2020-12-02', scale=m2h.Scale(0.34, '1/nm'), Acceleration_voltage=200000)\n",
    "\n",
    "df = pd.DataFrame()\n",
    "df = mag1.add_to_dataframe(df)\n",
    "df = mag2.add_to_dataframe(df)\n",
    "df = cl1.add_to_dataframe(df)\n",
    "\n",
    "print(df)"
   ],
   "metadata": {
    "collapsed": false,
    "pycharm": {
     "name": "#%%\n"
    }
   }
  },
  {
   "cell_type": "code",
   "execution_count": 12,
   "outputs": [
    {
     "name": "stdout",
     "output_type": "stream",
     "text": [
      "DiffractionScale Scale=0.000135 1/Å\n",
      "DiffractionScale Scale=1.35e-05 1/nm\n",
      "16.24474187833144\n"
     ]
    }
   ],
   "source": [
    "cl = DiffractionScale(0.000135)\n",
    "print(cl)\n",
    "print(cl.to_inv_nm(200000))\n",
    "print(cl.calculate_cameralength(200000, 55E-6))\n",
    "dp = m2h.Cameralength(8, 16.20, '2020-11-20', scale=cl, acceleration_voltage=200000)"
   ],
   "metadata": {
    "collapsed": false,
    "pycharm": {
     "name": "#%%\n"
    }
   }
  },
  {
   "cell_type": "code",
   "execution_count": 13,
   "outputs": [
    {
     "name": "stdout",
     "output_type": "stream",
     "text": [
      "   Nominal Cameralength (cm)  Cameralength (cm)  Scale (1/Å)  Scale (mrad)  \\\n",
      "0                        8.0               16.2     0.000135      0.003386   \n",
      "\n",
      "   Scale (deg)        Date  Acceleration_voltage  Mode Mag_mode Alpha  Spot  \\\n",
      "0     0.000194  2020-11-20                200000  None     None  None  None   \n",
      "\n",
      "  Spot_size Camera Microscope  \n",
      "0      None   None       None  \n"
     ]
    }
   ],
   "source": [
    "print(dp.as_dataframe())"
   ],
   "metadata": {
    "collapsed": false,
    "pycharm": {
     "name": "#%%\n"
    }
   }
  },
  {
   "cell_type": "code",
   "execution_count": 3,
   "outputs": [
    {
     "name": "stdout",
     "output_type": "stream",
     "text": [
      "   Nominal Magnification ()  Magnification ()  Scale (nm)        Date  \\\n",
      "0                    8000.0           16302.0        0.34  2020-12-01   \n",
      "1                    8000.0           16302.0         NaN  2020-12-01   \n",
      "2                       NaN               NaN         NaN  2020-12-02   \n",
      "\n",
      "  Acceleration_voltage  Mode Mag_mode Alpha  Spot Spot_size Camera Microscope  \\\n",
      "0                 None  None     None  None  None      None   None       None   \n",
      "1                 None  None     None  None  None      None   None       None   \n",
      "2               200000  None     None  None  None      None   None       None   \n",
      "\n",
      "   Scale (nm/px)  Nominal Cameralength (cm)  Cameralength (cm)  Scale (1/nm)  \\\n",
      "0            NaN                        NaN                NaN           NaN   \n",
      "1            NaN                        NaN                NaN           NaN   \n",
      "2            NaN                        8.0              16.32          0.34   \n",
      "\n",
      "   Scale (mrad)  Scale (deg)  \n",
      "0           NaN          NaN  \n",
      "1           NaN          NaN  \n",
      "2     85.269757     4.885597  \n"
     ]
    }
   ],
   "source": [
    "mag1 = m2h.Magnification(8000, 16302, '2020-12-01', scale=m2h.Scale(0.34, 'nm'))\n",
    "mag2 = m2h.Magnification(8000, 16302, '2020-12-01')\n",
    "cl1 = m2h.Cameralength(8, 16.32, '2020-12-02', scale=m2h.Scale(0.34, '1/nm'), Acceleration_voltage=200000)\n",
    "\n",
    "df = pd.DataFrame()\n",
    "df = mag1.add_to_dataframe(df)\n",
    "df = mag2.add_to_dataframe(df)\n",
    "df = cl1.add_to_dataframe(df)\n",
    "\n",
    "print(df)"
   ],
   "metadata": {
    "collapsed": false,
    "pycharm": {
     "name": "#%%\n"
    }
   }
  },
  {
   "cell_type": "code",
   "execution_count": 3,
   "outputs": [
    {
     "name": "stdout",
     "output_type": "stream",
     "text": [
      "   Nominal Magnification ()  Magnification ()        Date  \\\n",
      "0                    8000.0           16302.0  2020-12-01   \n",
      "1                    8000.0           16302.0  2020-12-02   \n",
      "\n",
      "  Acceleration_voltage  Mode Mag_mode Alpha  Spot Spot_size Camera  \n",
      "0                 None  None     None  None  None      None   None  \n",
      "1                 None  None     None  None  None      None   None  \n"
     ]
    }
   ],
   "source": [
    "df = mag1.as_dataframe()\n",
    "df = mag2.add_to_dataframe(df)\n",
    "print(df)\n"
   ],
   "metadata": {
    "collapsed": false,
    "pycharm": {
     "name": "#%%\n"
    }
   }
  },
  {
   "cell_type": "code",
   "execution_count": 4,
   "outputs": [
    {
     "name": "stdout",
     "output_type": "stream",
     "text": [
      "   Nominal {self.name} ({self.units})  {self.name} ({self.units})        Date  \\\n",
      "0                              8000.0                     16302.0  2020-12-02   \n",
      "1                              8000.0                     16302.0  2020-12-01   \n",
      "\n",
      "  Acceleration_voltage  Mode Mag_mode Alpha  Spot Spot_size Camera  \n",
      "0                 None  None     None  None  None      None   None  \n",
      "1                 None  None     None  None  None      None   None  \n"
     ]
    }
   ],
   "source": [
    "df = mag1.as_dataframe()\n",
    "df = mag2.add_to_dataframe(df, remove_duplicates=True)\n",
    "print(df)\n",
    "#print(mag)"
   ],
   "metadata": {
    "collapsed": false,
    "pycharm": {
     "name": "#%%\n"
    }
   }
  },
  {
   "cell_type": "code",
   "execution_count": null,
   "outputs": [],
   "source": [
    "microscope = m2h.Microscope()\n",
    "\n",
    "print(microscope)"
   ],
   "metadata": {
    "collapsed": false,
    "pycharm": {
     "name": "#%%\n"
    }
   }
  },
  {
   "cell_type": "code",
   "execution_count": 2,
   "outputs": [
    {
     "name": "stdout",
     "output_type": "stream",
     "text": [
      "Parameter           Value     Units    Nominal value\n",
      "------------------  --------  -------  ---------------\n",
      "HT                  200000.0  V\n",
      "Mode                NBD\n",
      "Alpha               4\n",
      "Magnification       nan                nan\n",
      "Camera length       16.2      cm       8\n",
      "Magnification Mode\n",
      "Rocking angle       nan       deg      nan\n",
      "Rocking frequency   nan       Hz\n",
      "Step Y              nan       nm       nan\n",
      "Step X              nan       nm       nan\n",
      "Convergence angle   nan       mrad     nan\n",
      "Condenser aperture  nan       um       nan\n",
      "Spot                nan\n",
      "Spotsize            nan       nm       nan\n",
      "Acquisition Date\n",
      "{'ht': {'Value': 200000.0}, 'mode': {'Value': 'NBD'}, 'alpha': {'Value': 4}, 'camera_length': {'nominal_value': 8, 'actual_value': 16.2}}\n"
     ]
    }
   ],
   "source": [
    "microscope.set_acceleration_voltage(200)\n",
    "microscope.set_alpha(4)\n",
    "microscope.set_mode('NBD')\n",
    "microscope.set_nominal_cameralength(8)\n",
    "microscope.set_cameralength(16.2)\n",
    "\n",
    "print(microscope)\n",
    "print(microscope.get_defined_parameters_(as_dict=True))"
   ],
   "metadata": {
    "collapsed": false,
    "pycharm": {
     "name": "#%%\n"
    }
   }
  },
  {
   "cell_type": "code",
   "execution_count": null,
   "outputs": [],
   "source": [
    "\n"
   ],
   "metadata": {
    "collapsed": false,
    "pycharm": {
     "name": "#%%\n"
    }
   }
  }
 ],
 "metadata": {
  "kernelspec": {
   "display_name": "Python 3",
   "language": "python",
   "name": "python3"
  },
  "language_info": {
   "codemirror_mode": {
    "name": "ipython",
    "version": 2
   },
   "file_extension": ".py",
   "mimetype": "text/x-python",
   "name": "python",
   "nbconvert_exporter": "python",
   "pygments_lexer": "ipython2",
   "version": "2.7.6"
  }
 },
 "nbformat": 4,
 "nbformat_minor": 0
}