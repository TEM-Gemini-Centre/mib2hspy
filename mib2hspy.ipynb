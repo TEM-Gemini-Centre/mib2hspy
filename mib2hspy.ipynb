{
 "cells": [
  {
   "cell_type": "markdown",
   "source": [
    "# Notebook for converting .mib files to .hspy with the mib2hspy tools\n",
    "This notebook explains the basic working principle behind mib2hspy and how the various parts interact with eachother."
   ],
   "metadata": {
    "collapsed": false,
    "pycharm": {
     "name": "#%% md\n"
    }
   }
  },
  {
   "cell_type": "code",
   "execution_count": 1,
   "outputs": [
    {
     "name": "stderr",
     "output_type": "stream",
     "text": [
      "WARNING:hyperspy.api:The ipywidgets GUI elements are not available, probably because the hyperspy_gui_ipywidgets package is not installed.\n",
      "WARNING:hyperspy.api:The traitsui GUI elements are not available, probably because the hyperspy_gui_traitsui package is not installed.\n",
      "WARNING:silx.opencl.common:Unable to import pyOpenCl. Please install it from: https://pypi.org/project/pyopencl\n"
     ]
    }
   ],
   "source": [
    "%matplotlib qt\n",
    "%config Completer.use_jedi = False #Autocomplete is sometimes slow, this disables some stuff to make it faster\n",
    "\n",
    "import mib2hspy as m2h\n",
    "import pandas as pd\n",
    "import hyperspy.api as hs\n",
    "from math import nan"
   ],
   "metadata": {
    "collapsed": false,
    "pycharm": {
     "name": "#%%\n"
    }
   }
  },
  {
   "cell_type": "markdown",
   "source": [
    "## Prepare metadata\n",
    "The first step is to define metadata and load the data. It is advised you do this in the same code block, as it ensures that the metadata you are currently working with is the one you want for your data that is presently loaded. However, in this example, we first create a blank `Converter` object and then set the metadata in it. The data will be loaded at a later stage"
   ],
   "metadata": {
    "collapsed": false,
    "pycharm": {
     "name": "#%% md\n"
    }
   }
  },
  {
   "cell_type": "code",
   "execution_count": 2,
   "outputs": [
    {
     "name": "stdout",
     "output_type": "stream",
     "text": [
      "Converter for file \"None\" with data None:\n",
      "\n",
      "***Header content***\n",
      "None***\n",
      "\n",
      "***Microscope parameters***\n",
      "Parameter             Value    Units    Nominal value\n",
      "--------------------  -------  -------  ---------------\n",
      "Acceleration Voltage  nan      V\n",
      "Mode                  None\n",
      "Alpha                 nan\n",
      "Magnification         nan               nan\n",
      "Scale                 nan      nm\n",
      "Cameralength          nan      cm       nan\n",
      "Scale                 nan      1/Å\n",
      "Mag mode              None\n",
      "Rocking angle         nan      deg      nan\n",
      "Rocking frequency     nan      Hz\n",
      "Step Y                nan      nm       nan\n",
      "Step X                nan      nm       nan\n",
      "Convergence angle     nan      mrad     nan\n",
      "Condenser aperture    nan      um       nan\n",
      "Spot                  nan\n",
      "Spotsize              nan      nm       nan\n",
      "Acquisition Date      None\n",
      "Camera                None\n",
      "Exposure time         nan      ms\n",
      "Microscope            None\n"
     ]
    }
   ],
   "source": [
    "converter = m2h.Converter()\n",
    "print(converter)"
   ],
   "metadata": {
    "collapsed": false,
    "pycharm": {
     "name": "#%%\n"
    }
   }
  },
  {
   "cell_type": "markdown",
   "source": [
    "As you can see, the converter object is not currently set to work with a file or any data. The microscope parameters in the object is also either `None` or `nan`, indicating that they have not been set yet. The `Converter.microscope_parameters` object is actually a `MicroscopeParameters` object which is a little complicated, but allows for calibrating data in a relatively straightforward way. Each of the microscope parameters in a `MicroscopeParameters` object has a very specific type. They are all derived from the `m2h.Tools.parameters.Parameter` class. To set the various parameters, you can do:"
   ],
   "metadata": {
    "collapsed": false,
    "pycharm": {
     "name": "#%% md\n"
    }
   }
  },
  {
   "cell_type": "code",
   "execution_count": 3,
   "outputs": [
    {
     "name": "stdout",
     "output_type": "stream",
     "text": [
      "Parameter             Value    Units    Nominal value\n",
      "--------------------  -------  -------  ---------------\n",
      "Acceleration Voltage  200000   V\n",
      "Mode                  NBD\n",
      "Alpha                 1\n",
      "Magnification         nan               nan\n",
      "Scale                 nan      nm\n",
      "Cameralength          nan      cm       12\n",
      "Scale                 nan      1/Å\n",
      "Mag mode              None\n",
      "Rocking angle         nan      deg      nan\n",
      "Rocking frequency     nan      Hz\n",
      "Step Y                16       nm       16\n",
      "Step X                16       nm       16\n",
      "Convergence angle     nan      mrad     nan\n",
      "Condenser aperture    nan      um       nan\n",
      "Spot                  nan\n",
      "Spotsize              nan      nm       0.5\n",
      "Acquisition Date      None\n",
      "Camera                Merlin\n",
      "Exposure time         nan      ms\n",
      "Microscope            2100F\n"
     ]
    }
   ],
   "source": [
    "converter.microscope_parameters.camera = 'Merlin'\n",
    "converter.microscope_parameters.microscope = '2100F'\n",
    "converter.microscope_parameters.mode = 'NBD'\n",
    "converter.microscope_parameters.alpha = 1\n",
    "converter.microscope_parameters.acceleration_voltage = 200000\n",
    "converter.microscope_parameters.cameralength = (12, nan)\n",
    "#converter.microscope_parameters.magnification = (10000, nan) #only cameralength or magnification should be set in order to avoid unwanted behaviour\n",
    "#converter.microscope_parameters.mag_mode = 'MAG1' #Only set this if you are working in imaging mode.\n",
    "converter.microscope_parameters.scan_step_x = (16, 16)\n",
    "converter.microscope_parameters.scan_step_y = (16, 16)\n",
    "converter.microscope_parameters.spotsize = (0.5, nan)\n",
    "#converter.microscope_parameters.spot = 1 #Only use spotsize or spot, depends on the mode you are working on\n",
    "#converter.microscope_parameters.rocking_angle = (1, nan)\n",
    "#converter.microscope_parameters.rocking_frequency = 100\n",
    "print(converter.microscope_parameters)"
   ],
   "metadata": {
    "collapsed": false,
    "pycharm": {
     "name": "#%%\n"
    }
   }
  },
  {
   "cell_type": "markdown",
   "source": [
    "To set the values of the objects based on their nominal values and a calibration table, you can do:"
   ],
   "metadata": {
    "collapsed": false,
    "pycharm": {
     "name": "#%% md\n"
    }
   }
  },
  {
   "cell_type": "code",
   "execution_count": 4,
   "outputs": [
    {
     "name": "stdout",
     "output_type": "stream",
     "text": [
      "Parameter             Value                 Units    Nominal value\n",
      "--------------------  --------------------  -------  ---------------\n",
      "Acceleration Voltage  200000                V\n",
      "Mode                  NBD\n",
      "Alpha                 1\n",
      "Magnification         nan                            nan\n",
      "Scale                 nan                   nm\n",
      "Cameralength          22.95273094471488     cm       12\n",
      "Scale                 0.009554593381028329  1/Å\n",
      "Mag mode              None\n",
      "Rocking angle         nan                   deg      nan\n",
      "Rocking frequency     nan                   Hz\n",
      "Step Y                16                    nm       16\n",
      "Step X                16                    nm       16\n",
      "Convergence angle     nan                   mrad     nan\n",
      "Condenser aperture    nan                   um       nan\n",
      "Spot                  nan\n",
      "Spotsize              nan                   nm       0.5\n",
      "Acquisition Date      None\n",
      "Camera                Merlin\n",
      "Exposure time         nan                   ms\n",
      "Microscope            2100F\n"
     ]
    }
   ],
   "source": [
    "table = pd.read_excel(r'Calibrations.xlsx', engine='openpyxl') #The calibration table file must be in a very specific format to be useable by the parameters object.\n",
    "converter.microscope_parameters.set_values_from_calibrationtable(table)\n",
    "print(converter.microscope_parameters)"
   ],
   "metadata": {
    "collapsed": false,
    "pycharm": {
     "name": "#%%\n"
    }
   }
  },
  {
   "cell_type": "markdown",
   "source": [
    "This raises alot of warning if the values or names are not present in the calibration table, but we see that it has found a calibration for the cameralength and defined the diffraction scale! For the actual conversion, only the Diffraction scale or the image scale and the scan step sizes are important (they will be used to set appropriate details in the `axes_manager`), but it is advised to set as much as possible to save you work in the long run.\n",
    "\n",
    "## Load data\n",
    "Now the time has come to load the data. We first assign the converter a path to the data we want to convert, then read the data. Only valid .mib data paths are accepted by the converter to avoid unpleasent surprises later on. The data is also read lazily, so it should take much time.\n",
    "\n",
    "To ensure that the data path is always the correct path, only valid .mib data paths can be used as the data path in a `Converter` object. Furthermore, whenever you change the `Converter.data_path` property, the `Converter.data` will be deleted. This way, you can be fairly certain that the `data_path` in your `Converter` object always correspond to the currently loaded data!"
   ],
   "metadata": {
    "collapsed": false,
    "pycharm": {
     "name": "#%% md\n"
    }
   }
  },
  {
   "cell_type": "code",
   "execution_count": 5,
   "outputs": [
    {
     "name": "stdout",
     "output_type": "stream",
     "text": [
      "This mib file appears to be TEM data. The stack is returned with no reshaping.\n",
      "Converter for file \"C:\\Users\\emilc\\OneDrive - NTNU\\NORTEM\\Merlin\\LFO\\2021_03_18_P40204PV04\\SED_128x128x12_16x16nm_NBD_alpha1_spot05nm_CL3-7D11_IL1-4C92_CL12cm.mib\" with data <LazyElectronDiffraction2D, title: SED_128x128x12_16x16nm_NBD_alpha1_spot05nm_CL3-7D11_IL1-4C92_CL12cm, dimensions: (16384|256, 256)>:\n",
      "\n",
      "***Header content***\n",
      "Content of Medipix HDR file \"C:\\Users\\emilc\\OneDrive - NTNU\\NORTEM\\Merlin\\LFO\\2021_03_18_P40204PV04\\SED_128x128x12_16x16nm_NBD_alpha1_spot05nm_CL3-7D11_IL1-4C92_CL12cm.hdr\":\n",
      "\tTime and Date Stamp (day, mnth, yr, hr, min, s): 18/03/2021 19:30:37\n",
      "\tChip ID: W559_G11, - , - , -\n",
      "\tChip Type (Medipix 3.0, Medipix 3.1, Medipix 3RX): Medipix 3RX\n",
      "\tAssembly Size (NX1, 2X2): 1x1\n",
      "\tChip Mode  (SPM, CSM, CM, CSCM): SPM\n",
      "\tCounter Depth (number): 12\n",
      "\tGain: SLGM\n",
      "\tActive Counters: Counter 0\n",
      "\tThresholds (keV): 4.000000E+1,5.110000E+2,0.000000E+0,0.000000E+0,0.000000E+0,0.000000E+0,0.000000E+0,0.000000E+0\n",
      "\tDACs: 068,511,000,000,000,000,000,000,100,255,100,125,100,100,080,100,090,030,128,004,255,126,128,174,172,511,511; ; ;\n",
      "\tbpc File: c:\\MERLIN_Quad_Config\\W559_G11\\W559_G11_SPM.bpc,,,\n",
      "\tDAC File: c:\\MERLIN_Quad_Config\\W559_G11\\W559_G11_SPM.dacs,,,\n",
      "\tGap Fill Mode: None\n",
      "\tFlat Field File: None\n",
      "\tDead Time File: Dummy (C:\\<NUL>\\)\n",
      "\tAcquisition Type (Normal, Th_scan, Config): Normal\n",
      "\tFrames in Acquisition (Number): 16384\n",
      "\tFrames per Trigger (Number): 1\n",
      "\tTrigger Start (Positive, Negative, Internal): Rising Edge\n",
      "\tTrigger Stop (Positive, Negative, Internal): Internal\n",
      "\tSensor Bias (V): 120 V\n",
      "\tSensor Polarity (Positive, Negative): Positive\n",
      "\tTemperature (C): Board Temp 0.000000 Deg C\n",
      "\tHumidity (%): Board Humidity 0.000000\n",
      "\tMedipix Clock (MHz): 160MHz\n",
      "\tReadout System: Merlin Quad\n",
      "\tSoftware Version: 0.76.1.101***\n",
      "\n",
      "***Microscope parameters***\n",
      "Parameter             Value                 Units    Nominal value\n",
      "--------------------  --------------------  -------  ---------------\n",
      "Acceleration Voltage  200000                V\n",
      "Mode                  NBD\n",
      "Alpha                 1\n",
      "Magnification         nan                            nan\n",
      "Scale                 nan                   nm\n",
      "Cameralength          22.95273094471488     cm       12\n",
      "Scale                 0.009554593381028329  1/Å\n",
      "Mag mode              None\n",
      "Rocking angle         nan                   deg      nan\n",
      "Rocking frequency     nan                   Hz\n",
      "Step Y                16                    nm       16\n",
      "Step X                16                    nm       16\n",
      "Convergence angle     nan                   mrad     nan\n",
      "Condenser aperture    nan                   um       nan\n",
      "Spot                  nan\n",
      "Spotsize              nan                   nm       0.5\n",
      "Acquisition Date      None\n",
      "Camera                Merlin\n",
      "Exposure time         nan                   ms\n",
      "Microscope            2100F\n"
     ]
    }
   ],
   "source": [
    "data_path = r'C:\\Users\\emilc\\OneDrive - NTNU\\NORTEM\\Merlin\\LFO\\2021_03_18_P40204PV04\\SED_128x128x12_16x16nm_NBD_alpha1_spot05nm_CL3-7D11_IL1-4C92_CL12cm.mib'\n",
    "converter.data_path = data_path\n",
    "converter.read_mib()\n",
    "print(converter)"
   ],
   "metadata": {
    "collapsed": false,
    "pycharm": {
     "name": "#%%\n"
    }
   }
  },
  {
   "cell_type": "markdown",
   "source": [
    "We see that the converter has loaded the data as well as the available header file. Let us inspect the converter a little bit closer:"
   ],
   "metadata": {
    "collapsed": false,
    "pycharm": {
     "name": "#%% md\n"
    }
   }
  },
  {
   "cell_type": "code",
   "execution_count": 6,
   "outputs": [
    {
     "name": "stdout",
     "output_type": "stream",
     "text": [
      "16384\n",
      "3\n",
      "256\n",
      "256\n",
      "16384\n",
      "1\n"
     ]
    }
   ],
   "source": [
    "print(converter.frames)\n",
    "print(converter.dimension)\n",
    "print(converter.ndx)\n",
    "print(converter.ndy)\n",
    "print(converter.nx)\n",
    "print(converter.ny)"
   ],
   "metadata": {
    "collapsed": false,
    "pycharm": {
     "name": "#%%\n"
    }
   }
  },
  {
   "cell_type": "markdown",
   "source": [
    "We see that the converter has 65536 frames, dimension 3, and the detector sizes are 256x256. We also see that the number of scan pixels in the x-direction matches the number of frames and that the number of y-pixels are 1. That sounds about right. When loading mib data, it is loaded as a 3D stack, and we need to reshape it ourselves.\n",
    "### Reshaping the data"
   ],
   "metadata": {
    "collapsed": false,
    "pycharm": {
     "name": "#%% md\n"
    }
   }
  },
  {
   "cell_type": "code",
   "execution_count": 7,
   "outputs": [
    {
     "name": "stdout",
     "output_type": "stream",
     "text": [
      "16384\n",
      "4\n",
      "256\n",
      "256\n",
      "128\n",
      "128\n"
     ]
    }
   ],
   "source": [
    "converter.reshape(128, 128)\n",
    "print(converter.frames)\n",
    "print(converter.dimension)\n",
    "print(converter.ndx)\n",
    "print(converter.ndy)\n",
    "print(converter.nx)\n",
    "print(converter.ny)"
   ],
   "metadata": {
    "collapsed": false,
    "pycharm": {
     "name": "#%%\n"
    }
   }
  },
  {
   "cell_type": "markdown",
   "source": [
    "Now the number of scan pixels look more sensible. The converter object would throw an error if you tried to reshape the data into an inappropriate stack, so it ensures that `nx*ny=frames`. Let us now take a closer look at how the data in the converter object is chunked.\n",
    "### Chunking\n",
    "To see the data array in the signal of the converter, do:"
   ],
   "metadata": {
    "collapsed": false,
    "pycharm": {
     "name": "#%% md\n"
    }
   }
  },
  {
   "cell_type": "code",
   "execution_count": 8,
   "outputs": [
    {
     "data": {
      "text/plain": "dask.array<reshape, shape=(128, 128, 256, 256), dtype=>u2, chunksize=(5, 128, 256, 256), chunktype=numpy.ndarray>",
      "text/html": "<table>\n<tr>\n<td>\n<table>\n  <thead>\n    <tr><td> </td><th> Array </th><th> Chunk </th></tr>\n  </thead>\n  <tbody>\n    <tr><th> Bytes </th><td> 2.00 GiB </td> <td> 80.00 MiB </td></tr>\n    <tr><th> Shape </th><td> (128, 128, 256, 256) </td> <td> (5, 128, 256, 256) </td></tr>\n    <tr><th> Count </th><td> 279 Tasks </td><td> 26 Chunks </td></tr>\n    <tr><th> Type </th><td> >u2 </td><td> numpy.ndarray </td></tr>\n  </tbody>\n</table>\n</td>\n<td>\n<svg width=\"465\" height=\"205\" style=\"stroke:rgb(0,0,0);stroke-width:1\" >\n\n  <!-- Horizontal lines -->\n  <line x1=\"0\" y1=\"0\" x2=\"60\" y2=\"0\" style=\"stroke-width:2\" />\n  <line x1=\"0\" y1=\"25\" x2=\"60\" y2=\"25\" style=\"stroke-width:2\" />\n\n  <!-- Vertical lines -->\n  <line x1=\"0\" y1=\"0\" x2=\"0\" y2=\"25\" style=\"stroke-width:2\" />\n  <line x1=\"1\" y1=\"0\" x2=\"1\" y2=\"25\" />\n  <line x1=\"4\" y1=\"0\" x2=\"4\" y2=\"25\" />\n  <line x1=\"6\" y1=\"0\" x2=\"6\" y2=\"25\" />\n  <line x1=\"8\" y1=\"0\" x2=\"8\" y2=\"25\" />\n  <line x1=\"11\" y1=\"0\" x2=\"11\" y2=\"25\" />\n  <line x1=\"13\" y1=\"0\" x2=\"13\" y2=\"25\" />\n  <line x1=\"15\" y1=\"0\" x2=\"15\" y2=\"25\" />\n  <line x1=\"18\" y1=\"0\" x2=\"18\" y2=\"25\" />\n  <line x1=\"20\" y1=\"0\" x2=\"20\" y2=\"25\" />\n  <line x1=\"22\" y1=\"0\" x2=\"22\" y2=\"25\" />\n  <line x1=\"25\" y1=\"0\" x2=\"25\" y2=\"25\" />\n  <line x1=\"27\" y1=\"0\" x2=\"27\" y2=\"25\" />\n  <line x1=\"30\" y1=\"0\" x2=\"30\" y2=\"25\" />\n  <line x1=\"31\" y1=\"0\" x2=\"31\" y2=\"25\" />\n  <line x1=\"34\" y1=\"0\" x2=\"34\" y2=\"25\" />\n  <line x1=\"36\" y1=\"0\" x2=\"36\" y2=\"25\" />\n  <line x1=\"38\" y1=\"0\" x2=\"38\" y2=\"25\" />\n  <line x1=\"41\" y1=\"0\" x2=\"41\" y2=\"25\" />\n  <line x1=\"43\" y1=\"0\" x2=\"43\" y2=\"25\" />\n  <line x1=\"45\" y1=\"0\" x2=\"45\" y2=\"25\" />\n  <line x1=\"48\" y1=\"0\" x2=\"48\" y2=\"25\" />\n  <line x1=\"50\" y1=\"0\" x2=\"50\" y2=\"25\" />\n  <line x1=\"52\" y1=\"0\" x2=\"52\" y2=\"25\" />\n  <line x1=\"55\" y1=\"0\" x2=\"55\" y2=\"25\" />\n  <line x1=\"57\" y1=\"0\" x2=\"57\" y2=\"25\" />\n  <line x1=\"60\" y1=\"0\" x2=\"60\" y2=\"25\" style=\"stroke-width:2\" />\n\n  <!-- Colored Rectangle -->\n  <polygon points=\"0.0,0.0 60.0,0.0 60.0,25.412616514582485 0.0,25.412616514582485\" style=\"fill:#ECB172A0;stroke-width:0\"/>\n\n  <!-- Text -->\n  <text x=\"30.000000\" y=\"45.412617\" font-size=\"1.0rem\" font-weight=\"100\" text-anchor=\"middle\" >128</text>\n  <text x=\"80.000000\" y=\"12.706308\" font-size=\"1.0rem\" font-weight=\"100\" text-anchor=\"middle\" transform=\"rotate(0,80.000000,12.706308)\">1</text>\n\n\n  <!-- Horizontal lines -->\n  <line x1=\"130\" y1=\"0\" x2=\"165\" y2=\"35\" style=\"stroke-width:2\" />\n  <line x1=\"130\" y1=\"120\" x2=\"165\" y2=\"155\" style=\"stroke-width:2\" />\n\n  <!-- Vertical lines -->\n  <line x1=\"130\" y1=\"0\" x2=\"130\" y2=\"120\" style=\"stroke-width:2\" />\n  <line x1=\"165\" y1=\"35\" x2=\"165\" y2=\"155\" style=\"stroke-width:2\" />\n\n  <!-- Colored Rectangle -->\n  <polygon points=\"130.0,0.0 165.29411764705884,35.294117647058826 165.29411764705884,155.29411764705884 130.0,120.0\" style=\"fill:#ECB172A0;stroke-width:0\"/>\n\n  <!-- Horizontal lines -->\n  <line x1=\"130\" y1=\"0\" x2=\"250\" y2=\"0\" style=\"stroke-width:2\" />\n  <line x1=\"165\" y1=\"35\" x2=\"285\" y2=\"35\" style=\"stroke-width:2\" />\n\n  <!-- Vertical lines -->\n  <line x1=\"130\" y1=\"0\" x2=\"165\" y2=\"35\" style=\"stroke-width:2\" />\n  <line x1=\"250\" y1=\"0\" x2=\"285\" y2=\"35\" style=\"stroke-width:2\" />\n\n  <!-- Colored Rectangle -->\n  <polygon points=\"130.0,0.0 250.0,0.0 285.29411764705884,35.294117647058826 165.29411764705884,35.294117647058826\" style=\"fill:#ECB172A0;stroke-width:0\"/>\n\n  <!-- Horizontal lines -->\n  <line x1=\"165\" y1=\"35\" x2=\"285\" y2=\"35\" style=\"stroke-width:2\" />\n  <line x1=\"165\" y1=\"155\" x2=\"285\" y2=\"155\" style=\"stroke-width:2\" />\n\n  <!-- Vertical lines -->\n  <line x1=\"165\" y1=\"35\" x2=\"165\" y2=\"155\" style=\"stroke-width:2\" />\n  <line x1=\"285\" y1=\"35\" x2=\"285\" y2=\"155\" style=\"stroke-width:2\" />\n\n  <!-- Colored Rectangle -->\n  <polygon points=\"165.29411764705884,35.294117647058826 285.29411764705884,35.294117647058826 285.29411764705884,155.29411764705884 165.29411764705884,155.29411764705884\" style=\"fill:#ECB172A0;stroke-width:0\"/>\n\n  <!-- Text -->\n  <text x=\"225.294118\" y=\"175.294118\" font-size=\"1.0rem\" font-weight=\"100\" text-anchor=\"middle\" >256</text>\n  <text x=\"305.294118\" y=\"95.294118\" font-size=\"1.0rem\" font-weight=\"100\" text-anchor=\"middle\" transform=\"rotate(-90,305.294118,95.294118)\">256</text>\n  <text x=\"137.647059\" y=\"157.647059\" font-size=\"1.0rem\" font-weight=\"100\" text-anchor=\"middle\" transform=\"rotate(45,137.647059,157.647059)\">128</text>\n</svg>\n</td>\n</tr>\n</table>"
     },
     "execution_count": 8,
     "metadata": {},
     "output_type": "execute_result"
    }
   ],
   "source": [
    "converter.data.data"
   ],
   "metadata": {
    "collapsed": false,
    "pycharm": {
     "name": "#%%\n"
    }
   }
  },
  {
   "cell_type": "markdown",
   "source": [
    "Here we see that the chunking is very wierd and off. We should therefore rechunk our data so it makes more sense and is more effective when loading the final converted data lazily:"
   ],
   "metadata": {
    "collapsed": false,
    "pycharm": {
     "name": "#%% md\n"
    }
   }
  },
  {
   "cell_type": "code",
   "execution_count": 9,
   "outputs": [
    {
     "data": {
      "text/plain": "dask.array<rechunk-merge, shape=(128, 128, 256, 256), dtype=>u2, chunksize=(32, 32, 32, 32), chunktype=numpy.ndarray>",
      "text/html": "<table>\n<tr>\n<td>\n<table>\n  <thead>\n    <tr><td> </td><th> Array </th><th> Chunk </th></tr>\n  </thead>\n  <tbody>\n    <tr><th> Bytes </th><td> 2.00 GiB </td> <td> 2.00 MiB </td></tr>\n    <tr><th> Shape </th><td> (128, 128, 256, 256) </td> <td> (32, 32, 32, 32) </td></tr>\n    <tr><th> Count </th><td> 3007 Tasks </td><td> 1024 Chunks </td></tr>\n    <tr><th> Type </th><td> >u2 </td><td> numpy.ndarray </td></tr>\n  </tbody>\n</table>\n</td>\n<td>\n<svg width=\"465\" height=\"205\" style=\"stroke:rgb(0,0,0);stroke-width:1\" >\n\n  <!-- Horizontal lines -->\n  <line x1=\"0\" y1=\"0\" x2=\"60\" y2=\"0\" style=\"stroke-width:2\" />\n  <line x1=\"0\" y1=\"25\" x2=\"60\" y2=\"25\" style=\"stroke-width:2\" />\n\n  <!-- Vertical lines -->\n  <line x1=\"0\" y1=\"0\" x2=\"0\" y2=\"25\" style=\"stroke-width:2\" />\n  <line x1=\"15\" y1=\"0\" x2=\"15\" y2=\"25\" />\n  <line x1=\"30\" y1=\"0\" x2=\"30\" y2=\"25\" />\n  <line x1=\"45\" y1=\"0\" x2=\"45\" y2=\"25\" />\n  <line x1=\"60\" y1=\"0\" x2=\"60\" y2=\"25\" style=\"stroke-width:2\" />\n\n  <!-- Colored Rectangle -->\n  <polygon points=\"0.0,0.0 60.0,0.0 60.0,25.412616514582485 0.0,25.412616514582485\" style=\"fill:#ECB172A0;stroke-width:0\"/>\n\n  <!-- Text -->\n  <text x=\"30.000000\" y=\"45.412617\" font-size=\"1.0rem\" font-weight=\"100\" text-anchor=\"middle\" >128</text>\n  <text x=\"80.000000\" y=\"12.706308\" font-size=\"1.0rem\" font-weight=\"100\" text-anchor=\"middle\" transform=\"rotate(0,80.000000,12.706308)\">1</text>\n\n\n  <!-- Horizontal lines -->\n  <line x1=\"130\" y1=\"0\" x2=\"165\" y2=\"35\" style=\"stroke-width:2\" />\n  <line x1=\"130\" y1=\"15\" x2=\"165\" y2=\"50\" />\n  <line x1=\"130\" y1=\"30\" x2=\"165\" y2=\"65\" />\n  <line x1=\"130\" y1=\"45\" x2=\"165\" y2=\"80\" />\n  <line x1=\"130\" y1=\"60\" x2=\"165\" y2=\"95\" />\n  <line x1=\"130\" y1=\"75\" x2=\"165\" y2=\"110\" />\n  <line x1=\"130\" y1=\"90\" x2=\"165\" y2=\"125\" />\n  <line x1=\"130\" y1=\"105\" x2=\"165\" y2=\"140\" />\n  <line x1=\"130\" y1=\"120\" x2=\"165\" y2=\"155\" style=\"stroke-width:2\" />\n\n  <!-- Vertical lines -->\n  <line x1=\"130\" y1=\"0\" x2=\"130\" y2=\"120\" style=\"stroke-width:2\" />\n  <line x1=\"138\" y1=\"8\" x2=\"138\" y2=\"128\" />\n  <line x1=\"147\" y1=\"17\" x2=\"147\" y2=\"137\" />\n  <line x1=\"156\" y1=\"26\" x2=\"156\" y2=\"146\" />\n  <line x1=\"165\" y1=\"35\" x2=\"165\" y2=\"155\" style=\"stroke-width:2\" />\n\n  <!-- Colored Rectangle -->\n  <polygon points=\"130.0,0.0 165.29411764705884,35.294117647058826 165.29411764705884,155.29411764705884 130.0,120.0\" style=\"fill:#ECB172A0;stroke-width:0\"/>\n\n  <!-- Horizontal lines -->\n  <line x1=\"130\" y1=\"0\" x2=\"250\" y2=\"0\" style=\"stroke-width:2\" />\n  <line x1=\"138\" y1=\"8\" x2=\"258\" y2=\"8\" />\n  <line x1=\"147\" y1=\"17\" x2=\"267\" y2=\"17\" />\n  <line x1=\"156\" y1=\"26\" x2=\"276\" y2=\"26\" />\n  <line x1=\"165\" y1=\"35\" x2=\"285\" y2=\"35\" style=\"stroke-width:2\" />\n\n  <!-- Vertical lines -->\n  <line x1=\"130\" y1=\"0\" x2=\"165\" y2=\"35\" style=\"stroke-width:2\" />\n  <line x1=\"145\" y1=\"0\" x2=\"180\" y2=\"35\" />\n  <line x1=\"160\" y1=\"0\" x2=\"195\" y2=\"35\" />\n  <line x1=\"175\" y1=\"0\" x2=\"210\" y2=\"35\" />\n  <line x1=\"190\" y1=\"0\" x2=\"225\" y2=\"35\" />\n  <line x1=\"205\" y1=\"0\" x2=\"240\" y2=\"35\" />\n  <line x1=\"220\" y1=\"0\" x2=\"255\" y2=\"35\" />\n  <line x1=\"235\" y1=\"0\" x2=\"270\" y2=\"35\" />\n  <line x1=\"250\" y1=\"0\" x2=\"285\" y2=\"35\" style=\"stroke-width:2\" />\n\n  <!-- Colored Rectangle -->\n  <polygon points=\"130.0,0.0 250.0,0.0 285.29411764705884,35.294117647058826 165.29411764705884,35.294117647058826\" style=\"fill:#ECB172A0;stroke-width:0\"/>\n\n  <!-- Horizontal lines -->\n  <line x1=\"165\" y1=\"35\" x2=\"285\" y2=\"35\" style=\"stroke-width:2\" />\n  <line x1=\"165\" y1=\"50\" x2=\"285\" y2=\"50\" />\n  <line x1=\"165\" y1=\"65\" x2=\"285\" y2=\"65\" />\n  <line x1=\"165\" y1=\"80\" x2=\"285\" y2=\"80\" />\n  <line x1=\"165\" y1=\"95\" x2=\"285\" y2=\"95\" />\n  <line x1=\"165\" y1=\"110\" x2=\"285\" y2=\"110\" />\n  <line x1=\"165\" y1=\"125\" x2=\"285\" y2=\"125\" />\n  <line x1=\"165\" y1=\"140\" x2=\"285\" y2=\"140\" />\n  <line x1=\"165\" y1=\"155\" x2=\"285\" y2=\"155\" style=\"stroke-width:2\" />\n\n  <!-- Vertical lines -->\n  <line x1=\"165\" y1=\"35\" x2=\"165\" y2=\"155\" style=\"stroke-width:2\" />\n  <line x1=\"180\" y1=\"35\" x2=\"180\" y2=\"155\" />\n  <line x1=\"195\" y1=\"35\" x2=\"195\" y2=\"155\" />\n  <line x1=\"210\" y1=\"35\" x2=\"210\" y2=\"155\" />\n  <line x1=\"225\" y1=\"35\" x2=\"225\" y2=\"155\" />\n  <line x1=\"240\" y1=\"35\" x2=\"240\" y2=\"155\" />\n  <line x1=\"255\" y1=\"35\" x2=\"255\" y2=\"155\" />\n  <line x1=\"270\" y1=\"35\" x2=\"270\" y2=\"155\" />\n  <line x1=\"285\" y1=\"35\" x2=\"285\" y2=\"155\" style=\"stroke-width:2\" />\n\n  <!-- Colored Rectangle -->\n  <polygon points=\"165.29411764705884,35.294117647058826 285.29411764705884,35.294117647058826 285.29411764705884,155.29411764705884 165.29411764705884,155.29411764705884\" style=\"fill:#ECB172A0;stroke-width:0\"/>\n\n  <!-- Text -->\n  <text x=\"225.294118\" y=\"175.294118\" font-size=\"1.0rem\" font-weight=\"100\" text-anchor=\"middle\" >256</text>\n  <text x=\"305.294118\" y=\"95.294118\" font-size=\"1.0rem\" font-weight=\"100\" text-anchor=\"middle\" transform=\"rotate(-90,305.294118,95.294118)\">256</text>\n  <text x=\"137.647059\" y=\"157.647059\" font-size=\"1.0rem\" font-weight=\"100\" text-anchor=\"middle\" transform=\"rotate(45,137.647059,157.647059)\">128</text>\n</svg>\n</td>\n</tr>\n</table>"
     },
     "execution_count": 9,
     "metadata": {},
     "output_type": "execute_result"
    }
   ],
   "source": [
    "converter.rechunk(32)\n",
    "converter.data.data"
   ],
   "metadata": {
    "collapsed": false,
    "pycharm": {
     "name": "#%%\n"
    }
   }
  },
  {
   "cell_type": "markdown",
   "source": [
    "Now the dask array looks more sensible. Each chunk has the same shape and measure 32x32x32x32. The final step in preparing your data is to apply the calibrations and set the metadata of the signal.\n",
    "### Applying calibrations\n",
    "You must specifically ask the calibrations in the `microscope_parameter` to apply to your data. Let us take a closer look:"
   ],
   "metadata": {
    "collapsed": false,
    "pycharm": {
     "name": "#%% md\n"
    }
   }
  },
  {
   "cell_type": "code",
   "execution_count": 10,
   "outputs": [
    {
     "name": "stdout",
     "output_type": "stream",
     "text": [
      "<Axes manager, axes: (128, 128|256, 256)>\n",
      "            Name |   size |  index |  offset |   scale |  units \n",
      "================ | ====== | ====== | ======= | ======= | ====== \n",
      "     <undefined> |    128 |      0 |       0 |       1 | <undefined> \n",
      "     <undefined> |    128 |      0 |       0 |       1 | <undefined> \n",
      "---------------- | ------ | ------ | ------- | ------- | ------ \n",
      "     <undefined> |    256 |        |       0 |       1 | <undefined> \n",
      "     <undefined> |    256 |        |       0 |       1 | <undefined> \n",
      "├── General\n",
      "│   └── title = \n",
      "└── Signal\n",
      "    ├── binned = False\n",
      "    └── signal_type = electron_diffraction\n",
      "\n",
      "\n"
     ]
    }
   ],
   "source": [
    "print(converter.data.axes_manager)\n",
    "print(converter.data.metadata)\n",
    "print(converter.data.original_metadata)"
   ],
   "metadata": {
    "collapsed": false,
    "pycharm": {
     "name": "#%%\n"
    }
   }
  },
  {
   "cell_type": "markdown",
   "source": [
    "We see that no calibration data has been set yet and there are no metadata present, so let us apply the calibrations"
   ],
   "metadata": {
    "collapsed": false,
    "pycharm": {
     "name": "#%% md\n"
    }
   }
  },
  {
   "cell_type": "code",
   "execution_count": 11,
   "outputs": [
    {
     "name": "stdout",
     "output_type": "stream",
     "text": [
      "<Axes manager, axes: (128, 128|256, 256)>\n",
      "            Name |   size |  index |  offset |   scale |  units \n",
      "================ | ====== | ====== | ======= | ======= | ====== \n",
      "               x |    128 |      0 |       0 |      16 |     nm \n",
      "               y |    128 |      0 |       0 |      16 |     nm \n",
      "---------------- | ------ | ------ | ------- | ------- | ------ \n",
      "              kx |    256 |        |    -1.2 |  0.0096 | $A^{-1}$ \n",
      "              ky |    256 |        |    -1.2 |  0.0096 | $A^{-1}$ \n",
      "├── Acquisition_instrument\n",
      "│   └── TEM\n",
      "│       ├── Detector\n",
      "│       │   └── Diffraction\n",
      "│       │       └── camera_length = 22.95273094471488\n",
      "│       ├── beam_energy = 200000\n",
      "│       ├── convergence_angle = nan\n",
      "│       ├── rocking_angle = nan\n",
      "│       └── rocking_frequency = nan\n",
      "├── General\n",
      "│   └── title = \n",
      "└── Signal\n",
      "    ├── binned = False\n",
      "    └── signal_type = electron_diffraction\n",
      "\n",
      "├── Acquisition_instrument\n",
      "│   └── Parameters\n",
      "│       ├── acceleration_voltage\n",
      "│       │   ├── Units = V\n",
      "│       │   └── Value = 200000\n",
      "│       ├── acquisition_date\n",
      "│       │   ├── Units = \n",
      "│       │   └── Value = None\n",
      "│       ├── alpha\n",
      "│       │   ├── Units = \n",
      "│       │   └── Value = 1\n",
      "│       ├── camera\n",
      "│       │   ├── Units = \n",
      "│       │   └── Value = Merlin\n",
      "│       ├── cameralength\n",
      "│       │   ├── Actual value = 22.95273094471488\n",
      "│       │   ├── Nominal value = 12\n",
      "│       │   └── Units = cm\n",
      "│       ├── condenser_aperture\n",
      "│       │   ├── Actual value = nan\n",
      "│       │   ├── Nominal value = nan\n",
      "│       │   └── Units = um\n",
      "│       ├── convergence_angle\n",
      "│       │   ├── Actual value = nan\n",
      "│       │   ├── Nominal value = nan\n",
      "│       │   └── Units = mrad\n",
      "│       ├── exposure_time\n",
      "│       │   ├── Units = ms\n",
      "│       │   └── Value = nan\n",
      "│       ├── mag_mode\n",
      "│       │   ├── Units = \n",
      "│       │   └── Value = None\n",
      "│       ├── magnification\n",
      "│       │   ├── Actual value = nan\n",
      "│       │   ├── Nominal value = nan\n",
      "│       │   └── Units = \n",
      "│       ├── microscope\n",
      "│       │   ├── Units = \n",
      "│       │   └── Value = 2100F\n",
      "│       ├── mode\n",
      "│       │   ├── Units = \n",
      "│       │   └── Value = NBD\n",
      "│       ├── rocking_angle\n",
      "│       │   ├── Actual value = nan\n",
      "│       │   ├── Nominal value = nan\n",
      "│       │   └── Units = deg\n",
      "│       ├── rocking_frequency\n",
      "│       │   ├── Units = Hz\n",
      "│       │   └── Value = nan\n",
      "│       ├── scale\n",
      "│       │   ├── Units = 1/Å\n",
      "│       │   └── Value = 0.009554593381028329\n",
      "│       ├── spot\n",
      "│       │   ├── Units = \n",
      "│       │   └── Value = nan\n",
      "│       ├── spotsize\n",
      "│       │   ├── Actual value = nan\n",
      "│       │   ├── Nominal value = 0.5\n",
      "│       │   └── Units = nm\n",
      "│       ├── step_x\n",
      "│       │   ├── Actual value = 16\n",
      "│       │   ├── Nominal value = 16\n",
      "│       │   └── Units = nm\n",
      "│       └── step_y\n",
      "│           ├── Actual value = 16\n",
      "│           ├── Nominal value = 16\n",
      "│           └── Units = nm\n",
      "└── Header\n",
      "    ├── acquisitiontype(normal,th_scan,config) = Normal\n",
      "    ├── activecounters = Counter 0\n",
      "    ├── assemblysize(nx1,2x2) = 1x1\n",
      "    ├── bpcfile = c:\\MERLIN_Quad_Config\\W559_G11\\W559_G11_SPM.bpc,,,\n",
      "    ├── chipid = W559_G11, - , - , -\n",
      "    ├── chipmode(spm,csm,cm,cscm) = SPM\n",
      "    ├── chiptype(medipix3.0,medipix3.1,medipix3rx) = Medipix 3RX\n",
      "    ├── counterdepth(number) = 12\n",
      "    ├── dacfile = c:\\MERLIN_Quad_Config\\W559_G11\\W559_G11_SPM.dacs,,,\n",
      "    ├── dacs = 068,511,000,000,000,000,000,000,100,255,100,125,100,100,080,100,090,030,128,004,255,126,128,174,172,511,511; ; ;\n",
      "    ├── deadtimefile = Dummy (C:\\<NUL>\\)\n",
      "    ├── flatfieldfile = None\n",
      "    ├── framesinacquisition(number) = 16384\n",
      "    ├── framespertrigger(number) = 1\n",
      "    ├── gain = SLGM\n",
      "    ├── gapfillmode = None\n",
      "    ├── humidity(%) = Board Humidity 0.000000\n",
      "    ├── medipixclock(mhz) = 160MHz\n",
      "    ├── readoutsystem = Merlin Quad\n",
      "    ├── sensorbias(v) = 120 V\n",
      "    ├── sensorpolarity(positive,negative) = Positive\n",
      "    ├── softwareversion = 0.76.1.101\n",
      "    ├── temperature(c) = Board Temp 0.000000 Deg C\n",
      "    ├── thresholds(kev) = 4.000000E+1,5.110000E+2,0.000000E+0,0.000000E+0,0.000000E+0,0.000000E+0,0.000000E+0,0.000000E+0\n",
      "    ├── timeanddatestamp(day,mnth,yr,hr,min,s) = 18/03/2021 19:30:37\n",
      "    ├── triggerstart(positive,negative,internal) = Rising Edge\n",
      "    └── triggerstop(positive,negative,internal) = Internal\n",
      "\n"
     ]
    }
   ],
   "source": [
    "converter.apply_calibrations()\n",
    "print(converter.data.axes_manager)\n",
    "print(converter.data.metadata)\n",
    "print(converter.data.original_metadata)"
   ],
   "metadata": {
    "collapsed": false,
    "pycharm": {
     "name": "#%%\n"
    }
   }
  },
  {
   "cell_type": "markdown",
   "source": [
    "Now the axes have been calibrated, and there are relevant metadata information in both the converter.data.metadata field and in the converter.data.original_metadata field. The data should now be ready for writing.\n",
    "\n",
    "### Writing data\n",
    "To write the data into a .hspy file, simply do"
   ],
   "metadata": {
    "collapsed": false,
    "pycharm": {
     "name": "#%% md\n"
    }
   }
  },
  {
   "cell_type": "code",
   "execution_count": 12,
   "outputs": [],
   "source": [
    "converter.write('.hspy', overwrite=True)"
   ],
   "metadata": {
    "collapsed": false,
    "pycharm": {
     "name": "#%%\n"
    }
   }
  },
  {
   "cell_type": "markdown",
   "source": [
    "You can also write the data into a .hdf5 file (identical to .hspy really), or to images such as .png or .tif. The image formats are most useful for single-frame data, but you can also ask for a set number of frames to be written:"
   ],
   "metadata": {
    "collapsed": false,
    "pycharm": {
     "name": "#%% md\n"
    }
   }
  },
  {
   "cell_type": "code",
   "execution_count": 47,
   "outputs": [
    {
     "name": "stderr",
     "output_type": "stream",
     "text": [
      "C:\\Users\\emilc\\Documents\\mib2hspy\\mib2hspy\\Tools\\conversion.py:751: UserWarning: <LazyElectronDiffraction2D, title: , dimensions: (256, 256|256, 256)> contains a stack of images. Converting this data to .png is not advised as it will create 65536 files\n",
      "  warn(\n",
      "C:\\Users\\emilc\\Documents\\mib2hspy\\mib2hspy\\Tools\\conversion.py:498: UserWarning: Preparing plots for a stack is not advised.\n",
      "  warn('Preparing plots for a stack is not advised.')\n"
     ]
    }
   ],
   "source": [
    "converter.write('.png', num_frames=3)"
   ],
   "metadata": {
    "collapsed": false,
    "pycharm": {
     "name": "#%%\n"
    }
   }
  },
  {
   "cell_type": "markdown",
   "source": [
    "You can also ask for a VBF of your data and save it, but it is quite slow at the moment."
   ],
   "metadata": {
    "collapsed": false,
    "pycharm": {
     "name": "#%% md\n"
    }
   }
  },
  {
   "cell_type": "code",
   "execution_count": null,
   "outputs": [],
   "source": [
    "fig = converter.plot_vbf(vbf_kwargs={'width':20})\n",
    "fig.savefig(converter.data_path.with_suffix('.png'))"
   ],
   "metadata": {
    "collapsed": false,
    "pycharm": {
     "name": "#%%\n"
    }
   }
  },
  {
   "cell_type": "markdown",
   "source": [
    "To load the converted data to check that everything went ok, you can load it like this. To inspect the data, it is relatively fast to create a rough square-VBF of the lazy data and look at that"
   ],
   "metadata": {
    "collapsed": false,
    "pycharm": {
     "name": "#%% md\n"
    }
   }
  },
  {
   "cell_type": "code",
   "execution_count": 48,
   "outputs": [
    {
     "name": "stdout",
     "output_type": "stream",
     "text": [
      "[########################################] | 100% Completed |  1.8s\n"
     ]
    },
    {
     "name": "stderr",
     "output_type": "stream",
     "text": [
      "C:\\Users\\emilc\\Miniconda3\\envs\\mib2hspy\\lib\\site-packages\\hyperspy\\drawing\\utils.py:163: MatplotlibDeprecationWarning: \n",
      "The set_window_title function was deprecated in Matplotlib 3.4 and will be removed two minor releases later. Use manager.set_window_title or GUI-specific methods instead.\n",
      "  fig.canvas.set_window_title(window_title)\n"
     ]
    }
   ],
   "source": [
    "s = hs.load(converter.data_path.with_suffix('.hspy'), lazy=True)\n",
    "navigator = s.isig[-0.1:0.1, -0.1:0.1].sum(axis=[2, 3]).T\n",
    "navigator.compute()\n",
    "navigator.plot(cmap='inferno')"
   ],
   "metadata": {
    "collapsed": false,
    "pycharm": {
     "name": "#%%\n"
    }
   }
  },
  {
   "cell_type": "markdown",
   "source": [
    "## MicroscopeParameters Example\n",
    "This part is meant to explain the workings of the microscope parameters objects that are used to calibrate the data. They are designed to work with a GUI, so they might appear overly complicated at first glance. It is best to use an example to explain how they work.\n",
    "\n",
    "In the case of a scan dataset, the scan step along the x-direction should be stored in `converter.microscope_parameters.scan_step_x`. Taking a closer look at this object, we see that it has a name, a value, a nominal value, and a unit property:"
   ],
   "metadata": {
    "collapsed": false,
    "pycharm": {
     "name": "#%% md\n"
    }
   }
  },
  {
   "cell_type": "code",
   "execution_count": 15,
   "outputs": [
    {
     "name": "stdout",
     "output_type": "stream",
     "text": [
      "ScanStep Step X: nan (nan) nm\n",
      "Step X\n",
      "nan\n",
      "nan\n",
      "nm\n"
     ]
    }
   ],
   "source": [
    "print(converter.microscope_parameters.scan_step_x)\n",
    "print(converter.microscope_parameters.scan_step_x.name)\n",
    "print(converter.microscope_parameters.scan_step_x.value)\n",
    "print(converter.microscope_parameters.scan_step_x.nominal_value)\n",
    "print(converter.microscope_parameters.scan_step_x.units)"
   ],
   "metadata": {
    "collapsed": false,
    "pycharm": {
     "name": "#%%\n"
    }
   }
  },
  {
   "cell_type": "markdown",
   "source": [
    "Other parameters may or may not have the `.nominal_value` property, but the other properties are common for all the other microscope parameters.\n",
    "\n",
    "Now, to set the value and the nominal value of the scan step, we can simply do:"
   ],
   "metadata": {
    "collapsed": false,
    "pycharm": {
     "name": "#%% md\n"
    }
   }
  },
  {
   "cell_type": "code",
   "execution_count": 18,
   "outputs": [
    {
     "name": "stdout",
     "output_type": "stream",
     "text": [
      "ScanStep Step X: 1.99 (2) nm\n"
     ]
    }
   ],
   "source": [
    "converter.microscope_parameters.scan_step_x = (2, 1.99)\n",
    "print(converter.microscope_parameters.scan_step_x)"
   ],
   "metadata": {
    "collapsed": false,
    "pycharm": {
     "name": "#%%\n"
    }
   }
  },
  {
   "cell_type": "markdown",
   "source": [
    "If we only want to set the value, we can instead do:"
   ],
   "metadata": {
    "collapsed": false,
    "pycharm": {
     "name": "#%% md\n"
    }
   }
  },
  {
   "cell_type": "code",
   "execution_count": 20,
   "outputs": [
    {
     "name": "stdout",
     "output_type": "stream",
     "text": [
      "ScanStep Step X: 1.98 (2) nm\n"
     ]
    }
   ],
   "source": [
    "converter.microscope_parameters.scan_step_x = 1.98\n",
    "print(converter.microscope_parameters.scan_step_x)"
   ],
   "metadata": {
    "collapsed": false,
    "pycharm": {
     "name": "#%%\n"
    }
   }
  },
  {
   "cell_type": "markdown",
   "source": [
    "As you can see, the value can be set by simple assignment, but the nominal value has to be set along with the actual value. That is because if you change the nominal value, you typically also want to change the actual value as well. To set only the nominal value, without specifying an actual value, simply set the actual value to `nan`:"
   ],
   "metadata": {
    "collapsed": false,
    "pycharm": {
     "name": "#%% md\n"
    }
   }
  },
  {
   "cell_type": "code",
   "execution_count": 21,
   "outputs": [
    {
     "name": "stdout",
     "output_type": "stream",
     "text": [
      "ScanStep Step X: nan (1.5) nm\n"
     ]
    }
   ],
   "source": [
    "converter.microscope_parameters.scan_step_x = (1.5, nan)\n",
    "print(converter.microscope_parameters.scan_step_x)"
   ],
   "metadata": {
    "collapsed": false,
    "pycharm": {
     "name": "#%%\n"
    }
   }
  },
  {
   "cell_type": "markdown",
   "source": [
    "Some of the parameters, like `converter.microscope_parameters.scan_step_x` have additional properties that depend on the parameter. For example, the direction of the scan is defined in the `.direction` property (which exists only for the scan step parameters):"
   ],
   "metadata": {
    "collapsed": false,
    "pycharm": {
     "name": "#%% md\n"
    }
   }
  },
  {
   "cell_type": "code",
   "execution_count": 22,
   "outputs": [
    {
     "data": {
      "text/plain": "'X'"
     },
     "execution_count": 22,
     "metadata": {},
     "output_type": "execute_result"
    }
   ],
   "source": [
    "converter.microscope_parameters.scan_step_x.direction"
   ],
   "metadata": {
    "collapsed": false,
    "pycharm": {
     "name": "#%%\n"
    }
   }
  },
  {
   "cell_type": "markdown",
   "source": [
    "In other words, each parameter object is made to work in a specific way and interact with the data you want to convert.\n"
   ],
   "metadata": {
    "collapsed": false,
    "pycharm": {
     "name": "#%% md\n"
    }
   }
  },
  {
   "cell_type": "markdown",
   "source": [
    "# Calibrations [WIP]"
   ],
   "metadata": {
    "collapsed": false
   }
  },
  {
   "cell_type": "code",
   "execution_count": null,
   "outputs": [],
   "source": [
    "signal = hs.load(r'C:\\Users\\emilc\\OneDrive - NTNU\\NORTEM\\Calibrations\\2100F\\Merlin\\2020_11_21_TEDPELLA673\\CL8cm.hspy')\n",
    "cl = m2h.get_calibration_from_MERLIN(signal)\n",
    "print(cl)\n",
    "cl.as_dataframe()"
   ],
   "metadata": {
    "collapsed": false,
    "pycharm": {
     "name": "#%%\n"
    }
   }
  },
  {
   "cell_type": "code",
   "execution_count": null,
   "outputs": [],
   "source": [
    "signal = hs.load(r'C:\\Users\\emilc\\OneDrive - NTNU\\NORTEM\\Calibrations\\2100F\\Merlin\\2020_11_21_TEDPELLA673\\SAMAG10k.hspy')\n",
    "mag = m2h.get_calibration_from_MERLIN(signal)\n",
    "mag.nominal_value=10000\n",
    "mag.parameters['Mag mode']='SAMAG'\n",
    "print(mag)\n",
    "mag.as_dataframe()"
   ],
   "metadata": {
    "collapsed": false,
    "pycharm": {
     "name": "#%%\n"
    }
   }
  },
  {
   "cell_type": "code",
   "execution_count": null,
   "outputs": [],
   "source": [
    "signal.original_metadata"
   ],
   "metadata": {
    "collapsed": false,
    "pycharm": {
     "name": "#%%\n"
    }
   }
  },
  {
   "cell_type": "code",
   "execution_count": null,
   "outputs": [],
   "source": [
    "cameralengths = [\n",
    "    (8, 16.2)\n",
    "]\n",
    "\n",
    "cl1 = m2h.Cameralength(8, 16.2, '2020-12-07',acceleration_voltage=200000, camera='Merlin')\n",
    "#cl1.calibrate_cameralength()\n",
    "cl1.calibrate_scale()\n",
    "print(cl1.as_dataframe())"
   ],
   "metadata": {
    "collapsed": false,
    "pycharm": {
     "name": "#%%\n"
    }
   }
  },
  {
   "cell_type": "code",
   "execution_count": null,
   "outputs": [],
   "source": [
    "mag1 = m2h.Magnification(12000, 1, '2020-12-07', scale=0.979, acceleration_voltage=200000, camera='US1000')\n",
    "#mag1.calibrate_scale()\n",
    "mag1.calibrate_magnification()\n",
    "print(mag1)"
   ],
   "metadata": {
    "collapsed": false,
    "pycharm": {
     "name": "#%%\n"
    }
   }
  },
  {
   "cell_type": "code",
   "execution_count": null,
   "outputs": [],
   "source": [
    "m1 = m2h.Magnification(8000, 12030, '2020-12-07', acceleration_voltage=200000, mode='TEM', camera='Ultrascan', mag_mode='SAMAG')\n",
    "cl1 = m2h.Cameralength(8, 16.2, '2020-12-07', scale=0.00134, spot_size=0.5, acceleration_voltage=200000, camera='Merlin')\n",
    "cl2 = m2h.Cameralength(10, 19.3, '2020-12-07', acceleration_voltage=200000, camera='Merlin')\n",
    "cl3 = m2h.Cameralength(10, 19.3, '2020-12-07', acceleration_voltage=200000, camera='Ultrascan')\n",
    "step1 = m2h.StepSize(2.5, 2.4, '2020-12-07', direction='X', mode='STEM', alpha=None)\n",
    "precession_calibration = m2h.PrecessionAngle(1.0, 1.04, 20., '2020-12-07', mode='NBD', alpha='Alpha 4', deflectors={'Upper_1': {'X': {'A':0.1, 'P':39}, 'Y': {'A': 0.5, 'P': 44}}})\n",
    "spot1 = m2h.Spotsize(3, '2020-12-07', spot_size=0.5, mode='NBD', alpha=4, acceleration_voltage=200000)\n",
    "calibrations = m2h.CalibrationList()\n",
    "calibrations+=m1\n",
    "calibrations+=cl1\n",
    "calibrations+=cl2\n",
    "calibrations+=cl3\n",
    "calibrations+=step1\n",
    "calibrations += precession_calibration\n",
    "calibrations += spot1\n",
    "#print([calibration.nominal_value for calibration in calibrations])\n",
    "print(calibrations.dataframe)\n"
   ],
   "metadata": {
    "collapsed": false,
    "pycharm": {
     "name": "#%%\n"
    }
   }
  },
  {
   "cell_type": "code",
   "execution_count": null,
   "outputs": [],
   "source": [
    "cl1.as_dataframe()\n",
    "#spot1.as_dataframe()"
   ],
   "metadata": {
    "collapsed": false,
    "pycharm": {
     "name": "#%%\n"
    }
   }
  },
  {
   "cell_type": "code",
   "execution_count": null,
   "outputs": [],
   "source": [
    "new_calibrations = m2h.generate_from_dataframe(calibrations.dataframe)\n",
    "print(new_calibrations.dataframe)"
   ],
   "metadata": {
    "collapsed": false,
    "pycharm": {
     "name": "#%%\n"
    }
   }
  },
  {
   "cell_type": "code",
   "execution_count": null,
   "outputs": [],
   "source": [
    "precession_calibration.as_dataframe(ignore_nans=False)"
   ],
   "metadata": {
    "collapsed": false,
    "pycharm": {
     "name": "#%%\n"
    }
   }
  },
  {
   "cell_type": "code",
   "execution_count": null,
   "outputs": [],
   "source": [
    "step1 = m2h.StepSize(2, 1.9, '2020-12-07', mode='STEM', alpha=None)\n",
    "print(step1.as_dataframe())"
   ],
   "metadata": {
    "collapsed": false,
    "pycharm": {
     "name": "#%%\n"
    }
   }
  },
  {
   "cell_type": "code",
   "execution_count": null,
   "outputs": [],
   "source": [
    "cl3.scale"
   ],
   "metadata": {
    "collapsed": false,
    "pycharm": {
     "name": "#%%\n"
    }
   }
  },
  {
   "cell_type": "code",
   "execution_count": null,
   "outputs": [],
   "source": [
    "print(calibrations['`Nominal Cameralength (cm)`==8.0'])"
   ],
   "metadata": {
    "collapsed": false,
    "pycharm": {
     "name": "#%%\n"
    }
   }
  },
  {
   "cell_type": "code",
   "execution_count": null,
   "outputs": [],
   "source": [
    "\n",
    "#print(precession_calibration)\n",
    "print(precession_calibration.as_dataframe(ignore_nans=False))"
   ],
   "metadata": {
    "collapsed": false,
    "pycharm": {
     "name": "#%%\n"
    }
   }
  },
  {
   "cell_type": "code",
   "execution_count": null,
   "outputs": [],
   "source": [
    "from mib2hspy import DiffractionScale"
   ],
   "metadata": {
    "collapsed": false,
    "pycharm": {
     "name": "#%%\n"
    }
   }
  },
  {
   "cell_type": "code",
   "execution_count": null,
   "outputs": [],
   "source": [
    "cl3.scale"
   ],
   "metadata": {
    "collapsed": false,
    "pycharm": {
     "name": "#%%\n"
    }
   }
  },
  {
   "cell_type": "code",
   "execution_count": null,
   "outputs": [],
   "source": [
    "cl3.scale"
   ],
   "metadata": {
    "collapsed": false,
    "pycharm": {
     "name": "#%%\n"
    }
   }
  },
  {
   "cell_type": "code",
   "execution_count": null,
   "outputs": [],
   "source": [
    "print(calibrations['`Nominal Cameralength (cm)`==8.0'])"
   ],
   "metadata": {
    "collapsed": false,
    "pycharm": {
     "name": "#%%\n"
    }
   }
  },
  {
   "cell_type": "code",
   "execution_count": null,
   "outputs": [],
   "source": [
    "\n",
    "#print(precession_calibration)\n",
    "print(precession_calibration.as_dataframe(ignore_nans=False))"
   ],
   "metadata": {
    "collapsed": false,
    "pycharm": {
     "name": "#%%\n"
    }
   }
  },
  {
   "cell_type": "code",
   "execution_count": null,
   "outputs": [],
   "source": [
    "from mib2hspy import DiffractionScale"
   ],
   "metadata": {
    "collapsed": false,
    "pycharm": {
     "name": "#%%\n"
    }
   }
  },
  {
   "cell_type": "code",
   "execution_count": null,
   "outputs": [],
   "source": [
    "cl3.scale"
   ],
   "metadata": {
    "collapsed": false,
    "pycharm": {
     "name": "#%%\n"
    }
   }
  },
  {
   "cell_type": "code",
   "execution_count": null,
   "outputs": [],
   "source": [
    "print(calibrations['`Nominal Cameralength (cm)`==8.0'])"
   ],
   "metadata": {
    "collapsed": false,
    "pycharm": {
     "name": "#%%\n"
    }
   }
  },
  {
   "cell_type": "code",
   "execution_count": null,
   "outputs": [],
   "source": [
    "\n",
    "#print(precession_calibration)\n",
    "print(precession_calibration.as_dataframe(ignore_nans=False))"
   ],
   "metadata": {
    "collapsed": false,
    "pycharm": {
     "name": "#%%\n"
    }
   }
  },
  {
   "cell_type": "code",
   "execution_count": null,
   "outputs": [],
   "source": [
    "from mib2hspy import DiffractionScale"
   ],
   "metadata": {
    "collapsed": false,
    "pycharm": {
     "name": "#%%\n"
    }
   }
  },
  {
   "cell_type": "code",
   "execution_count": null,
   "outputs": [],
   "source": [
    "cl = DiffractionScale(0.000135)\n",
    "print(cl)\n",
    "print(cl.to_inv_nm(200000))\n",
    "print(cl.calculate_cameralength(200000, 55E-6))\n",
    "dp = m2h.Cameralength(8, 16.20, '2020-11-20', scale=cl, acceleration_voltage=200000)"
   ],
   "metadata": {
    "collapsed": false,
    "pycharm": {
     "name": "#%%\n"
    }
   }
  },
  {
   "cell_type": "code",
   "execution_count": null,
   "outputs": [],
   "source": [
    "print(dp.as_dataframe())"
   ],
   "metadata": {
    "collapsed": false,
    "pycharm": {
     "name": "#%%\n"
    }
   }
  },
  {
   "cell_type": "code",
   "execution_count": null,
   "outputs": [],
   "source": [
    "mag1 = m2h.Magnification(8000, 16302, '2020-12-01', scale=m2h.Scale(0.34, 'nm'))\n",
    "mag2 = m2h.Magnification(8000, 16302, '2020-12-01')\n",
    "cl1 = m2h.Cameralength(8, 16.32, '2020-12-02', scale=m2h.Scale(0.34, '1/nm'), Acceleration_voltage=200000)\n",
    "\n",
    "df = pd.DataFrame()\n",
    "df = mag1.add_to_dataframe(df)\n",
    "df = mag2.add_to_dataframe(df)\n",
    "df = cl1.add_to_dataframe(df)\n",
    "\n",
    "print(df)"
   ],
   "metadata": {
    "collapsed": false,
    "pycharm": {
     "name": "#%%\n"
    }
   }
  },
  {
   "cell_type": "code",
   "execution_count": null,
   "outputs": [],
   "source": [
    "cl = DiffractionScale(0.000135)\n",
    "print(cl)\n",
    "print(cl.to_inv_nm(200000))\n",
    "print(cl.calculate_cameralength(200000, 55E-6))\n",
    "dp = m2h.Cameralength(8, 16.20, '2020-11-20', scale=cl, acceleration_voltage=200000)"
   ],
   "metadata": {
    "collapsed": false,
    "pycharm": {
     "name": "#%%\n"
    }
   }
  },
  {
   "cell_type": "code",
   "execution_count": null,
   "outputs": [],
   "source": [
    "print(dp.as_dataframe())"
   ],
   "metadata": {
    "collapsed": false,
    "pycharm": {
     "name": "#%%\n"
    }
   }
  },
  {
   "cell_type": "code",
   "execution_count": null,
   "outputs": [],
   "source": [
    "mag1 = m2h.Magnification(8000, 16302, '2020-12-01', scale=m2h.Scale(0.34, 'nm'))\n",
    "mag2 = m2h.Magnification(8000, 16302, '2020-12-01')\n",
    "cl1 = m2h.Cameralength(8, 16.32, '2020-12-02', scale=m2h.Scale(0.34, '1/nm'), Acceleration_voltage=200000)\n",
    "\n",
    "df = pd.DataFrame()\n",
    "df = mag1.add_to_dataframe(df)\n",
    "df = mag2.add_to_dataframe(df)\n",
    "df = cl1.add_to_dataframe(df)\n",
    "\n",
    "print(df)"
   ],
   "metadata": {
    "collapsed": false,
    "pycharm": {
     "name": "#%%\n"
    }
   }
  },
  {
   "cell_type": "code",
   "execution_count": null,
   "outputs": [],
   "source": [
    "df = mag1.as_dataframe()\n",
    "df = mag2.add_to_dataframe(df)\n",
    "print(df)\n"
   ],
   "metadata": {
    "collapsed": false,
    "pycharm": {
     "name": "#%%\n"
    }
   }
  },
  {
   "cell_type": "code",
   "execution_count": null,
   "outputs": [],
   "source": [
    "df = mag1.as_dataframe()\n",
    "df = mag2.add_to_dataframe(df, remove_duplicates=True)\n",
    "print(df)\n",
    "#print(mag)"
   ],
   "metadata": {
    "collapsed": false,
    "pycharm": {
     "name": "#%%\n"
    }
   }
  },
  {
   "cell_type": "code",
   "execution_count": null,
   "outputs": [],
   "source": [
    "microscope = m2h.Microscope()\n",
    "\n",
    "print(microscope)"
   ],
   "metadata": {
    "collapsed": false,
    "pycharm": {
     "name": "#%%\n"
    }
   }
  },
  {
   "cell_type": "code",
   "execution_count": null,
   "outputs": [],
   "source": [
    "microscope.set_acceleration_voltage(200)\n",
    "microscope.set_alpha(4)\n",
    "microscope.set_mode('NBD')\n",
    "microscope.set_nominal_cameralength(8)\n",
    "microscope.set_cameralength(16.2)\n",
    "\n",
    "print(microscope)\n",
    "print(microscope.get_defined_parameters_(as_dict=True))"
   ],
   "metadata": {
    "collapsed": false,
    "pycharm": {
     "name": "#%%\n"
    }
   }
  },
  {
   "cell_type": "code",
   "execution_count": null,
   "outputs": [],
   "source": [
    "\n"
   ],
   "metadata": {
    "collapsed": false,
    "pycharm": {
     "name": "#%%\n"
    }
   }
  }
 ],
 "metadata": {
  "kernelspec": {
   "display_name": "Python 3",
   "language": "python",
   "name": "python3"
  },
  "language_info": {
   "codemirror_mode": {
    "name": "ipython",
    "version": 3
   },
   "file_extension": ".py",
   "mimetype": "text/x-python",
   "name": "python",
   "nbconvert_exporter": "python",
   "pygments_lexer": "ipython3",
   "version": "3.8.8"
  }
 },
 "nbformat": 4,
 "nbformat_minor": 1
}