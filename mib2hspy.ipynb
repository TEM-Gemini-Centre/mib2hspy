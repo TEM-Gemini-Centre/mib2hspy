{
 "cells": [
  {
   "cell_type": "code",
   "execution_count": 1,
   "metadata": {
    "collapsed": true
   },
   "outputs": [
    {
     "name": "stderr",
     "output_type": "stream",
     "text": [
      "WARNING:silx.opencl.common:Unable to import pyOpenCl. Please install it from: http://pypi.python.org/pypi/pyopencl\n"
     ]
    }
   ],
   "source": [
    "%matplotlib qt\n",
    "import mib2hspy as m2h\n",
    "import pandas as pd"
   ]
  },
  {
   "cell_type": "code",
   "execution_count": 1,
   "outputs": [
    {
     "name": "stderr",
     "output_type": "stream",
     "text": [
      "WARNING:hyperspy_gui_traitsui:The module://ipykernel.pylab.backend_inline matplotlib backend is not compatible with the traitsui GUI elements. For more information, read http://hyperspy.readthedocs.io/en/stable/user_guide/getting_started.html#possible-warnings-when-importing-hyperspy.\n",
      "WARNING:hyperspy_gui_traitsui:The traitsui GUI elements are not available.\n",
      "WARNING:silx.opencl.common:Unable to import pyOpenCl. Please install it from: http://pypi.python.org/pypi/pyopencl\n"
     ]
    },
    {
     "name": "stdout",
     "output_type": "stream",
     "text": [
      "DiffractionScale Scale=0.34 1/Å\n",
      "DiffractionScale Scale=0.03 1/nm\n",
      "DiffractionScale Scale=2.94 Å\n"
     ]
    }
   ],
   "source": [
    "from mib2hspy import DiffractionScale"
   ],
   "metadata": {
    "collapsed": false,
    "pycharm": {
     "name": "#%%\n"
    }
   }
  },
  {
   "cell_type": "code",
   "execution_count": 3,
   "outputs": [
    {
     "name": "stdout",
     "output_type": "stream",
     "text": [
      "DiffractionScale Scale=0.34 1/Å\n",
      "DiffractionScale Scale=0.03 1/nm\n",
      "DiffractionScale Scale=29.41 nm\n"
     ]
    }
   ],
   "source": [
    "cl = DiffractionScale(0.34)\n",
    "print(cl)\n",
    "print(cl.to_inv_nm(200000))\n",
    "print(cl.to_inv_nm(200000).to_nm(200000))"
   ],
   "metadata": {
    "collapsed": false,
    "pycharm": {
     "name": "#%%\n"
    }
   }
  },
  {
   "cell_type": "code",
   "execution_count": 3,
   "outputs": [
    {
     "name": "stdout",
     "output_type": "stream",
     "text": [
      "   Nominal Magnification ()  Magnification ()  Scale (nm)        Date  \\\n",
      "0                    8000.0           16302.0        0.34  2020-12-01   \n",
      "1                    8000.0           16302.0         NaN  2020-12-01   \n",
      "2                       NaN               NaN         NaN  2020-12-02   \n",
      "\n",
      "  Acceleration_voltage  Mode Mag_mode Alpha  Spot Spot_size Camera Microscope  \\\n",
      "0                 None  None     None  None  None      None   None       None   \n",
      "1                 None  None     None  None  None      None   None       None   \n",
      "2               200000  None     None  None  None      None   None       None   \n",
      "\n",
      "   Scale (nm/px)  Nominal Cameralength (cm)  Cameralength (cm)  Scale (1/nm)  \\\n",
      "0            NaN                        NaN                NaN           NaN   \n",
      "1            NaN                        NaN                NaN           NaN   \n",
      "2            NaN                        8.0              16.32          0.34   \n",
      "\n",
      "   Scale (mrad)  Scale (deg)  \n",
      "0           NaN          NaN  \n",
      "1           NaN          NaN  \n",
      "2     85.269757     4.885597  \n"
     ]
    }
   ],
   "source": [
    "mag1 = m2h.Magnification(8000, 16302, '2020-12-01', scale=m2h.Scale(0.34, 'nm'))\n",
    "mag2 = m2h.Magnification(8000, 16302, '2020-12-01')\n",
    "cl1 = m2h.Cameralength(8, 16.32, '2020-12-02', scale=m2h.Scale(0.34, '1/nm'), Acceleration_voltage=200000)\n",
    "\n",
    "df = pd.DataFrame()\n",
    "df = mag1.add_to_dataframe(df)\n",
    "df = mag2.add_to_dataframe(df)\n",
    "df = cl1.add_to_dataframe(df)\n",
    "\n",
    "print(df)"
   ],
   "metadata": {
    "collapsed": false,
    "pycharm": {
     "name": "#%%\n"
    }
   }
  },
  {
   "cell_type": "code",
   "execution_count": 3,
   "outputs": [
    {
     "name": "stdout",
     "output_type": "stream",
     "text": [
      "   Nominal Magnification ()  Magnification ()        Date  \\\n",
      "0                    8000.0           16302.0  2020-12-01   \n",
      "1                    8000.0           16302.0  2020-12-02   \n",
      "\n",
      "  Acceleration_voltage  Mode Mag_mode Alpha  Spot Spot_size Camera  \n",
      "0                 None  None     None  None  None      None   None  \n",
      "1                 None  None     None  None  None      None   None  \n"
     ]
    }
   ],
   "source": [
    "df = mag1.as_dataframe()\n",
    "df = mag2.add_to_dataframe(df)\n",
    "print(df)\n"
   ],
   "metadata": {
    "collapsed": false,
    "pycharm": {
     "name": "#%%\n"
    }
   }
  },
  {
   "cell_type": "code",
   "execution_count": 4,
   "outputs": [
    {
     "name": "stdout",
     "output_type": "stream",
     "text": [
      "   Nominal {self.name} ({self.units})  {self.name} ({self.units})        Date  \\\n",
      "0                              8000.0                     16302.0  2020-12-02   \n",
      "1                              8000.0                     16302.0  2020-12-01   \n",
      "\n",
      "  Acceleration_voltage  Mode Mag_mode Alpha  Spot Spot_size Camera  \n",
      "0                 None  None     None  None  None      None   None  \n",
      "1                 None  None     None  None  None      None   None  \n"
     ]
    }
   ],
   "source": [
    "df = mag1.as_dataframe()\n",
    "df = mag2.add_to_dataframe(df, remove_duplicates=True)\n",
    "print(df)\n",
    "#print(mag)"
   ],
   "metadata": {
    "collapsed": false,
    "pycharm": {
     "name": "#%%\n"
    }
   }
  },
  {
   "cell_type": "code",
   "execution_count": null,
   "outputs": [],
   "source": [
    "microscope = m2h.Microscope()\n",
    "\n",
    "print(microscope)"
   ],
   "metadata": {
    "collapsed": false,
    "pycharm": {
     "name": "#%%\n"
    }
   }
  },
  {
   "cell_type": "code",
   "execution_count": 2,
   "outputs": [
    {
     "name": "stdout",
     "output_type": "stream",
     "text": [
      "Parameter           Value     Units    Nominal value\n",
      "------------------  --------  -------  ---------------\n",
      "HT                  200000.0  V\n",
      "Mode                NBD\n",
      "Alpha               4\n",
      "Magnification       nan                nan\n",
      "Camera length       16.2      cm       8\n",
      "Magnification Mode\n",
      "Rocking angle       nan       deg      nan\n",
      "Rocking frequency   nan       Hz\n",
      "Step Y              nan       nm       nan\n",
      "Step X              nan       nm       nan\n",
      "Convergence angle   nan       mrad     nan\n",
      "Condenser aperture  nan       um       nan\n",
      "Spot                nan\n",
      "Spotsize            nan       nm       nan\n",
      "Acquisition Date\n",
      "{'ht': {'Value': 200000.0}, 'mode': {'Value': 'NBD'}, 'alpha': {'Value': 4}, 'camera_length': {'nominal_value': 8, 'actual_value': 16.2}}\n"
     ]
    }
   ],
   "source": [
    "microscope.set_acceleration_voltage(200)\n",
    "microscope.set_alpha(4)\n",
    "microscope.set_mode('NBD')\n",
    "microscope.set_nominal_cameralength(8)\n",
    "microscope.set_cameralength(16.2)\n",
    "\n",
    "print(microscope)\n",
    "print(microscope.get_defined_parameters_(as_dict=True))"
   ],
   "metadata": {
    "collapsed": false,
    "pycharm": {
     "name": "#%%\n"
    }
   }
  },
  {
   "cell_type": "code",
   "execution_count": null,
   "outputs": [],
   "source": [
    "\n"
   ],
   "metadata": {
    "collapsed": false,
    "pycharm": {
     "name": "#%%\n"
    }
   }
  }
 ],
 "metadata": {
  "kernelspec": {
   "display_name": "Python 3",
   "language": "python",
   "name": "python3"
  },
  "language_info": {
   "codemirror_mode": {
    "name": "ipython",
    "version": 2
   },
   "file_extension": ".py",
   "mimetype": "text/x-python",
   "name": "python",
   "nbconvert_exporter": "python",
   "pygments_lexer": "ipython2",
   "version": "2.7.6"
  }
 },
 "nbformat": 4,
 "nbformat_minor": 0
}