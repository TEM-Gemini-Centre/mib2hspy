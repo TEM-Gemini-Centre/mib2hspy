{
 "cells": [
  {
   "cell_type": "code",
   "execution_count": 1,
   "metadata": {
    "pycharm": {
     "is_executing": true
    }
   },
   "outputs": [
    {
     "name": "stderr",
     "output_type": "stream",
     "text": [
      "WARNING:silx.opencl.common:Unable to import pyOpenCl. Please install it from: http://pypi.python.org/pypi/pyopencl\n"
     ]
    }
   ],
   "source": [
    "%matplotlib qt\n",
    "import mib2hspy as m2h\n",
    "import pandas as pd\n",
    "import hyperspy.api as hs\n",
    "\n",
    "from math import nan"
   ]
  },
  {
   "cell_type": "code",
   "execution_count": 2,
   "metadata": {
    "pycharm": {
     "name": "#%%\n"
    }
   },
   "outputs": [
    {
     "name": "stdout",
     "output_type": "stream",
     "text": [
      "Unable to query calibration table for \n",
      "\"`Nominal Rocking angle (deg)` == @nan & `Mode` == \"None\" & `Alpha` == @nan & `Acceleration Voltage (V)` == 200000 & `Microscope` == \"2100F\" & `Nominal Rocking angle (deg)` == @nan\"\n",
      "due to missing (required) columns. Please check that the calibration file column headers for errors. Continuing without calibrating this value.\n",
      "\n",
      "Unable to query calibration table for \n",
      "\"`Nominal Step Y (nm)` == @nan & `Mode` == \"None\" & `Alpha` == @nan & `Acceleration Voltage (V)` == 200000 & `Microscope` == \"2100F\" & `Nominal Step Y (nm)` == @nan\"\n",
      "due to missing (required) columns. Please check that the calibration file column headers for errors. Continuing without calibrating this value.\n",
      "\n",
      "Unable to query calibration table for \n",
      "\"`Nominal Step X (nm)` == @nan & `Mode` == \"None\" & `Alpha` == @nan & `Acceleration Voltage (V)` == 200000 & `Microscope` == \"2100F\" & `Nominal Step X (nm)` == @nan\"\n",
      "due to missing (required) columns. Please check that the calibration file column headers for errors. Continuing without calibrating this value.\n",
      "\n",
      "Unable to query calibration table for \n",
      "\"`Nominal Convergence angle (mrad)` == @nan & `Nominal Condenser aperture (um)` == @nan & `Nominal Magnification ()` == @nan & `Mode` == \"None\" & `Alpha` == @nan & `Acceleration Voltage (V)` == 200000 & `Microscope` == \"2100F\" & `Nominal Convergence angle (mrad)` == @nan\"\n",
      "due to missing (required) columns. Please check that the calibration file column headers for errors. Continuing without calibrating this value.\n",
      "\n",
      "Unable to query calibration table for \n",
      "\"`Nominal Condenser aperture (um)` == @nan & `Nominal Magnification ()` == @nan & `Acceleration Voltage (V)` == 200000 & `Microscope` == \"2100F\" & `Nominal Condenser aperture (um)` == @nan\"\n",
      "due to missing (required) columns. Please check that the calibration file column headers for errors. Continuing without calibrating this value.\n",
      "\n",
      "Unable to query calibration table for \n",
      "\"`Nominal Spotsize (nm)` == @nan & `Mode` == \"None\" & `Nominal Condenser aperture (um)` == @nan & `Acceleration Voltage (V)` == 200000 & `Microscope` == \"2100F\" & `Nominal Spotsize (nm)` == @nan\"\n",
      "due to missing (required) columns. Please check that the calibration file column headers for errors. Continuing without calibrating this value.\n",
      "\n"
     ]
    },
    {
     "name": "stderr",
     "output_type": "stream",
     "text": [
      "/home/emilc/GitHub/mib2hspy/mib2hspy/Tools/parameters.py:221: UserWarning: No calibration found for Magnification('Magnification', nan, '', nan) in calibration table after querying for \"`Nominal Magnification ()` == @nan & `Mode` == \"None\" & `Mag mode` == \"None\" & `Camera` == \"Merlin\" & `Acceleration Voltage (V)` == 200000 & `Microscope` == \"2100F\" & `Nominal Magnification ()` == @nan\".\n",
      "\n",
      "  warn('No calibration found for {self!r} in calibration table after querying for \"{query}\".\\n'.format(\n",
      "/home/emilc/GitHub/mib2hspy/mib2hspy/Tools/parameters.py:221: UserWarning: No calibration found for ImageScale('Scale', nan, 'nm') in calibration table after querying for \"`Mode` == \"None\" & `Mag mode` == \"None\" & `Camera` == \"Merlin\" & `Nominal Magnification ()` == @nan & `Acceleration Voltage (V)` == 200000 & `Microscope` == \"2100F\"\".\n",
      "\n",
      "  warn('No calibration found for {self!r} in calibration table after querying for \"{query}\".\\n'.format(\n"
     ]
    }
   ],
   "source": [
    "parameters = m2h.MicroscopeParameters()\n",
    "parameters.acceleration_voltage = 200000\n",
    "parameters.cameralength = (30, nan)\n",
    "parameters.camera = 'Merlin'\n",
    "parameters.microscope = '2100F'\n",
    "#table = pd.read_excel(r'C:\\Users\\emilc\\OneDrive - NTNU\\NORTEM\\Calibrations\\2100F\\Calibrations.xlsx', engine='openpyxl')\n",
    "table = pd.read_excel(r'/home/emilc/GitHub/mib2hspy/Calibrations.xlsx', engine='openpyxl')\n",
    "parameters.set_values_from_calibrationtable(table)"
   ]
  },
  {
   "cell_type": "code",
   "execution_count": 3,
   "metadata": {
    "pycharm": {
     "name": "#%%\n"
    }
   },
   "outputs": [
    {
     "name": "stdout",
     "output_type": "stream",
     "text": [
      "Converter for file \"/media/emilc/Data/Merlin/Calibrations/2021_03_18_TEDPELLA674_Probes/Images/NBD_Spot04nm_Alpha3_CL3-7C0A_CL30cm.mib\" with data None:\n",
      "\n",
      "***Header content***\n",
      "None***\n",
      "\n",
      "***Microscope parameters***\n",
      "Parameter             Value                 Units    Nominal value\n",
      "--------------------  --------------------  -------  ---------------\n",
      "Acceleration Voltage  200000                V\n",
      "Mode                  None\n",
      "Alpha                 nan\n",
      "Magnification         nan                            nan\n",
      "Scale                 nan                   nm\n",
      "Cameralength          53.44308585792269     cm       30\n",
      "Scale                 0.004103505833609639  1/Å\n",
      "Mag mode              None\n",
      "Rocking angle         nan                   deg      nan\n",
      "Rocking frequency     nan                   Hz\n",
      "Step Y                nan                   nm       nan\n",
      "Step X                nan                   nm       nan\n",
      "Convergence angle     nan                   mrad     nan\n",
      "Condenser aperture    nan                   um       nan\n",
      "Spot                  nan\n",
      "Spotsize              nan                   nm       nan\n",
      "Acquisition Date      None\n",
      "Camera                Merlin\n",
      "Exposure time         nan                   ms\n",
      "Microscope            2100F\n"
     ]
    }
   ],
   "source": [
    "converter = m2h.Converter(microscope_parameters=parameters)\n",
    "#converter.data_path = r'C:\\Users\\emilc\\OneDrive - NTNU\\NORTEM\\Merlin\\2020_09_12_NanowireSC58A8_MerlinCalibrations\\NWX\\2020_09_12_NanowireSC58A8_Merlin_scans\\20200912 132936 Scan10_2\\NWX_scan1_8cm_scan10.mib'\n",
    "#converter.data_path = r'/media/emilc/Data/Merlin/NanoTools2020/Nanotools/Sample1/20201028 111625/scan_8cm_256x256x12_10ms_p05_100Hz_step10x10nm_alpha4_spot05_NBD.mib'\n",
    "converter.data_path = r'/media/emilc/Data/Merlin/Calibrations/2021_03_18_TEDPELLA674_Probes/Images/NBD_Spot04nm_Alpha3_CL3-7C0A_CL30cm.mib'\n",
    "\n",
    "print(converter)"
   ]
  },
  {
   "cell_type": "code",
   "execution_count": 4,
   "metadata": {
    "pycharm": {
     "name": "#%%\n"
    }
   },
   "outputs": [
    {
     "name": "stdout",
     "output_type": "stream",
     "text": [
      "This mib file appears to be TEM data. The stack is returned with no reshaping.\n",
      "Loaded file \"/media/emilc/Data/Merlin/Calibrations/2021_03_18_TEDPELLA674_Probes/Images/NBD_Spot04nm_Alpha3_CL3-7C0A_CL30cm.mib\" successfully:\n",
      "Data: <LazyElectronDiffraction2D, title: , dimensions: (1|256, 256)>\n",
      "HDR: Content of Medipix HDR file \"/media/emilc/Data/Merlin/Calibrations/2021_03_18_TEDPELLA674_Probes/Images/NBD_Spot04nm_Alpha3_CL3-7C0A_CL30cm.hdr\":\n",
      "\tTime and Date Stamp (day, mnth, yr, hr, min, s): 18/03/2021 15:28:11\n",
      "\tChip ID: W559_G11, - , - , -\n",
      "\tChip Type (Medipix 3.0, Medipix 3.1, Medipix 3RX): Medipix 3RX\n",
      "\tAssembly Size (NX1, 2X2): 1x1\n",
      "\tChip Mode  (SPM, CSM, CM, CSCM): SPM\n",
      "\tCounter Depth (number): 24\n",
      "\tGain: SLGM\n",
      "\tActive Counters: Counter 0\n",
      "\tThresholds (keV): 4.000000E+1,5.110000E+2,0.000000E+0,0.000000E+0,0.000000E+0,0.000000E+0,0.000000E+0,0.000000E+0\n",
      "\tDACs: 068,511,000,000,000,000,000,000,100,255,100,125,100,100,080,100,090,030,128,004,255,126,128,174,172,511,511; ; ;\n",
      "\tbpc File: c:\\MERLIN_Quad_Config\\W559_G11\\W559_G11_SPM.bpc,,,\n",
      "\tDAC File: c:\\MERLIN_Quad_Config\\W559_G11\\W559_G11_SPM.dacs,,,\n",
      "\tGap Fill Mode: None\n",
      "\tFlat Field File: None\n",
      "\tDead Time File: Dummy (C:\\<NUL>\\)\n",
      "\tAcquisition Type (Normal, Th_scan, Config): Normal\n",
      "\tFrames in Acquisition (Number): 1\n",
      "\tFrames per Trigger (Number): 1\n",
      "\tTrigger Start (Positive, Negative, Internal): Internal\n",
      "\tTrigger Stop (Positive, Negative, Internal): Internal\n",
      "\tSensor Bias (V): 120 V\n",
      "\tSensor Polarity (Positive, Negative): Positive\n",
      "\tTemperature (C): Board Temp 0.000000 Deg C\n",
      "\tHumidity (%): Board Humidity 0.000000\n",
      "\tMedipix Clock (MHz): 160MHz\n",
      "\tReadout System: Merlin Quad\n",
      "\tSoftware Version: 0.76.1.101\n"
     ]
    }
   ],
   "source": [
    "converter.read_mib()"
   ]
  },
  {
   "cell_type": "code",
   "execution_count": 5,
   "metadata": {
    "pycharm": {
     "name": "#%%\n"
    }
   },
   "outputs": [],
   "source": [
    "converter.reshape(256, 256)"
   ]
  },
  {
   "cell_type": "code",
   "execution_count": 6,
   "metadata": {
    "pycharm": {
     "name": "#%%\n"
    }
   },
   "outputs": [
    {
     "data": {
      "text/html": [
       "<table>\n",
       "<tr>\n",
       "<td>\n",
       "<table>\n",
       "  <thead>\n",
       "    <tr><td> </td><th> Array </th><th> Chunk </th></tr>\n",
       "  </thead>\n",
       "  <tbody>\n",
       "    <tr><th> Bytes </th><td> 262.14 kB </td> <td> 262.14 kB </td></tr>\n",
       "    <tr><th> Shape </th><td> (256, 256) </td> <td> (256, 256) </td></tr>\n",
       "    <tr><th> Count </th><td> 6 Tasks </td><td> 1 Chunks </td></tr>\n",
       "    <tr><th> Type </th><td> >u4 </td><td> numpy.ndarray </td></tr>\n",
       "  </tbody>\n",
       "</table>\n",
       "</td>\n",
       "<td>\n",
       "<svg width=\"170\" height=\"170\" style=\"stroke:rgb(0,0,0);stroke-width:1\" >\n",
       "\n",
       "  <!-- Horizontal lines -->\n",
       "  <line x1=\"0\" y1=\"0\" x2=\"120\" y2=\"0\" style=\"stroke-width:2\" />\n",
       "  <line x1=\"0\" y1=\"120\" x2=\"120\" y2=\"120\" style=\"stroke-width:2\" />\n",
       "\n",
       "  <!-- Vertical lines -->\n",
       "  <line x1=\"0\" y1=\"0\" x2=\"0\" y2=\"120\" style=\"stroke-width:2\" />\n",
       "  <line x1=\"120\" y1=\"0\" x2=\"120\" y2=\"120\" style=\"stroke-width:2\" />\n",
       "\n",
       "  <!-- Colored Rectangle -->\n",
       "  <polygon points=\"0.0,0.0 120.0,0.0 120.0,120.0 0.0,120.0\" style=\"fill:#ECB172A0;stroke-width:0\"/>\n",
       "\n",
       "  <!-- Text -->\n",
       "  <text x=\"60.000000\" y=\"140.000000\" font-size=\"1.0rem\" font-weight=\"100\" text-anchor=\"middle\" >256</text>\n",
       "  <text x=\"140.000000\" y=\"60.000000\" font-size=\"1.0rem\" font-weight=\"100\" text-anchor=\"middle\" transform=\"rotate(-90,140.000000,60.000000)\">256</text>\n",
       "</svg>\n",
       "</td>\n",
       "</tr>\n",
       "</table>"
      ],
      "text/plain": [
       "dask.array<getitem, shape=(256, 256), dtype=>u4, chunksize=(256, 256), chunktype=numpy.ndarray>"
      ]
     },
     "execution_count": 6,
     "metadata": {},
     "output_type": "execute_result"
    }
   ],
   "source": [
    "converter.data.data"
   ]
  },
  {
   "cell_type": "code",
   "execution_count": 7,
   "metadata": {
    "pycharm": {
     "name": "#%%\n"
    }
   },
   "outputs": [],
   "source": [
    "converter.rechunk(32)"
   ]
  },
  {
   "cell_type": "code",
   "execution_count": 8,
   "metadata": {
    "pycharm": {
     "name": "#%%\n"
    }
   },
   "outputs": [],
   "source": [
    "converter.apply_calibrations()"
   ]
  },
  {
   "cell_type": "code",
   "execution_count": 9,
   "metadata": {
    "pycharm": {
     "name": "#%%\n"
    }
   },
   "outputs": [],
   "source": [
    "converter.set_metadata()"
   ]
  },
  {
   "cell_type": "code",
   "execution_count": 10,
   "metadata": {
    "pycharm": {
     "name": "#%%\n"
    }
   },
   "outputs": [
    {
     "name": "stdout",
     "output_type": "stream",
     "text": [
      "Converter for file \"/media/emilc/Data/Merlin/Calibrations/2021_03_18_TEDPELLA674_Probes/Images/NBD_Spot04nm_Alpha3_CL3-7C0A_CL30cm.mib\" with data <LazyElectronDiffraction2D, title: , dimensions: (|256, 256)>:\n",
      "\n",
      "***Header content***\n",
      "Content of Medipix HDR file \"/media/emilc/Data/Merlin/Calibrations/2021_03_18_TEDPELLA674_Probes/Images/NBD_Spot04nm_Alpha3_CL3-7C0A_CL30cm.hdr\":\n",
      "\tTime and Date Stamp (day, mnth, yr, hr, min, s): 18/03/2021 15:28:11\n",
      "\tChip ID: W559_G11, - , - , -\n",
      "\tChip Type (Medipix 3.0, Medipix 3.1, Medipix 3RX): Medipix 3RX\n",
      "\tAssembly Size (NX1, 2X2): 1x1\n",
      "\tChip Mode  (SPM, CSM, CM, CSCM): SPM\n",
      "\tCounter Depth (number): 24\n",
      "\tGain: SLGM\n",
      "\tActive Counters: Counter 0\n",
      "\tThresholds (keV): 4.000000E+1,5.110000E+2,0.000000E+0,0.000000E+0,0.000000E+0,0.000000E+0,0.000000E+0,0.000000E+0\n",
      "\tDACs: 068,511,000,000,000,000,000,000,100,255,100,125,100,100,080,100,090,030,128,004,255,126,128,174,172,511,511; ; ;\n",
      "\tbpc File: c:\\MERLIN_Quad_Config\\W559_G11\\W559_G11_SPM.bpc,,,\n",
      "\tDAC File: c:\\MERLIN_Quad_Config\\W559_G11\\W559_G11_SPM.dacs,,,\n",
      "\tGap Fill Mode: None\n",
      "\tFlat Field File: None\n",
      "\tDead Time File: Dummy (C:\\<NUL>\\)\n",
      "\tAcquisition Type (Normal, Th_scan, Config): Normal\n",
      "\tFrames in Acquisition (Number): 1\n",
      "\tFrames per Trigger (Number): 1\n",
      "\tTrigger Start (Positive, Negative, Internal): Internal\n",
      "\tTrigger Stop (Positive, Negative, Internal): Internal\n",
      "\tSensor Bias (V): 120 V\n",
      "\tSensor Polarity (Positive, Negative): Positive\n",
      "\tTemperature (C): Board Temp 0.000000 Deg C\n",
      "\tHumidity (%): Board Humidity 0.000000\n",
      "\tMedipix Clock (MHz): 160MHz\n",
      "\tReadout System: Merlin Quad\n",
      "\tSoftware Version: 0.76.1.101***\n",
      "\n",
      "***Microscope parameters***\n",
      "Parameter             Value                 Units    Nominal value\n",
      "--------------------  --------------------  -------  ---------------\n",
      "Acceleration Voltage  200000                V\n",
      "Mode                  None\n",
      "Alpha                 nan\n",
      "Magnification         nan                            nan\n",
      "Scale                 nan                   nm\n",
      "Cameralength          53.44308585792269     cm       30\n",
      "Scale                 0.004103505833609639  1/Å\n",
      "Mag mode              None\n",
      "Rocking angle         nan                   deg      nan\n",
      "Rocking frequency     nan                   Hz\n",
      "Step Y                nan                   nm       nan\n",
      "Step X                nan                   nm       nan\n",
      "Convergence angle     nan                   mrad     nan\n",
      "Condenser aperture    nan                   um       nan\n",
      "Spot                  nan\n",
      "Spotsize              nan                   nm       nan\n",
      "Acquisition Date      None\n",
      "Camera                Merlin\n",
      "Exposure time         nan                   ms\n",
      "Microscope            2100F\n"
     ]
    }
   ],
   "source": [
    "print(converter)"
   ]
  },
  {
   "cell_type": "code",
   "execution_count": 11,
   "metadata": {
    "pycharm": {
     "name": "#%%\n"
    }
   },
   "outputs": [
    {
     "ename": "DimensionError",
     "evalue": "VBF images are not supported for 2D data: <LazyElectronDiffraction2D, title: , dimensions: (|256, 256)>.",
     "output_type": "error",
     "traceback": [
      "\u001B[0;31m---------------------------------------------------------------------------\u001B[0m",
      "\u001B[0;31mDimensionError\u001B[0m                            Traceback (most recent call last)",
      "\u001B[0;32m<ipython-input-11-ddeb5109be97>\u001B[0m in \u001B[0;36m<module>\u001B[0;34m\u001B[0m\n\u001B[0;32m----> 1\u001B[0;31m \u001B[0mconverter\u001B[0m\u001B[0;34m.\u001B[0m\u001B[0mplot_vbf\u001B[0m\u001B[0;34m(\u001B[0m\u001B[0;34m)\u001B[0m\u001B[0;34m\u001B[0m\u001B[0;34m\u001B[0m\u001B[0m\n\u001B[0m",
      "\u001B[0;32m~/GitHub/mib2hspy/mib2hspy/Tools/conversion.py\u001B[0m in \u001B[0;36mplot_vbf\u001B[0;34m(self, kind, vbf_kwargs, dpi, figure_width, scalebar, scalebar_kwargs, **kwargs)\u001B[0m\n\u001B[1;32m    542\u001B[0m \u001B[0;34m\u001B[0m\u001B[0m\n\u001B[1;32m    543\u001B[0m         \u001B[0;32mif\u001B[0m \u001B[0;32mnot\u001B[0m \u001B[0mself\u001B[0m\u001B[0;34m.\u001B[0m\u001B[0mdimension\u001B[0m \u001B[0;34m==\u001B[0m \u001B[0;36m4\u001B[0m\u001B[0;34m:\u001B[0m\u001B[0;34m\u001B[0m\u001B[0;34m\u001B[0m\u001B[0m\n\u001B[0;32m--> 544\u001B[0;31m             \u001B[0;32mraise\u001B[0m \u001B[0mDimensionError\u001B[0m\u001B[0;34m(\u001B[0m\u001B[0;34m'VBF images are not supported for {self.dimension}D data: {self.data}.'\u001B[0m\u001B[0;34m.\u001B[0m\u001B[0mformat\u001B[0m\u001B[0;34m(\u001B[0m\u001B[0mself\u001B[0m\u001B[0;34m=\u001B[0m\u001B[0mself\u001B[0m\u001B[0;34m)\u001B[0m\u001B[0;34m)\u001B[0m\u001B[0;34m\u001B[0m\u001B[0;34m\u001B[0m\u001B[0m\n\u001B[0m\u001B[1;32m    545\u001B[0m \u001B[0;34m\u001B[0m\u001B[0m\n\u001B[1;32m    546\u001B[0m         \u001B[0mfig\u001B[0m\u001B[0;34m,\u001B[0m \u001B[0max\u001B[0m \u001B[0;34m=\u001B[0m \u001B[0mself\u001B[0m\u001B[0;34m.\u001B[0m\u001B[0mprepare_figure\u001B[0m\u001B[0;34m(\u001B[0m\u001B[0mdpi\u001B[0m\u001B[0;34m,\u001B[0m \u001B[0mfigure_width\u001B[0m\u001B[0;34m,\u001B[0m \u001B[0mscan\u001B[0m\u001B[0;34m=\u001B[0m\u001B[0;32mTrue\u001B[0m\u001B[0;34m)\u001B[0m\u001B[0;34m\u001B[0m\u001B[0;34m\u001B[0m\u001B[0m\n",
      "\u001B[0;31mDimensionError\u001B[0m: VBF images are not supported for 2D data: <LazyElectronDiffraction2D, title: , dimensions: (|256, 256)>."
     ]
    }
   ],
   "source": [
    "converter.plot_vbf()"
   ]
  },
  {
   "cell_type": "code",
   "execution_count": 12,
   "metadata": {},
   "outputs": [],
   "source": [
    "converter.save_plot()"
   ]
  },
  {
   "cell_type": "code",
   "execution_count": null,
   "metadata": {
    "pycharm": {
     "name": "#%%\n"
    }
   },
   "outputs": [],
   "source": [
    "vbf = converter.get_square_vbf()"
   ]
  },
  {
   "cell_type": "code",
   "execution_count": null,
   "metadata": {
    "pycharm": {
     "name": "#%%\n"
    }
   },
   "outputs": [],
   "source": [
    "converter.plot_VBF('box')"
   ]
  },
  {
   "cell_type": "code",
   "execution_count": null,
   "metadata": {
    "pycharm": {
     "name": "#%%\n"
    }
   },
   "outputs": [],
   "source": [
    "import numpy as np"
   ]
  },
  {
   "cell_type": "code",
   "execution_count": null,
   "metadata": {
    "pycharm": {
     "name": "#%%\n"
    }
   },
   "outputs": [],
   "source": [
    "cx =\n",
    "print(cx)"
   ]
  },
  {
   "cell_type": "code",
   "execution_count": null,
   "metadata": {
    "pycharm": {
     "name": "#%%\n"
    }
   },
   "outputs": [],
   "source": []
  },
  {
   "cell_type": "code",
   "execution_count": null,
   "metadata": {
    "pycharm": {
     "name": "#%%\n"
    }
   },
   "outputs": [],
   "source": [
    "axis = 0\n",
    "converter.data.axes_manager[axis].axis[int(converter.data.axes_manager[axis].size/2)]"
   ]
  },
  {
   "cell_type": "code",
   "execution_count": null,
   "metadata": {
    "pycharm": {
     "name": "#%%\n"
    }
   },
   "outputs": [],
   "source": [
    "cx = int(converter.data.axes_manager[-2].size + converter.data.axes_manager[-2].offset / converter.data.axes_manager[-2].scale)\n",
    "cy = int(converter.data.axes_manager[-1].size + converter.data.axes_manager[-1].offset / converter.data.axes_manager[-1].scale)\n",
    "half_width = int(10 / 2)\n",
    "print(cx, cy)"
   ]
  },
  {
   "cell_type": "code",
   "execution_count": null,
   "metadata": {
    "pycharm": {
     "name": "#%%\n"
    }
   },
   "outputs": [],
   "source": [
    "vbf = converter.data.isig[int(cx - half_width):int(cx + half_width), int(cy - half_width):int(cy + half_width)].sum(axis=np.arange(converter.dimension - 2, converter.dimension))"
   ]
  },
  {
   "cell_type": "code",
   "execution_count": null,
   "metadata": {
    "pycharm": {
     "name": "#%%\n"
    }
   },
   "outputs": [],
   "source": [
    "vbf.plot()"
   ]
  },
  {
   "cell_type": "code",
   "execution_count": null,
   "metadata": {
    "pycharm": {
     "name": "#%%\n"
    }
   },
   "outputs": [],
   "source": [
    "converter.data.plot()"
   ]
  },
  {
   "cell_type": "code",
   "execution_count": null,
   "metadata": {
    "pycharm": {
     "name": "#%%\n"
    }
   },
   "outputs": [],
   "source": [
    "converter.write('.png', height=0.01, num_frames=2)"
   ]
  },
  {
   "cell_type": "code",
   "execution_count": null,
   "metadata": {
    "pycharm": {
     "name": "#%%\n"
    }
   },
   "outputs": [],
   "source": [
    "print(frame)\n",
    "print(len(frame))"
   ]
  },
  {
   "cell_type": "code",
   "execution_count": null,
   "metadata": {
    "pycharm": {
     "name": "#%%\n"
    }
   },
   "outputs": [],
   "source": [
    "min(frame.axes_manager[-2].axis)"
   ]
  },
  {
   "cell_type": "code",
   "execution_count": null,
   "metadata": {
    "pycharm": {
     "name": "#%%\n"
    }
   },
   "outputs": [],
   "source": []
  },
  {
   "cell_type": "code",
   "execution_count": null,
   "metadata": {
    "pycharm": {
     "name": "#%%\n"
    }
   },
   "outputs": [],
   "source": [
    "converter.data.plot()"
   ]
  },
  {
   "cell_type": "code",
   "execution_count": null,
   "metadata": {
    "pycharm": {
     "name": "#%%\n"
    }
   },
   "outputs": [],
   "source": []
  },
  {
   "cell_type": "code",
   "execution_count": null,
   "metadata": {
    "pycharm": {
     "name": "#%%\n"
    }
   },
   "outputs": [],
   "source": [
    "converter.data.save(str(converter.data_path.with_suffix('.hspy')), overwrite=True, chunks=converter._chunks)"
   ]
  },
  {
   "cell_type": "code",
   "execution_count": null,
   "metadata": {
    "pycharm": {
     "name": "#%%\n"
    }
   },
   "outputs": [],
   "source": [
    "converter.writ"
   ]
  },
  {
   "cell_type": "code",
   "execution_count": null,
   "metadata": {
    "pycharm": {
     "name": "#%%\n"
    }
   },
   "outputs": [],
   "source": [
    "signal = hs.load(str(converter.data_path.with_suffix('.hspy')))"
   ]
  },
  {
   "cell_type": "code",
   "execution_count": null,
   "metadata": {
    "pycharm": {
     "name": "#%%\n"
    }
   },
   "outputs": [],
   "source": [
    "print(signal)\n",
    "print(signal.axes_manager)\n",
    "print(signal.metadata)\n",
    "print(signal.original_metadata)\n",
    "#signal.original_metadata"
   ]
  },
  {
   "cell_type": "code",
   "execution_count": null,
   "metadata": {
    "pycharm": {
     "name": "#%%\n"
    }
   },
   "outputs": [],
   "source": [
    "min(converter.data.axes_manager[-2].axis)"
   ]
  },
  {
   "cell_type": "code",
   "execution_count": null,
   "metadata": {
    "pycharm": {
     "name": "#%%\n"
    }
   },
   "outputs": [],
   "source": [
    "signal.plot()"
   ]
  },
  {
   "cell_type": "code",
   "execution_count": null,
   "metadata": {
    "pycharm": {
     "name": "#%%\n"
    }
   },
   "outputs": [],
   "source": [
    "tuple([32]*len(np.shape(converter.data)))"
   ]
  },
  {
   "cell_type": "code",
   "execution_count": null,
   "metadata": {
    "pycharm": {
     "name": "#%%\n"
    }
   },
   "outputs": [],
   "source": [
    "signal = hs.load(r'C:\\Users\\emilc\\OneDrive - NTNU\\NORTEM\\Calibrations\\2100F\\Merlin\\2020_11_21_TEDPELLA673\\CL8cm.hspy')\n",
    "cl = m2h.get_calibration_from_MERLIN(signal)\n",
    "print(cl)\n",
    "cl.as_dataframe()"
   ]
  },
  {
   "cell_type": "code",
   "execution_count": null,
   "metadata": {
    "pycharm": {
     "name": "#%%\n"
    }
   },
   "outputs": [],
   "source": [
    "signal = hs.load(r'C:\\Users\\emilc\\OneDrive - NTNU\\NORTEM\\Calibrations\\2100F\\Merlin\\2020_11_21_TEDPELLA673\\SAMAG10k.hspy')\n",
    "mag = m2h.get_calibration_from_MERLIN(signal)\n",
    "mag.nominal_value=10000\n",
    "mag.parameters['Mag mode']='SAMAG'\n",
    "print(mag)\n",
    "mag.as_dataframe()"
   ]
  },
  {
   "cell_type": "code",
   "execution_count": null,
   "metadata": {
    "pycharm": {
     "name": "#%%\n"
    }
   },
   "outputs": [],
   "source": [
    "signal.original_metadata"
   ]
  },
  {
   "cell_type": "code",
   "execution_count": null,
   "metadata": {
    "pycharm": {
     "name": "#%%\n"
    }
   },
   "outputs": [],
   "source": [
    "cameralengths = [\n",
    "    (8, 16.2)\n",
    "]\n",
    "\n",
    "cl1 = m2h.Cameralength(8, 16.2, '2020-12-07',acceleration_voltage=200000, camera='Merlin')\n",
    "#cl1.calibrate_cameralength()\n",
    "cl1.calibrate_scale()\n",
    "print(cl1.as_dataframe())"
   ]
  },
  {
   "cell_type": "code",
   "execution_count": null,
   "metadata": {
    "pycharm": {
     "name": "#%%\n"
    }
   },
   "outputs": [],
   "source": [
    "mag1 = m2h.Magnification(12000, 1, '2020-12-07', scale=0.979, acceleration_voltage=200000, camera='US1000')\n",
    "#mag1.calibrate_scale()\n",
    "mag1.calibrate_magnification()\n",
    "print(mag1)"
   ]
  },
  {
   "cell_type": "code",
   "execution_count": null,
   "metadata": {
    "pycharm": {
     "name": "#%%\n"
    }
   },
   "outputs": [],
   "source": [
    "m1 = m2h.Magnification(8000, 12030, '2020-12-07', acceleration_voltage=200000, mode='TEM', camera='Ultrascan', mag_mode='SAMAG')\n",
    "cl1 = m2h.Cameralength(8, 16.2, '2020-12-07', scale=0.00134, spot_size=0.5, acceleration_voltage=200000, camera='Merlin')\n",
    "cl2 = m2h.Cameralength(10, 19.3, '2020-12-07', acceleration_voltage=200000, camera='Merlin')\n",
    "cl3 = m2h.Cameralength(10, 19.3, '2020-12-07', acceleration_voltage=200000, camera='Ultrascan')\n",
    "step1 = m2h.StepSize(2.5, 2.4, '2020-12-07', direction='X', mode='STEM', alpha=None)\n",
    "precession_calibration = m2h.PrecessionAngle(1.0, 1.04, 20., '2020-12-07', mode='NBD', alpha='Alpha 4', deflectors={'Upper_1': {'X': {'A':0.1, 'P':39}, 'Y': {'A': 0.5, 'P': 44}}})\n",
    "spot1 = m2h.Spotsize(3, '2020-12-07', spot_size=0.5, mode='NBD', alpha=4, acceleration_voltage=200000)\n",
    "calibrations = m2h.CalibrationList()\n",
    "calibrations+=m1\n",
    "calibrations+=cl1\n",
    "calibrations+=cl2\n",
    "calibrations+=cl3\n",
    "calibrations+=step1\n",
    "calibrations += precession_calibration\n",
    "calibrations += spot1\n",
    "#print([calibration.nominal_value for calibration in calibrations])\n",
    "print(calibrations.dataframe)\n"
   ]
  },
  {
   "cell_type": "code",
   "execution_count": null,
   "metadata": {
    "pycharm": {
     "name": "#%%\n"
    }
   },
   "outputs": [],
   "source": [
    "cl1.as_dataframe()\n",
    "#spot1.as_dataframe()"
   ]
  },
  {
   "cell_type": "code",
   "execution_count": null,
   "metadata": {
    "pycharm": {
     "name": "#%%\n"
    }
   },
   "outputs": [],
   "source": [
    "new_calibrations = m2h.generate_from_dataframe(calibrations.dataframe)\n",
    "print(new_calibrations.dataframe)"
   ]
  },
  {
   "cell_type": "code",
   "execution_count": null,
   "metadata": {
    "pycharm": {
     "name": "#%%\n"
    }
   },
   "outputs": [],
   "source": [
    "precession_calibration.as_dataframe(ignore_nans=False)"
   ]
  },
  {
   "cell_type": "code",
   "execution_count": null,
   "metadata": {
    "pycharm": {
     "name": "#%%\n"
    }
   },
   "outputs": [],
   "source": [
    "step1 = m2h.StepSize(2, 1.9, '2020-12-07', mode='STEM', alpha=None)\n",
    "print(step1.as_dataframe())"
   ]
  },
  {
   "cell_type": "code",
   "execution_count": null,
   "metadata": {
    "pycharm": {
     "name": "#%%\n"
    }
   },
   "outputs": [],
   "source": [
    "cl3.scale"
   ]
  },
  {
   "cell_type": "code",
   "execution_count": null,
   "metadata": {
    "pycharm": {
     "name": "#%%\n"
    }
   },
   "outputs": [],
   "source": [
    "print(calibrations['`Nominal Cameralength (cm)`==8.0'])"
   ]
  },
  {
   "cell_type": "code",
   "execution_count": null,
   "metadata": {
    "pycharm": {
     "name": "#%%\n"
    }
   },
   "outputs": [],
   "source": [
    "\n",
    "#print(precession_calibration)\n",
    "print(precession_calibration.as_dataframe(ignore_nans=False))"
   ]
  },
  {
   "cell_type": "code",
   "execution_count": null,
   "metadata": {
    "pycharm": {
     "name": "#%%\n"
    }
   },
   "outputs": [],
   "source": [
    "from mib2hspy import DiffractionScale"
   ]
  },
  {
   "cell_type": "code",
   "execution_count": null,
   "metadata": {
    "pycharm": {
     "name": "#%%\n"
    }
   },
   "outputs": [],
   "source": [
    "cl3.scale"
   ]
  },
  {
   "cell_type": "code",
   "execution_count": null,
   "metadata": {
    "pycharm": {
     "name": "#%%\n"
    }
   },
   "outputs": [],
   "source": [
    "cl3.scale"
   ]
  },
  {
   "cell_type": "code",
   "execution_count": null,
   "metadata": {
    "pycharm": {
     "name": "#%%\n"
    }
   },
   "outputs": [],
   "source": [
    "print(calibrations['`Nominal Cameralength (cm)`==8.0'])"
   ]
  },
  {
   "cell_type": "code",
   "execution_count": null,
   "metadata": {
    "pycharm": {
     "name": "#%%\n"
    }
   },
   "outputs": [],
   "source": [
    "\n",
    "#print(precession_calibration)\n",
    "print(precession_calibration.as_dataframe(ignore_nans=False))"
   ]
  },
  {
   "cell_type": "code",
   "execution_count": null,
   "metadata": {
    "pycharm": {
     "name": "#%%\n"
    }
   },
   "outputs": [],
   "source": [
    "from mib2hspy import DiffractionScale"
   ]
  },
  {
   "cell_type": "code",
   "execution_count": null,
   "metadata": {
    "pycharm": {
     "name": "#%%\n"
    }
   },
   "outputs": [],
   "source": [
    "cl3.scale"
   ]
  },
  {
   "cell_type": "code",
   "execution_count": null,
   "metadata": {
    "pycharm": {
     "name": "#%%\n"
    }
   },
   "outputs": [],
   "source": [
    "print(calibrations['`Nominal Cameralength (cm)`==8.0'])"
   ]
  },
  {
   "cell_type": "code",
   "execution_count": null,
   "metadata": {
    "pycharm": {
     "name": "#%%\n"
    }
   },
   "outputs": [],
   "source": [
    "\n",
    "#print(precession_calibration)\n",
    "print(precession_calibration.as_dataframe(ignore_nans=False))"
   ]
  },
  {
   "cell_type": "code",
   "execution_count": null,
   "metadata": {
    "pycharm": {
     "name": "#%%\n"
    }
   },
   "outputs": [],
   "source": [
    "from mib2hspy import DiffractionScale"
   ]
  },
  {
   "cell_type": "code",
   "execution_count": null,
   "metadata": {
    "pycharm": {
     "name": "#%%\n"
    }
   },
   "outputs": [],
   "source": [
    "cl = DiffractionScale(0.000135)\n",
    "print(cl)\n",
    "print(cl.to_inv_nm(200000))\n",
    "print(cl.calculate_cameralength(200000, 55E-6))\n",
    "dp = m2h.Cameralength(8, 16.20, '2020-11-20', scale=cl, acceleration_voltage=200000)"
   ]
  },
  {
   "cell_type": "code",
   "execution_count": null,
   "metadata": {
    "pycharm": {
     "name": "#%%\n"
    }
   },
   "outputs": [],
   "source": [
    "print(dp.as_dataframe())"
   ]
  },
  {
   "cell_type": "code",
   "execution_count": null,
   "metadata": {
    "pycharm": {
     "name": "#%%\n"
    }
   },
   "outputs": [],
   "source": [
    "mag1 = m2h.Magnification(8000, 16302, '2020-12-01', scale=m2h.Scale(0.34, 'nm'))\n",
    "mag2 = m2h.Magnification(8000, 16302, '2020-12-01')\n",
    "cl1 = m2h.Cameralength(8, 16.32, '2020-12-02', scale=m2h.Scale(0.34, '1/nm'), Acceleration_voltage=200000)\n",
    "\n",
    "df = pd.DataFrame()\n",
    "df = mag1.add_to_dataframe(df)\n",
    "df = mag2.add_to_dataframe(df)\n",
    "df = cl1.add_to_dataframe(df)\n",
    "\n",
    "print(df)"
   ]
  },
  {
   "cell_type": "code",
   "execution_count": null,
   "metadata": {
    "pycharm": {
     "name": "#%%\n"
    }
   },
   "outputs": [],
   "source": [
    "cl = DiffractionScale(0.000135)\n",
    "print(cl)\n",
    "print(cl.to_inv_nm(200000))\n",
    "print(cl.calculate_cameralength(200000, 55E-6))\n",
    "dp = m2h.Cameralength(8, 16.20, '2020-11-20', scale=cl, acceleration_voltage=200000)"
   ]
  },
  {
   "cell_type": "code",
   "execution_count": null,
   "metadata": {
    "pycharm": {
     "name": "#%%\n"
    }
   },
   "outputs": [],
   "source": [
    "print(dp.as_dataframe())"
   ]
  },
  {
   "cell_type": "code",
   "execution_count": null,
   "metadata": {
    "pycharm": {
     "name": "#%%\n"
    }
   },
   "outputs": [],
   "source": [
    "mag1 = m2h.Magnification(8000, 16302, '2020-12-01', scale=m2h.Scale(0.34, 'nm'))\n",
    "mag2 = m2h.Magnification(8000, 16302, '2020-12-01')\n",
    "cl1 = m2h.Cameralength(8, 16.32, '2020-12-02', scale=m2h.Scale(0.34, '1/nm'), Acceleration_voltage=200000)\n",
    "\n",
    "df = pd.DataFrame()\n",
    "df = mag1.add_to_dataframe(df)\n",
    "df = mag2.add_to_dataframe(df)\n",
    "df = cl1.add_to_dataframe(df)\n",
    "\n",
    "print(df)"
   ]
  },
  {
   "cell_type": "code",
   "execution_count": null,
   "metadata": {
    "pycharm": {
     "name": "#%%\n"
    }
   },
   "outputs": [],
   "source": [
    "df = mag1.as_dataframe()\n",
    "df = mag2.add_to_dataframe(df)\n",
    "print(df)\n"
   ]
  },
  {
   "cell_type": "code",
   "execution_count": null,
   "metadata": {
    "pycharm": {
     "name": "#%%\n"
    }
   },
   "outputs": [],
   "source": [
    "df = mag1.as_dataframe()\n",
    "df = mag2.add_to_dataframe(df, remove_duplicates=True)\n",
    "print(df)\n",
    "#print(mag)"
   ]
  },
  {
   "cell_type": "code",
   "execution_count": null,
   "metadata": {
    "pycharm": {
     "name": "#%%\n"
    }
   },
   "outputs": [],
   "source": [
    "microscope = m2h.Microscope()\n",
    "\n",
    "print(microscope)"
   ]
  },
  {
   "cell_type": "code",
   "execution_count": null,
   "metadata": {
    "pycharm": {
     "name": "#%%\n"
    }
   },
   "outputs": [],
   "source": [
    "microscope.set_acceleration_voltage(200)\n",
    "microscope.set_alpha(4)\n",
    "microscope.set_mode('NBD')\n",
    "microscope.set_nominal_cameralength(8)\n",
    "microscope.set_cameralength(16.2)\n",
    "\n",
    "print(microscope)\n",
    "print(microscope.get_defined_parameters_(as_dict=True))"
   ]
  },
  {
   "cell_type": "code",
   "execution_count": null,
   "metadata": {
    "pycharm": {
     "name": "#%%\n"
    }
   },
   "outputs": [],
   "source": [
    "\n"
   ]
  }
 ],
 "metadata": {
  "kernelspec": {
   "display_name": "Python [conda env:mib2hspyV2] *",
   "language": "python",
   "name": "conda-env-mib2hspyV2-py"
  },
  "language_info": {
   "codemirror_mode": {
    "name": "ipython",
    "version": 3
   },
   "file_extension": ".py",
   "mimetype": "text/x-python",
   "name": "python",
   "nbconvert_exporter": "python",
   "pygments_lexer": "ipython3",
   "version": "3.8.6"
  }
 },
 "nbformat": 4,
 "nbformat_minor": 1
}