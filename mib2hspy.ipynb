{
 "cells": [
  {
   "cell_type": "code",
   "execution_count": 1,
   "metadata": {
    "collapsed": true
   },
   "outputs": [
    {
     "name": "stderr",
     "output_type": "stream",
     "text": [
      "WARNING:silx.opencl.common:Unable to import pyOpenCl. Please install it from: http://pypi.python.org/pypi/pyopencl\n"
     ]
    }
   ],
   "source": [
    "%matplotlib qt\n",
    "import mib2hspy as m2h\n",
    "import pandas as pd\n"
   ]
  },
  {
   "cell_type": "code",
   "execution_count": 6,
   "outputs": [
    {
     "ename": "TypeError",
     "evalue": "Scale must be either None or Scale, not 0.00134 of type <class 'float'>",
     "output_type": "error",
     "traceback": [
      "\u001B[0;31m---------------------------------------------------------------------------\u001B[0m",
      "\u001B[0;31mTypeError\u001B[0m                                 Traceback (most recent call last)",
      "\u001B[0;32m<ipython-input-6-db2c69c6c0d2>\u001B[0m in \u001B[0;36m<module>\u001B[0;34m\u001B[0m\n\u001B[0;32m----> 1\u001B[0;31m \u001B[0mcl1\u001B[0m \u001B[0;34m=\u001B[0m \u001B[0mm2h\u001B[0m\u001B[0;34m.\u001B[0m\u001B[0mCameralength\u001B[0m\u001B[0;34m(\u001B[0m\u001B[0;36m8\u001B[0m\u001B[0;34m,\u001B[0m \u001B[0;36m16.2\u001B[0m\u001B[0;34m,\u001B[0m \u001B[0;34m'2020-12-07'\u001B[0m\u001B[0;34m,\u001B[0m \u001B[0mscale\u001B[0m\u001B[0;34m=\u001B[0m\u001B[0;36m0.00134\u001B[0m\u001B[0;34m,\u001B[0m \u001B[0macceleration_voltage\u001B[0m\u001B[0;34m=\u001B[0m\u001B[0;36m200000\u001B[0m\u001B[0;34m,\u001B[0m \u001B[0mcamera\u001B[0m\u001B[0;34m=\u001B[0m\u001B[0;34m'Merlin'\u001B[0m\u001B[0;34m)\u001B[0m\u001B[0;34m\u001B[0m\u001B[0;34m\u001B[0m\u001B[0m\n\u001B[0m\u001B[1;32m      2\u001B[0m \u001B[0mcl2\u001B[0m \u001B[0;34m=\u001B[0m \u001B[0mm2h\u001B[0m\u001B[0;34m.\u001B[0m\u001B[0mCameralength\u001B[0m\u001B[0;34m(\u001B[0m\u001B[0;36m10\u001B[0m\u001B[0;34m,\u001B[0m \u001B[0;36m19.3\u001B[0m\u001B[0;34m,\u001B[0m \u001B[0;34m'2020-12-07'\u001B[0m\u001B[0;34m,\u001B[0m \u001B[0macceleration_voltage\u001B[0m\u001B[0;34m=\u001B[0m\u001B[0;36m200000\u001B[0m\u001B[0;34m,\u001B[0m \u001B[0mcamera\u001B[0m\u001B[0;34m=\u001B[0m\u001B[0;34m'Merlin'\u001B[0m\u001B[0;34m)\u001B[0m\u001B[0;34m\u001B[0m\u001B[0;34m\u001B[0m\u001B[0m\n\u001B[1;32m      3\u001B[0m \u001B[0mcl3\u001B[0m \u001B[0;34m=\u001B[0m \u001B[0mm2h\u001B[0m\u001B[0;34m.\u001B[0m\u001B[0mCameralength\u001B[0m\u001B[0;34m(\u001B[0m\u001B[0;36m10\u001B[0m\u001B[0;34m,\u001B[0m \u001B[0;36m19.3\u001B[0m\u001B[0;34m,\u001B[0m \u001B[0;34m'2020-12-07'\u001B[0m\u001B[0;34m,\u001B[0m \u001B[0macceleration_voltage\u001B[0m\u001B[0;34m=\u001B[0m\u001B[0;36m200000\u001B[0m\u001B[0;34m,\u001B[0m \u001B[0mcamera\u001B[0m\u001B[0;34m=\u001B[0m\u001B[0;34m'Ultrascan'\u001B[0m\u001B[0;34m)\u001B[0m\u001B[0;34m\u001B[0m\u001B[0;34m\u001B[0m\u001B[0m\n\u001B[1;32m      4\u001B[0m \u001B[0mcalibrations\u001B[0m \u001B[0;34m=\u001B[0m \u001B[0mm2h\u001B[0m\u001B[0;34m.\u001B[0m\u001B[0mCalibrationList\u001B[0m\u001B[0;34m(\u001B[0m\u001B[0;34m)\u001B[0m\u001B[0;34m\u001B[0m\u001B[0;34m\u001B[0m\u001B[0m\n\u001B[1;32m      5\u001B[0m \u001B[0mcalibrations\u001B[0m\u001B[0;34m+=\u001B[0m\u001B[0mcl1\u001B[0m\u001B[0;34m\u001B[0m\u001B[0;34m\u001B[0m\u001B[0m\n",
      "\u001B[0;32m~/GitHub/mib2hspy/mib2hspy/Tools/calibrations.py\u001B[0m in \u001B[0;36m__init__\u001B[0;34m(self, nominal_cameralength, actual_cameralength, date, units, scale, **kwargs)\u001B[0m\n\u001B[1;32m    193\u001B[0m         \u001B[0;32melif\u001B[0m \u001B[0misinstance\u001B[0m\u001B[0;34m(\u001B[0m\u001B[0mscale\u001B[0m\u001B[0;34m,\u001B[0m \u001B[0mScale\u001B[0m\u001B[0;34m)\u001B[0m\u001B[0;34m:\u001B[0m\u001B[0;34m\u001B[0m\u001B[0;34m\u001B[0m\u001B[0m\n\u001B[1;32m    194\u001B[0m             \u001B[0mscale\u001B[0m \u001B[0;34m=\u001B[0m \u001B[0mDiffractionScale\u001B[0m\u001B[0;34m(\u001B[0m\u001B[0mscale\u001B[0m\u001B[0;34m)\u001B[0m\u001B[0;34m\u001B[0m\u001B[0;34m\u001B[0m\u001B[0m\n\u001B[0;32m--> 195\u001B[0;31m         \u001B[0msuper\u001B[0m\u001B[0;34m(\u001B[0m\u001B[0;34m)\u001B[0m\u001B[0;34m.\u001B[0m\u001B[0m__init__\u001B[0m\u001B[0;34m(\u001B[0m\u001B[0mnominal_cameralength\u001B[0m\u001B[0;34m,\u001B[0m \u001B[0mactual_cameralength\u001B[0m\u001B[0;34m,\u001B[0m \u001B[0munits\u001B[0m\u001B[0;34m,\u001B[0m \u001B[0;34m'Cameralength'\u001B[0m\u001B[0;34m,\u001B[0m \u001B[0mdate\u001B[0m\u001B[0;34m,\u001B[0m \u001B[0mscale\u001B[0m\u001B[0;34m=\u001B[0m\u001B[0mscale\u001B[0m\u001B[0;34m,\u001B[0m \u001B[0;34m**\u001B[0m\u001B[0mkwargs\u001B[0m\u001B[0;34m)\u001B[0m\u001B[0;34m\u001B[0m\u001B[0;34m\u001B[0m\u001B[0m\n\u001B[0m\u001B[1;32m    196\u001B[0m         \u001B[0mself\u001B[0m\u001B[0;34m.\u001B[0m\u001B[0mscale_deg\u001B[0m \u001B[0;34m=\u001B[0m \u001B[0mself\u001B[0m\u001B[0;34m.\u001B[0m\u001B[0mscale\u001B[0m\u001B[0;34m.\u001B[0m\u001B[0mto_deg\u001B[0m\u001B[0;34m(\u001B[0m\u001B[0mself\u001B[0m\u001B[0;34m.\u001B[0m\u001B[0mparameters\u001B[0m\u001B[0;34m[\u001B[0m\u001B[0;34m'Acceleration_voltage'\u001B[0m\u001B[0;34m]\u001B[0m\u001B[0;34m)\u001B[0m\u001B[0;34m\u001B[0m\u001B[0;34m\u001B[0m\u001B[0m\n\u001B[1;32m    197\u001B[0m         \u001B[0mself\u001B[0m\u001B[0;34m.\u001B[0m\u001B[0mscale_rad\u001B[0m \u001B[0;34m=\u001B[0m \u001B[0mself\u001B[0m\u001B[0;34m.\u001B[0m\u001B[0mscale\u001B[0m\u001B[0;34m.\u001B[0m\u001B[0mto_rad\u001B[0m\u001B[0;34m(\u001B[0m\u001B[0mself\u001B[0m\u001B[0;34m.\u001B[0m\u001B[0mparameters\u001B[0m\u001B[0;34m[\u001B[0m\u001B[0;34m'Acceleration_voltage'\u001B[0m\u001B[0;34m]\u001B[0m\u001B[0;34m)\u001B[0m\u001B[0;34m\u001B[0m\u001B[0;34m\u001B[0m\u001B[0m\n",
      "\u001B[0;32m~/GitHub/mib2hspy/mib2hspy/Tools/calibrations.py\u001B[0m in \u001B[0;36m__init__\u001B[0;34m(self, scale, acceleration_voltage, mode, mag_mode, alpha, spot, spot_size, camera, microscope, *args)\u001B[0m\n\u001B[1;32m     99\u001B[0m         \u001B[0;32mif\u001B[0m \u001B[0mscale\u001B[0m \u001B[0;32mis\u001B[0m \u001B[0;32mnot\u001B[0m \u001B[0;32mNone\u001B[0m\u001B[0;34m:\u001B[0m\u001B[0;34m\u001B[0m\u001B[0;34m\u001B[0m\u001B[0m\n\u001B[1;32m    100\u001B[0m             \u001B[0;32mif\u001B[0m \u001B[0;32mnot\u001B[0m \u001B[0misinstance\u001B[0m\u001B[0;34m(\u001B[0m\u001B[0mscale\u001B[0m\u001B[0;34m,\u001B[0m \u001B[0mScale\u001B[0m\u001B[0;34m)\u001B[0m\u001B[0;34m:\u001B[0m\u001B[0;34m\u001B[0m\u001B[0;34m\u001B[0m\u001B[0m\n\u001B[0;32m--> 101\u001B[0;31m                 raise TypeError(\n\u001B[0m\u001B[1;32m    102\u001B[0m                     'Scale must be either None or Scale, not {scale!r} of type {t}'.format(scale=scale, t=type(scale)))\n\u001B[1;32m    103\u001B[0m         \u001B[0mself\u001B[0m\u001B[0;34m.\u001B[0m\u001B[0mscale\u001B[0m \u001B[0;34m=\u001B[0m \u001B[0mscale\u001B[0m\u001B[0;34m\u001B[0m\u001B[0;34m\u001B[0m\u001B[0m\n",
      "\u001B[0;31mTypeError\u001B[0m: Scale must be either None or Scale, not 0.00134 of type <class 'float'>"
     ]
    }
   ],
   "source": [
    "cl1 = m2h.Cameralength(8, 16.2, '2020-12-07', scale=0.00134, acceleration_voltage=200000, camera='Merlin')\n",
    "cl2 = m2h.Cameralength(10, 19.3, '2020-12-07', acceleration_voltage=200000, camera='Merlin')\n",
    "cl3 = m2h.Cameralength(10, 19.3, '2020-12-07', acceleration_voltage=200000, camera='Ultrascan')\n",
    "calibrations = m2h.CalibrationList()\n",
    "calibrations+=cl1\n",
    "calibrations+=cl2\n",
    "calibrations+=cl3\n",
    "print([calibration.nominal_value for calibration in calibrations])\n",
    "print(calibrations.dataframe)"
   ],
   "metadata": {
    "collapsed": false,
    "pycharm": {
     "name": "#%%\n"
    }
   }
  },
  {
   "cell_type": "code",
   "execution_count": 4,
   "outputs": [
    {
     "name": "stdout",
     "output_type": "stream",
     "text": [
      "   Nominal Cameralength (cm)  Cameralength (cm)  Scale (1/Å)  Scale (mrad)  \\\n",
      "0                        8.0               16.2          NaN           NaN   \n",
      "\n",
      "   Scale (deg)        Date Acceleration_voltage  Mode Mag_mode Alpha  Spot  \\\n",
      "0          NaN  2020-12-07                 None  None     None  None  None   \n",
      "\n",
      "  Spot_size Camera Microscope  \n",
      "0      None   None       None  \n"
     ]
    }
   ],
   "source": [
    "print(calibrations['`Nominal Cameralength (cm)`==8.0'])"
   ],
   "metadata": {
    "collapsed": false,
    "pycharm": {
     "name": "#%%\n"
    }
   }
  },
  {
   "cell_type": "code",
   "execution_count": null,
   "outputs": [],
   "source": [
    "from mib2hspy import DiffractionScale"
   ],
   "metadata": {
    "collapsed": false,
    "pycharm": {
     "name": "#%%\n"
    }
   }
  },
  {
   "cell_type": "code",
   "execution_count": 12,
   "outputs": [
    {
     "name": "stdout",
     "output_type": "stream",
     "text": [
      "DiffractionScale Scale=0.000135 1/Å\n",
      "DiffractionScale Scale=1.35e-05 1/nm\n",
      "16.24474187833144\n"
     ]
    }
   ],
   "source": [
    "cl = DiffractionScale(0.000135)\n",
    "print(cl)\n",
    "print(cl.to_inv_nm(200000))\n",
    "print(cl.calculate_cameralength(200000, 55E-6))\n",
    "dp = m2h.Cameralength(8, 16.20, '2020-11-20', scale=cl, acceleration_voltage=200000)"
   ],
   "metadata": {
    "collapsed": false,
    "pycharm": {
     "name": "#%%\n"
    }
   }
  },
  {
   "cell_type": "code",
   "execution_count": 13,
   "outputs": [
    {
     "name": "stdout",
     "output_type": "stream",
     "text": [
      "   Nominal Cameralength (cm)  Cameralength (cm)  Scale (1/Å)  Scale (mrad)  \\\n",
      "0                        8.0               16.2     0.000135      0.003386   \n",
      "\n",
      "   Scale (deg)        Date  Acceleration_voltage  Mode Mag_mode Alpha  Spot  \\\n",
      "0     0.000194  2020-11-20                200000  None     None  None  None   \n",
      "\n",
      "  Spot_size Camera Microscope  \n",
      "0      None   None       None  \n"
     ]
    }
   ],
   "source": [
    "print(dp.as_dataframe())"
   ],
   "metadata": {
    "collapsed": false,
    "pycharm": {
     "name": "#%%\n"
    }
   }
  },
  {
   "cell_type": "code",
   "execution_count": 3,
   "outputs": [
    {
     "name": "stdout",
     "output_type": "stream",
     "text": [
      "   Nominal Magnification ()  Magnification ()  Scale (nm)        Date  \\\n",
      "0                    8000.0           16302.0        0.34  2020-12-01   \n",
      "1                    8000.0           16302.0         NaN  2020-12-01   \n",
      "2                       NaN               NaN         NaN  2020-12-02   \n",
      "\n",
      "  Acceleration_voltage  Mode Mag_mode Alpha  Spot Spot_size Camera Microscope  \\\n",
      "0                 None  None     None  None  None      None   None       None   \n",
      "1                 None  None     None  None  None      None   None       None   \n",
      "2               200000  None     None  None  None      None   None       None   \n",
      "\n",
      "   Scale (nm/px)  Nominal Cameralength (cm)  Cameralength (cm)  Scale (1/nm)  \\\n",
      "0            NaN                        NaN                NaN           NaN   \n",
      "1            NaN                        NaN                NaN           NaN   \n",
      "2            NaN                        8.0              16.32          0.34   \n",
      "\n",
      "   Scale (mrad)  Scale (deg)  \n",
      "0           NaN          NaN  \n",
      "1           NaN          NaN  \n",
      "2     85.269757     4.885597  \n"
     ]
    }
   ],
   "source": [
    "mag1 = m2h.Magnification(8000, 16302, '2020-12-01', scale=m2h.Scale(0.34, 'nm'))\n",
    "mag2 = m2h.Magnification(8000, 16302, '2020-12-01')\n",
    "cl1 = m2h.Cameralength(8, 16.32, '2020-12-02', scale=m2h.Scale(0.34, '1/nm'), Acceleration_voltage=200000)\n",
    "\n",
    "df = pd.DataFrame()\n",
    "df = mag1.add_to_dataframe(df)\n",
    "df = mag2.add_to_dataframe(df)\n",
    "df = cl1.add_to_dataframe(df)\n",
    "\n",
    "print(df)"
   ],
   "metadata": {
    "collapsed": false,
    "pycharm": {
     "name": "#%%\n"
    }
   }
  },
  {
   "cell_type": "code",
   "execution_count": 3,
   "outputs": [
    {
     "name": "stdout",
     "output_type": "stream",
     "text": [
      "   Nominal Magnification ()  Magnification ()        Date  \\\n",
      "0                    8000.0           16302.0  2020-12-01   \n",
      "1                    8000.0           16302.0  2020-12-02   \n",
      "\n",
      "  Acceleration_voltage  Mode Mag_mode Alpha  Spot Spot_size Camera  \n",
      "0                 None  None     None  None  None      None   None  \n",
      "1                 None  None     None  None  None      None   None  \n"
     ]
    }
   ],
   "source": [
    "df = mag1.as_dataframe()\n",
    "df = mag2.add_to_dataframe(df)\n",
    "print(df)\n"
   ],
   "metadata": {
    "collapsed": false,
    "pycharm": {
     "name": "#%%\n"
    }
   }
  },
  {
   "cell_type": "code",
   "execution_count": 4,
   "outputs": [
    {
     "name": "stdout",
     "output_type": "stream",
     "text": [
      "   Nominal {self.name} ({self.units})  {self.name} ({self.units})        Date  \\\n",
      "0                              8000.0                     16302.0  2020-12-02   \n",
      "1                              8000.0                     16302.0  2020-12-01   \n",
      "\n",
      "  Acceleration_voltage  Mode Mag_mode Alpha  Spot Spot_size Camera  \n",
      "0                 None  None     None  None  None      None   None  \n",
      "1                 None  None     None  None  None      None   None  \n"
     ]
    }
   ],
   "source": [
    "df = mag1.as_dataframe()\n",
    "df = mag2.add_to_dataframe(df, remove_duplicates=True)\n",
    "print(df)\n",
    "#print(mag)"
   ],
   "metadata": {
    "collapsed": false,
    "pycharm": {
     "name": "#%%\n"
    }
   }
  },
  {
   "cell_type": "code",
   "execution_count": null,
   "outputs": [],
   "source": [
    "microscope = m2h.Microscope()\n",
    "\n",
    "print(microscope)"
   ],
   "metadata": {
    "collapsed": false,
    "pycharm": {
     "name": "#%%\n"
    }
   }
  },
  {
   "cell_type": "code",
   "execution_count": 2,
   "outputs": [
    {
     "name": "stdout",
     "output_type": "stream",
     "text": [
      "Parameter           Value     Units    Nominal value\n",
      "------------------  --------  -------  ---------------\n",
      "HT                  200000.0  V\n",
      "Mode                NBD\n",
      "Alpha               4\n",
      "Magnification       nan                nan\n",
      "Camera length       16.2      cm       8\n",
      "Magnification Mode\n",
      "Rocking angle       nan       deg      nan\n",
      "Rocking frequency   nan       Hz\n",
      "Step Y              nan       nm       nan\n",
      "Step X              nan       nm       nan\n",
      "Convergence angle   nan       mrad     nan\n",
      "Condenser aperture  nan       um       nan\n",
      "Spot                nan\n",
      "Spotsize            nan       nm       nan\n",
      "Acquisition Date\n",
      "{'ht': {'Value': 200000.0}, 'mode': {'Value': 'NBD'}, 'alpha': {'Value': 4}, 'camera_length': {'nominal_value': 8, 'actual_value': 16.2}}\n"
     ]
    }
   ],
   "source": [
    "microscope.set_acceleration_voltage(200)\n",
    "microscope.set_alpha(4)\n",
    "microscope.set_mode('NBD')\n",
    "microscope.set_nominal_cameralength(8)\n",
    "microscope.set_cameralength(16.2)\n",
    "\n",
    "print(microscope)\n",
    "print(microscope.get_defined_parameters_(as_dict=True))"
   ],
   "metadata": {
    "collapsed": false,
    "pycharm": {
     "name": "#%%\n"
    }
   }
  },
  {
   "cell_type": "code",
   "execution_count": null,
   "outputs": [],
   "source": [
    "\n"
   ],
   "metadata": {
    "collapsed": false,
    "pycharm": {
     "name": "#%%\n"
    }
   }
  }
 ],
 "metadata": {
  "kernelspec": {
   "display_name": "Python 3",
   "language": "python",
   "name": "python3"
  },
  "language_info": {
   "codemirror_mode": {
    "name": "ipython",
    "version": 2
   },
   "file_extension": ".py",
   "mimetype": "text/x-python",
   "name": "python",
   "nbconvert_exporter": "python",
   "pygments_lexer": "ipython2",
   "version": "2.7.6"
  }
 },
 "nbformat": 4,
 "nbformat_minor": 0
}