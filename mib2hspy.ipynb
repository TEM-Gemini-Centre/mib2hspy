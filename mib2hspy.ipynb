{
 "cells": [
  {
   "cell_type": "code",
   "execution_count": 1,
   "metadata": {
    "collapsed": true
   },
   "outputs": [
    {
     "name": "stdout",
     "output_type": "stream",
     "text": [
      "Parameter           Value    Units    Nominal value\n",
      "------------------  -------  -------  ---------------\n",
      "HT                  nan      V\n",
      "Mode\n",
      "Alpha               nan\n",
      "Magnification       nan               nan\n",
      "Camera length       nan      cm       nan\n",
      "Magnification Mode\n",
      "Rocking angle       nan      deg      nan\n",
      "Rocking frequency   nan      Hz\n",
      "Step Y              nan      nm       nan\n",
      "Step X              nan      nm       nan\n",
      "Convergence angle   nan      mrad     nan\n",
      "Condenser aperture  nan      um       nan\n",
      "Spot                nan\n",
      "Spotsize            nan      nm       nan\n",
      "Acquisition Date\n"
     ]
    }
   ],
   "source": [
    "%matplotlib qt\n",
    "import mib2hspy as m2h\n",
    "\n",
    "microscope = m2h.Microscope()\n",
    "\n",
    "print(microscope)"
   ]
  },
  {
   "cell_type": "code",
   "execution_count": 2,
   "outputs": [
    {
     "name": "stdout",
     "output_type": "stream",
     "text": [
      "Parameter           Value     Units    Nominal value\n",
      "------------------  --------  -------  ---------------\n",
      "HT                  200000.0  V\n",
      "Mode                NBD\n",
      "Alpha               4\n",
      "Magnification       nan                nan\n",
      "Camera length       16.2      cm       8\n",
      "Magnification Mode\n",
      "Rocking angle       nan       deg      nan\n",
      "Rocking frequency   nan       Hz\n",
      "Step Y              nan       nm       nan\n",
      "Step X              nan       nm       nan\n",
      "Convergence angle   nan       mrad     nan\n",
      "Condenser aperture  nan       um       nan\n",
      "Spot                nan\n",
      "Spotsize            nan       nm       nan\n",
      "Acquisition Date\n",
      "{'ht': {'Value': 200000.0}, 'mode': {'Value': 'NBD'}, 'alpha': {'Value': 4}, 'camera_length': {'nominal_value': 8, 'actual_value': 16.2}}\n"
     ]
    }
   ],
   "source": [
    "microscope.set_acceleration_voltage(200)\n",
    "microscope.set_alpha(4)\n",
    "microscope.set_mode('NBD')\n",
    "microscope.set_nominal_cameralength(8)\n",
    "microscope.set_cameralength(16.2)\n",
    "\n",
    "print(microscope)\n",
    "print(microscope.get_defined_parameters_(as_dict=True))"
   ],
   "metadata": {
    "collapsed": false,
    "pycharm": {
     "name": "#%%\n"
    }
   }
  },
  {
   "cell_type": "code",
   "execution_count": null,
   "outputs": [],
   "source": [
    "\n"
   ],
   "metadata": {
    "collapsed": false,
    "pycharm": {
     "name": "#%%\n"
    }
   }
  }
 ],
 "metadata": {
  "kernelspec": {
   "display_name": "Python 3",
   "language": "python",
   "name": "python3"
  },
  "language_info": {
   "codemirror_mode": {
    "name": "ipython",
    "version": 2
   },
   "file_extension": ".py",
   "mimetype": "text/x-python",
   "name": "python",
   "nbconvert_exporter": "python",
   "pygments_lexer": "ipython2",
   "version": "2.7.6"
  }
 },
 "nbformat": 4,
 "nbformat_minor": 0
}