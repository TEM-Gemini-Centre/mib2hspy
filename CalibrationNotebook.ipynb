{
 "cells": [
  {
   "cell_type": "code",
   "execution_count": 1,
   "metadata": {},
   "outputs": [
    {
     "name": "stderr",
     "output_type": "stream",
     "text": [
      "WARNING:silx.opencl.common:Unable to import pyOpenCl. Please install it from: http://pypi.python.org/pypi/pyopencl\n"
     ]
    }
   ],
   "source": [
    "%matplotlib qt\n",
    "import pyxem as pxm\n",
    "import hyperspy.api as hs\n",
    "from pathlib import Path\n",
    "import numpy as np\n",
    "import datetime as dt\n",
    "import matplotlib.pyplot as plt\n",
    "#import seaborn as sns\n",
    "from math import sqrt"
   ]
  },
  {
   "cell_type": "markdown",
   "metadata": {},
   "source": [
    "## Assist functions"
   ]
  },
  {
   "cell_type": "code",
   "execution_count": 24,
   "metadata": {},
   "outputs": [],
   "source": [
    "def wavelength(V, m0=9.1093837015*1e-31, e=1.60217662*1e-19, h=6.62607004*1e-34 , c=299792458):\n",
    "    \"\"\"\n",
    "    Return the wavelength of an accelerated electron in [Å]\n",
    "    \n",
    "    Arguments\n",
    "    ---------\n",
    "    m0 : float, Rest mass of electron [kg]\n",
    "    e : float, Elementary charge of electron [C]\n",
    "    h : float, Planck' constant [m^2 kg/s]\n",
    "    c : float, Speed of light in vacuum [m/s]\n",
    "    \"\"\"\n",
    "    \n",
    "    return h / sqrt( 2 * m0 * e * V * ( 1.0 + ( e*V / ( 2*m0*c**2 ) ) ) ) * 1E10\n",
    "\n",
    "def camera_length(r, d, wavelength, pixel_size = 55):\n",
    "    \"\"\"\n",
    "    Return the camera length in cm\n",
    "    \n",
    "    Arguments\n",
    "    ---------\n",
    "    r : float, Distance on detector [px]\n",
    "    d : float, Interplanar distance in crystal [Å]\n",
    "    wavelength : float, Wavelength of electrons [Å]\n",
    "    pixel_size : float, Physical size of pixels on detector [um]. Default is 55 um, the pixel size on the Merlin Detector\n",
    "    \"\"\"\n",
    "    r = float(r)\n",
    "    d = float(d) * 1E-10 #convert to [m]\n",
    "    wavelength = float(wavelength) * 1E-10 #convert to [m]\n",
    "    pixel_size = float(pixel_size) * 1E-6 #convert to [m]\n",
    "    \n",
    "    return r * pixel_size * d / wavelength * 1E2"
   ]
  },
  {
   "cell_type": "markdown",
   "metadata": {},
   "source": [
    "## Load data"
   ]
  },
  {
   "cell_type": "code",
   "execution_count": 83,
   "metadata": {},
   "outputs": [
    {
     "ename": "ValueError",
     "evalue": "No file name matches this pattern",
     "output_type": "error",
     "traceback": [
      "\u001b[0;31m---------------------------------------------------------------------------\u001b[0m",
      "\u001b[0;31mValueError\u001b[0m                                Traceback (most recent call last)",
      "\u001b[0;32m<ipython-input-83-9ec98c3c073f>\u001b[0m in \u001b[0;36m<module>\u001b[0;34m\u001b[0m\n\u001b[0;32m----> 1\u001b[0;31m \u001b[0msignal\u001b[0m \u001b[0;34m=\u001b[0m \u001b[0mpxm\u001b[0m\u001b[0;34m.\u001b[0m\u001b[0mload\u001b[0m\u001b[0;34m(\u001b[0m\u001b[0;34mr'/media/emilc/Data/Merlin/NanoTools2020/Nanotools/Sample3/SAED_100cm.hspy'\u001b[0m\u001b[0;34m)\u001b[0m\u001b[0;34m\u001b[0m\u001b[0;34m\u001b[0m\u001b[0m\n\u001b[0m",
      "\u001b[0;32m~/anaconda3/envs/mib2hspyV2/lib/python3.8/site-packages/hyperspy/io.py\u001b[0m in \u001b[0;36mload\u001b[0;34m(filenames, signal_type, stack, stack_axis, new_axis_name, lazy, convert_units, **kwds)\u001b[0m\n\u001b[1;32m    215\u001b[0m                                if os.path.isfile(f)])\n\u001b[1;32m    216\u001b[0m         \u001b[0;32mif\u001b[0m \u001b[0;32mnot\u001b[0m \u001b[0mfilenames\u001b[0m\u001b[0;34m:\u001b[0m\u001b[0;34m\u001b[0m\u001b[0;34m\u001b[0m\u001b[0m\n\u001b[0;32m--> 217\u001b[0;31m             \u001b[0;32mraise\u001b[0m \u001b[0mValueError\u001b[0m\u001b[0;34m(\u001b[0m\u001b[0;34m'No file name matches this pattern'\u001b[0m\u001b[0;34m)\u001b[0m\u001b[0;34m\u001b[0m\u001b[0;34m\u001b[0m\u001b[0m\n\u001b[0m\u001b[1;32m    218\u001b[0m     \u001b[0;32melif\u001b[0m \u001b[0;32mnot\u001b[0m \u001b[0misinstance\u001b[0m\u001b[0;34m(\u001b[0m\u001b[0mfilenames\u001b[0m\u001b[0;34m,\u001b[0m \u001b[0;34m(\u001b[0m\u001b[0mlist\u001b[0m\u001b[0;34m,\u001b[0m \u001b[0mtuple\u001b[0m\u001b[0;34m)\u001b[0m\u001b[0;34m)\u001b[0m\u001b[0;34m:\u001b[0m\u001b[0;34m\u001b[0m\u001b[0;34m\u001b[0m\u001b[0m\n\u001b[1;32m    219\u001b[0m         raise ValueError(\n",
      "\u001b[0;31mValueError\u001b[0m: No file name matches this pattern"
     ]
    }
   ],
   "source": [
    "signal = pxm.load(r'/media/emilc/Data/Merlin/NanoTools2020/Nanotools/Sample3/SAED_100cm.hspy')"
   ]
  },
  {
   "cell_type": "markdown",
   "metadata": {},
   "source": [
    "### Diffraction"
   ]
  },
  {
   "cell_type": "code",
   "execution_count": 186,
   "metadata": {},
   "outputs": [
    {
     "name": "stdout",
     "output_type": "stream",
     "text": [
      "This mib file appears to be TEM data. The stack is returned with no reshaping.\n",
      "Overwrite 'C:\\Users\\emilc\\OneDrive - NTNU\\NORTEM\\Merlin\\2020_09_12_NanowireSC58A8_MerlinCalibrations\\NWX\\2020_09_12_NanowireSC58A8_Merlin_calibrations\\SAEDP_25cm_NBDa5Spot1nm.hspy' (y/n)?\n",
      "y\n"
     ]
    }
   ],
   "source": [
    "cl = 25\n",
    "#filename = Path(r'C:\\Users\\emilc\\OneDrive - NTNU\\NORTEM\\Merlin\\2020_09_12_NanowireSC58A8_Merlin\\NWX\\2020_09_12_NanowireSC58A8_Merlin_calibrations\\PED_8cm_1p08deg_NBDa5Spot1nm_2.mib')\n",
    "filename = Path(r'C:\\Users\\emilc\\OneDrive - NTNU\\NORTEM\\Merlin\\2020_09_12_NanowireSC58A8_MerlinCalibrations\\NWX\\2020_09_12_NanowireSC58A8_Merlin_calibrations\\SAEDP_{cl:.0f}cm_NBDa5Spot1nm.mib'.format(cl=cl))\n",
    "\n",
    "metadata = {\n",
    "    'Acquisition_instrument':{\n",
    "        'TEM':{\n",
    "            'mode': 'NBD',\n",
    "            'alpha': 'Alpha 5',\n",
    "            'spot': 1,\n",
    "            'cameralength': cl*1E-2,\n",
    "            'acceleration_voltage': 200E3,\n",
    "        }\n",
    "    },\n",
    "    'Session':{\n",
    "        'Date': str(dt.datetime.today),\n",
    "        'Operator': 'Emil Christiansen',\n",
    "        'Specimen': 'GaAs/GaAsSb'\n",
    "    }\n",
    "}\n",
    "\n",
    "signal = pxm.load_mib(str(filename))\n",
    "data_array = signal.data\n",
    "data_array=data_array.reshape((256, 256))\n",
    "siganl = pxm.ElectronDiffraction2D(data_array, metadata=signal.metadata.as_dictionary())\n",
    "signal.save(str(filename.with_suffix('.hspy')))\n",
    "\n",
    "signal = pxm.ElectronDiffraction2D(pxm.load(str(filename.with_suffix('.hspy'))))\n",
    "signal.metadata.add_dictionary(metadata)"
   ]
  },
  {
   "cell_type": "markdown",
   "metadata": {},
   "source": [
    "### TEM"
   ]
  },
  {
   "cell_type": "code",
   "execution_count": null,
   "metadata": {},
   "outputs": [],
   "source": [
    "filename = Path(r'C:\\Users\\emilc\\OneDrive - NTNU\\NORTEM\\Merlin\\2020_09_12_NanowireSC58A8_Merlin\\NWX\\2020_09_12_NanowireSC58A8_Merlin_calibrations\\BF_40kx_NBDa5Spot1nm.mib')\n",
    "signal = pxm.load_mib(str(filename))\n",
    "data_array = signal.data\n",
    "data_array=data_array.reshape((256, 256))\n",
    "signal = hs.signals.Signal2D(data_array, metadata=signal.metadata.as_dictionary())\n",
    "signal.save(str(filename.with_suffix('.hspy')))\n",
    "signal = hs.load(str(filename.with_suffix('.hspy')))"
   ]
  },
  {
   "cell_type": "markdown",
   "metadata": {},
   "source": [
    "## Add metadata"
   ]
  },
  {
   "cell_type": "code",
   "execution_count": 4,
   "metadata": {},
   "outputs": [],
   "source": [
    "metadata = {\n",
    "    'Acquisition_instrument':{\n",
    "        'TEM':{\n",
    "            'mode': 'NBD',\n",
    "            'alpha': 'Alpha 5',\n",
    "            'spot': '1.0',\n",
    "            'cameralength': '8',\n",
    "            'acceleration_voltage': '200',\n",
    "            'rocking_angle': 1.08,\n",
    "            'rocking_frequency': 100\n",
    "        }\n",
    "    },\n",
    "    'Session':{\n",
    "        'Date': str(dt.datetime.today),\n",
    "        'Operator': 'Emil Christiansen',\n",
    "        'Specimen': 'GaAs/GaAsSb'\n",
    "    }\n",
    "}\n",
    "signal.metadata.add_dictionary(metadata)"
   ]
  },
  {
   "cell_type": "markdown",
   "metadata": {},
   "source": [
    "## Calibrate"
   ]
  },
  {
   "cell_type": "markdown",
   "metadata": {},
   "source": [
    "### Precession (Ring fitting)"
   ]
  },
  {
   "cell_type": "code",
   "execution_count": 6,
   "metadata": {},
   "outputs": [
    {
     "name": "stderr",
     "output_type": "stream",
     "text": [
      "/home/emilc/anaconda3/envs/mib2hspyV2/lib/python3.8/site-packages/hyperspy/drawing/image.py:474: MatplotlibDeprecationWarning: Passing parameters norm and vmin/vmax simultaneously is deprecated since 3.3 and will become an error two minor releases later. Please pass vmin/vmax directly to the norm when creating it.\n",
      "  self.ax.imshow(data,\n"
     ]
    }
   ],
   "source": [
    "signal.plot(norm='log')"
   ]
  },
  {
   "cell_type": "code",
   "execution_count": null,
   "metadata": {},
   "outputs": [],
   "source": [
    "g = hs.model.components1D.Expression(\n",
    "    expression=\"height * exp(-(x - x0) ** 2 * 4 * log(2)/ fwhm ** 2)\",\n",
    "    name=\"Gaussian\",\n",
    "    position=\"x0\",\n",
    "    height=1,\n",
    "    fwhm=1,\n",
    "    x0=0,\n",
    "    module=\"numpy\")"
   ]
  },
  {
   "cell_type": "markdown",
   "metadata": {},
   "source": [
    "### Line calibration"
   ]
  },
  {
   "cell_type": "code",
   "execution_count": 80,
   "metadata": {},
   "outputs": [
    {
     "name": "stderr",
     "output_type": "stream",
     "text": [
      "/home/emilc/anaconda3/envs/mib2hspyV2/lib/python3.8/site-packages/hyperspy/drawing/image.py:474: MatplotlibDeprecationWarning: Passing parameters norm and vmin/vmax simultaneously is deprecated since 3.3 and will become an error two minor releases later. Please pass vmin/vmax directly to the norm when creating it.\n",
      "  self.ax.imshow(data,\n",
      "/home/emilc/anaconda3/envs/mib2hspyV2/lib/python3.8/site-packages/hyperspy/drawing/_widgets/line2d.py:252: MatplotlibDeprecationWarning: Setting the line's pick radius via set_picker is deprecated since 3.3 and will be removed two minor releases later; use set_pickradius instead.\n",
      "  self.patch = self.ax.plot(\n",
      "/home/emilc/anaconda3/envs/mib2hspyV2/lib/python3.8/site-packages/hyperspy/drawing/_widgets/line2d.py:268: MatplotlibDeprecationWarning: Setting the line's pick radius via set_picker is deprecated since 3.3 and will be removed two minor releases later; use set_pickradius instead.\n",
      "  wi, = self.ax.plot(\n",
      "/home/emilc/anaconda3/envs/mib2hspyV2/lib/python3.8/site-packages/hyperspy/drawing/_widgets/line2d.py:268: MatplotlibDeprecationWarning: Setting the line's pick radius via set_picker is deprecated since 3.3 and will be removed two minor releases later; use set_pickradius instead.\n",
      "  wi, = self.ax.plot(\n"
     ]
    },
    {
     "data": {
      "text/plain": [
       "<hyperspy.drawing._widgets.line2d.Line2DWidget at 0x7fa9cc33deb0>"
      ]
     },
     "execution_count": 80,
     "metadata": {},
     "output_type": "execute_result"
    }
   ],
   "source": [
    "signal.plot(norm='log')\n",
    "line = pxm.roi.Line2DROI(0, 0, 1, 1, linewidth=1)\n",
    "line.add_widget(signal)"
   ]
  },
  {
   "cell_type": "code",
   "execution_count": 81,
   "metadata": {},
   "outputs": [
    {
     "data": {
      "text/plain": [
       "<hyperspy.drawing._widgets.range.RangeWidget at 0x7fa9c7a14580>"
      ]
     },
     "execution_count": 81,
     "metadata": {},
     "output_type": "execute_result"
    }
   ],
   "source": [
    "profile = line(signal)\n",
    "profile.plot(norm='log')\n",
    "span = pxm.roi.SpanROI(1, 2)\n",
    "#span.add_widget(profile, axes=[1,2])\n",
    "span.add_widget(profile)"
   ]
  },
  {
   "cell_type": "markdown",
   "metadata": {},
   "source": [
    "### Magnification Calibration"
   ]
  },
  {
   "cell_type": "code",
   "execution_count": null,
   "metadata": {},
   "outputs": [],
   "source": [
    "units = 'nm'\n",
    "l = 132.1 #Physical distance/feature\n",
    "r = span.right-span.left #Distance on detector\n",
    "\n",
    "lx = l * np.cos(line.angle() * np.pi / 180) #physical distance in x\n",
    "rx = r * np.cos(line.angle() * np.pi / 180) #detector distance along x\n",
    "ly = l * np.sin(line.angle() * np.pi / 180) #physical distance in y\n",
    "ry = r * np.sin(line.angle() * np.pi / 180) #detector distance along y\n",
    "\n",
    "scale_x = abs(lx/rx)\n",
    "scale_y = abs(ly/ry)\n",
    "print('Real distance: {l:.2e} nm\\nDetector distance: {r:.2e} px\\nScale x: {scale_x:.2e} nm/px\\nScale y: {scale_y:.2e}'.format(l=l, r=r, scale_x=scale_x, scale_y=scale_y))\n",
    "\n",
    "signal.axes_manager[0].name = 'x'\n",
    "signal.axes_manager[1].name = 'y'\n",
    "signal.axes_manager['x'].scale = scale_x\n",
    "signal.axes_manager['y'].scale = scale_y\n",
    "signal.axes_manager['x'].units = units\n",
    "signal.axes_manager['y'].units = units\n",
    "\n",
    "signal.plot()\n",
    "line = pxm.roi.Line2DROI(50, 50, 100, 100, linewidth=10)\n",
    "line.add_widget(signal)"
   ]
  },
  {
   "cell_type": "code",
   "execution_count": null,
   "metadata": {},
   "outputs": [],
   "source": [
    "profile = line(signal)\n",
    "profile.plot()\n",
    "span = pxm.roi.SpanROI(20, 80)\n",
    "span.add_widget(profile)"
   ]
  },
  {
   "cell_type": "code",
   "execution_count": null,
   "metadata": {},
   "outputs": [],
   "source": [
    "signal.metadata.add_dictionary(metadata)\n",
    "signal.save(str(filename.with_suffix('.hspy')))"
   ]
  },
  {
   "cell_type": "markdown",
   "metadata": {},
   "source": [
    "### Diffraction Calibration"
   ]
  },
  {
   "cell_type": "code",
   "execution_count": 82,
   "metadata": {},
   "outputs": [
    {
     "name": "stdout",
     "output_type": "stream",
     "text": [
      "Real distance between (1 1 1) planes: 3.14e+00 Å\n",
      "Scattering vector length: 3.19e-01 1/Å \n",
      "Scattering vector on detector: 198.9 px\n",
      "Scale: 0.0016 1/Å / px\n",
      "Angular scale (200 kV): 0.0402 mrad / px\n",
      "Angular scale (200 kV): 0.0023 deg / px\n",
      "Detector sizes: 0.411 Å^-1, 10.297 mrad, 0.590 deg\n",
      "Camera length (200 kV): 136.743 cm\n"
     ]
    }
   ],
   "source": [
    "h, k, l = 1,1,1\n",
    "n = 1\n",
    "nh, nk, nl, = n, n, n\n",
    "H, K, L = nh*h, nk*k, nl*l\n",
    "x0 = span.left#9.5 #px\n",
    "x1 = span.right#253.6\n",
    "r = span.right - span.left\n",
    "a = 5.431020511# Å Silicon\n",
    "#a = 5.65325#Å\n",
    "b = a\n",
    "c = a\n",
    "acceleration_voltage = 200E3 #V\n",
    "\n",
    "g = np.array([H/a, K/b, L/c])\n",
    "g = np.sqrt(np.sum(g**2))\n",
    "d = 1 / g\n",
    "scale = g/r\n",
    "angular_scale_mrad = scale * wavelength(acceleration_voltage) *1000\n",
    "angular_scale_deg = angular_scale_mrad / 1000 * 180 / np.pi\n",
    "\n",
    "detector_size_Å = 256*scale\n",
    "detector_size_mrad = 256*angular_scale_mrad\n",
    "detector_size_deg = 256*angular_scale_deg\n",
    "\n",
    "cl = camera_length(r, d, wavelength(acceleration_voltage))\n",
    "print('Real distance between ({h} {k} {l}) planes: {d:.2e} Å\\nScattering vector length: {g:.2e} 1/Å \\nScattering vector on detector: {r:.1f} px\\nScale: {scale:.4f} 1/Å / px\\nAngular scale ({acc:.0f} kV): {ang_scale_mrad:.4f} mrad / px\\nAngular scale ({acc:.0f} kV): {ang_scale_deg:.4f} deg / px\\nDetector sizes: {det_size_Å:.3f} Å^-1, {det_size_mrad:.3f} mrad, {det_size_deg:.3f} deg\\nCamera length ({acc:.0f} kV): {cl:.3f} cm'.format(h=H, k=K, l=L, d=d, g=g, r=r, scale=scale, ang_scale_mrad = angular_scale_mrad, ang_scale_deg=angular_scale_deg, det_size_Å=detector_size_Å, det_size_mrad=detector_size_mrad, det_size_deg=detector_size_deg, acc=acceleration_voltage*1E-3, cl=cl))"
   ]
  },
  {
   "cell_type": "code",
   "execution_count": 41,
   "metadata": {},
   "outputs": [
    {
     "data": {
      "text/plain": [
       "27.475417115783806"
      ]
     },
     "execution_count": 41,
     "metadata": {},
     "output_type": "execute_result"
    }
   ],
   "source": [
    "cl"
   ]
  },
  {
   "cell_type": "code",
   "execution_count": 15,
   "metadata": {},
   "outputs": [
    {
     "data": {
      "text/plain": [
       "186.95450326305004"
      ]
     },
     "execution_count": 15,
     "metadata": {},
     "output_type": "execute_result"
    }
   ],
   "source": [
    "r"
   ]
  },
  {
   "cell_type": "code",
   "execution_count": 16,
   "metadata": {},
   "outputs": [
    {
     "data": {
      "text/plain": [
       "0.39195014425002855"
      ]
     },
     "execution_count": 16,
     "metadata": {},
     "output_type": "execute_result"
    }
   ],
   "source": [
    "d"
   ]
  },
  {
   "cell_type": "code",
   "execution_count": 17,
   "metadata": {},
   "outputs": [
    {
     "data": {
      "text/plain": [
       "0.025079340161710043"
      ]
     },
     "execution_count": 17,
     "metadata": {},
     "output_type": "execute_result"
    }
   ],
   "source": [
    "wavelength(acceleration_voltage)"
   ]
  },
  {
   "cell_type": "code",
   "execution_count": 18,
   "metadata": {},
   "outputs": [
    {
     "data": {
      "text/plain": [
       "0.0016069906236493134"
      ]
     },
     "execution_count": 18,
     "metadata": {},
     "output_type": "execute_result"
    }
   ],
   "source": [
    "cl * 100"
   ]
  },
  {
   "cell_type": "markdown",
   "metadata": {},
   "source": [
    "#### Add as metadata"
   ]
  },
  {
   "cell_type": "code",
   "execution_count": 173,
   "metadata": {},
   "outputs": [
    {
     "data": {
      "text/plain": [
       "├── Acquisition_instrument\n",
       "│   └── TEM\n",
       "│       ├── acceleration_voltage = 200000.0\n",
       "│       ├── alpha = Alpha 5\n",
       "│       ├── cameralength = 0.15\n",
       "│       ├── mode = NBD\n",
       "│       └── spot = 1\n",
       "├── General\n",
       "│   └── title = \n",
       "├── Session\n",
       "│   ├── Date = <built-in method today of type object at 0x00007FF91B74B530>\n",
       "│   ├── Operator = Emil Christiansen\n",
       "│   └── Specimen = GaAs/GaAsSb\n",
       "└── Signal\n",
       "    ├── binned = False\n",
       "    └── signal_type = electron_diffraction"
      ]
     },
     "execution_count": 173,
     "metadata": {},
     "output_type": "execute_result"
    }
   ],
   "source": [
    "signal.metadata"
   ]
  },
  {
   "cell_type": "code",
   "execution_count": 174,
   "metadata": {},
   "outputs": [],
   "source": [
    "signal.metadata.add_dictionary({'Acquisition_instrument': {'TEM': {'calibrations': {'Scale': scale, 'Angular_scale': angular_scale, 'Actual_camera_length': cl}}}})"
   ]
  },
  {
   "cell_type": "code",
   "execution_count": 327,
   "metadata": {},
   "outputs": [],
   "source": [
    "from math import nan"
   ]
  },
  {
   "cell_type": "code",
   "execution_count": 328,
   "metadata": {},
   "outputs": [
    {
     "data": {
      "text/plain": [
       "nan"
      ]
     },
     "execution_count": 328,
     "metadata": {},
     "output_type": "execute_result"
    }
   ],
   "source": [
    "nan"
   ]
  },
  {
   "cell_type": "code",
   "execution_count": 339,
   "metadata": {},
   "outputs": [],
   "source": [
    "s = 'a'"
   ]
  },
  {
   "cell_type": "code",
   "execution_count": 343,
   "metadata": {},
   "outputs": [
    {
     "ename": "TypeError",
     "evalue": "'str' object does not support item assignment",
     "output_type": "error",
     "traceback": [
      "\u001b[1;31m---------------------------------------------------------------------------\u001b[0m",
      "\u001b[1;31mTypeError\u001b[0m                                 Traceback (most recent call last)",
      "\u001b[1;32m<ipython-input-343-acd9f7224840>\u001b[0m in \u001b[0;36m<module>\u001b[1;34m\u001b[0m\n\u001b[1;32m----> 1\u001b[1;33m \u001b[0ms\u001b[0m\u001b[1;33m[\u001b[0m\u001b[1;36m0\u001b[0m\u001b[1;33m]\u001b[0m \u001b[1;33m=\u001b[0m \u001b[1;34m'1'\u001b[0m\u001b[1;33m\u001b[0m\u001b[1;33m\u001b[0m\u001b[0m\n\u001b[0m",
      "\u001b[1;31mTypeError\u001b[0m: 'str' object does not support item assignment"
     ]
    }
   ],
   "source": [
    "s.replace()"
   ]
  },
  {
   "cell_type": "code",
   "execution_count": 342,
   "metadata": {},
   "outputs": [
    {
     "data": {
      "text/plain": [
       "'a'"
      ]
     },
     "execution_count": 342,
     "metadata": {},
     "output_type": "execute_result"
    }
   ],
   "source": [
    "s"
   ]
  },
  {
   "cell_type": "code",
   "execution_count": null,
   "metadata": {},
   "outputs": [],
   "source": []
  },
  {
   "cell_type": "code",
   "execution_count": 354,
   "metadata": {},
   "outputs": [],
   "source": [
    "from math import isnan\n",
    "    "
   ]
  },
  {
   "cell_type": "code",
   "execution_count": 356,
   "metadata": {},
   "outputs": [
    {
     "ename": "TypeError",
     "evalue": "must be real number, not NoneType",
     "output_type": "error",
     "traceback": [
      "\u001b[1;31m---------------------------------------------------------------------------\u001b[0m",
      "\u001b[1;31mTypeError\u001b[0m                                 Traceback (most recent call last)",
      "\u001b[1;32m<ipython-input-356-4a0142ec4134>\u001b[0m in \u001b[0;36m<module>\u001b[1;34m\u001b[0m\n\u001b[1;32m----> 1\u001b[1;33m \u001b[0misnan\u001b[0m\u001b[1;33m(\u001b[0m\u001b[1;32mNone\u001b[0m\u001b[1;33m)\u001b[0m\u001b[1;33m\u001b[0m\u001b[1;33m\u001b[0m\u001b[0m\n\u001b[0m",
      "\u001b[1;31mTypeError\u001b[0m: must be real number, not NoneType"
     ]
    }
   ],
   "source": [
    "isnan(None)"
   ]
  },
  {
   "cell_type": "code",
   "execution_count": 345,
   "metadata": {},
   "outputs": [],
   "source": [
    "f = foo()"
   ]
  },
  {
   "cell_type": "code",
   "execution_count": 353,
   "metadata": {},
   "outputs": [
    {
     "name": "stdout",
     "output_type": "stream",
     "text": [
      "a=[1], b=[2]\n",
      "0\n",
      "1\n",
      "a=[1, 0], b=[2, 1]\n"
     ]
    }
   ],
   "source": [
    "class foo:\n",
    "    \n",
    "    def __init__(self):\n",
    "        self.a = [1]\n",
    "        self.b = [2]\n",
    "    \n",
    "    def __iter__(self):\n",
    "        parameters = [self.a, self.b]\n",
    "        for parameter in parameters:\n",
    "            yield parameter\n",
    "    def __str__(self):\n",
    "        return 'a={self.a}, b={self.b}'.format(self=self)\n",
    "    \n",
    "f = foo()\n",
    "print(f)\n",
    "for v, p in enumerate(f):\n",
    "    print(v)\n",
    "    p.append(v)\n",
    "print(f)"
   ]
  },
  {
   "cell_type": "code",
   "execution_count": 348,
   "metadata": {},
   "outputs": [
    {
     "data": {
      "text/plain": [
       "1"
      ]
     },
     "execution_count": 348,
     "metadata": {},
     "output_type": "execute_result"
    }
   ],
   "source": [
    "f.a"
   ]
  },
  {
   "cell_type": "code",
   "execution_count": 349,
   "metadata": {},
   "outputs": [
    {
     "data": {
      "text/plain": [
       "2"
      ]
     },
     "execution_count": 349,
     "metadata": {},
     "output_type": "execute_result"
    }
   ],
   "source": [
    "f.b"
   ]
  },
  {
   "cell_type": "code",
   "execution_count": 329,
   "metadata": {},
   "outputs": [],
   "source": [
    "test = 'Test Navn'"
   ]
  },
  {
   "cell_type": "code",
   "execution_count": 332,
   "metadata": {},
   "outputs": [
    {
     "data": {
      "text/plain": [
       "'test_navn'"
      ]
     },
     "execution_count": 332,
     "metadata": {},
     "output_type": "execute_result"
    }
   ],
   "source": [
    "test.replace(' ', '_').lower()"
   ]
  },
  {
   "cell_type": "code",
   "execution_count": 331,
   "metadata": {},
   "outputs": [
    {
     "data": {
      "text/plain": [
       "'Test Navn'"
      ]
     },
     "execution_count": 331,
     "metadata": {},
     "output_type": "execute_result"
    }
   ],
   "source": [
    "test"
   ]
  },
  {
   "cell_type": "code",
   "execution_count": 175,
   "metadata": {},
   "outputs": [
    {
     "data": {
      "text/plain": [
       "├── Acquisition_instrument\n",
       "│   └── TEM\n",
       "│       ├── acceleration_voltage = 200000.0\n",
       "│       ├── alpha = Alpha 5\n",
       "│       ├── calibrations\n",
       "│       │   ├── Actual_camera_length = 27.301134893108742\n",
       "│       │   ├── Angular_scale = 0.2883095895391469\n",
       "│       │   └── Scale = 0.00803278018356916\n",
       "│       ├── cameralength = 0.15\n",
       "│       ├── mode = NBD\n",
       "│       └── spot = 1\n",
       "├── General\n",
       "│   └── title = \n",
       "├── Session\n",
       "│   ├── Date = <built-in method today of type object at 0x00007FF91B74B530>\n",
       "│   ├── Operator = Emil Christiansen\n",
       "│   └── Specimen = GaAs/GaAsSb\n",
       "└── Signal\n",
       "    ├── binned = False\n",
       "    └── signal_type = electron_diffraction"
      ]
     },
     "execution_count": 175,
     "metadata": {},
     "output_type": "execute_result"
    }
   ],
   "source": [
    "signal.metadata"
   ]
  },
  {
   "cell_type": "markdown",
   "metadata": {},
   "source": [
    "#### Find centre of direct beam manually"
   ]
  },
  {
   "cell_type": "code",
   "execution_count": 176,
   "metadata": {},
   "outputs": [
    {
     "name": "stderr",
     "output_type": "stream",
     "text": [
      "C:\\Users\\emilc\\Miniconda3\\envs\\pyXem\\lib\\site-packages\\hyperspy\\drawing\\signal1d.py:123: UserWarning: Attempting to set identical left == right == 0.0 results in singular transformations; automatically expanding.\n",
      "  plt.xlim(np.min(x_axis_lower_lims), np.max(x_axis_upper_lims))\n",
      "C:\\Users\\emilc\\Miniconda3\\envs\\pyXem\\lib\\site-packages\\hyperspy\\drawing\\_widgets\\vertical_line.py:34: MatplotlibDeprecationWarning: Setting the line's pick radius via set_picker is deprecated since 3.3 and will be removed two minor releases later; use set_pickradius instead.\n",
      "  self.patch = [ax.axvline(self._pos[0],\n"
     ]
    },
    {
     "data": {
      "text/plain": [
       "<hyperspy.drawing._widgets.circle.CircleWidget at 0x26040f4cfd0>"
      ]
     },
     "execution_count": 176,
     "metadata": {},
     "output_type": "execute_result"
    }
   ],
   "source": [
    "signal.plot()\n",
    "roi = pxm.roi.CircleROI(128, 128, 10)\n",
    "roi.add_widget(signal)"
   ]
  },
  {
   "cell_type": "markdown",
   "metadata": {},
   "source": [
    "## Precession  calibration"
   ]
  },
  {
   "cell_type": "code",
   "execution_count": 37,
   "metadata": {},
   "outputs": [
    {
     "data": {
      "text/plain": [
       "├── Acquisition_instrument\n",
       "│   └── TEM\n",
       "│       ├── acceleration_voltage = 200\n",
       "│       ├── alpha = Alpha 5\n",
       "│       ├── cameralength = 8\n",
       "│       ├── mode = NBD\n",
       "│       ├── rocking_angle = 1.08\n",
       "│       ├── rocking_frequency = 100\n",
       "│       └── spot = 1.0\n",
       "├── General\n",
       "│   └── title = \n",
       "├── Session\n",
       "│   ├── Date = <built-in method today of type object at 0x00007FFFADF9B530>\n",
       "│   ├── Operator = Emil Christiansen\n",
       "│   └── Specimen = GaAs/GaAsSb\n",
       "└── Signal\n",
       "    ├── binned = False\n",
       "    └── signal_type = electron_diffraction"
      ]
     },
     "execution_count": 37,
     "metadata": {},
     "output_type": "execute_result"
    }
   ],
   "source": [
    "signal.metadata"
   ]
  },
  {
   "cell_type": "code",
   "execution_count": 40,
   "metadata": {},
   "outputs": [
    {
     "name": "stdout",
     "output_type": "stream",
     "text": [
      "Precession angle: 3.416e+01 mrad\n",
      "Precession angle: 1.957e+00 deg\n",
      "Overwrite 'C:\\Users\\emilc\\OneDrive - NTNU\\NORTEM\\Merlin\\2020_09_12_NanowireSC58A8_Merlin\\NWX\\2020_09_12_NanowireSC58A8_Merlin_calibrations\\PED_8cm_1p08deg_NBDa5Spot1nm_2.hspy' (y/n)?\n",
      "y\n"
     ]
    }
   ],
   "source": [
    "#Diffraction pattern (span) should be calibrated correctly already\n",
    "d = span.right-span.left #Diameter of ring\n",
    "r = d/2\n",
    "wavelength = 0.0251 #Å\n",
    "phi = r*wavelength #rad\n",
    "Phi = phi*180/np.pi\n",
    "print('Precession angle: {phi:.3e} mrad\\nPrecession angle: {Phi:.3e} deg'.format(phi=phi*1000, Phi=Phi))\n",
    "signal.metadata.Acquisition_instrument.TEM['rocking_angle_true_deg'] = Phi\n",
    "signal.metadata.Acquisition_instrument.TEM['rocking_angle_true_rad'] = phi\n",
    "signal.save(str(filename.with_suffix('.hspy')))"
   ]
  },
  {
   "cell_type": "markdown",
   "metadata": {},
   "source": [
    "### Apply calibrations"
   ]
  },
  {
   "cell_type": "code",
   "execution_count": 177,
   "metadata": {},
   "outputs": [],
   "source": [
    "centre = (roi.cx, roi.cy)\n",
    "signal.set_diffraction_calibration(scale, center = centre*np.array(scale))"
   ]
  },
  {
   "cell_type": "code",
   "execution_count": 139,
   "metadata": {},
   "outputs": [
    {
     "name": "stderr",
     "output_type": "stream",
     "text": [
      "C:\\Users\\emilc\\Miniconda3\\envs\\pyXem\\lib\\site-packages\\hyperspy\\drawing\\signal1d.py:123: UserWarning: Attempting to set identical left == right == 0.0 results in singular transformations; automatically expanding.\n",
      "  plt.xlim(np.min(x_axis_lower_lims), np.max(x_axis_upper_lims))\n",
      "C:\\Users\\emilc\\Miniconda3\\envs\\pyXem\\lib\\site-packages\\hyperspy\\drawing\\_widgets\\vertical_line.py:34: MatplotlibDeprecationWarning: Setting the line's pick radius via set_picker is deprecated since 3.3 and will be removed two minor releases later; use set_pickradius instead.\n",
      "  self.patch = [ax.axvline(self._pos[0],\n",
      "C:\\Users\\emilc\\Miniconda3\\envs\\pyXem\\lib\\site-packages\\hyperspy\\drawing\\image.py:474: MatplotlibDeprecationWarning: Passing parameters norm and vmin/vmax simultaneously is deprecated since 3.3 and will become an error two minor releases later. Please pass vmin/vmax directly to the norm when creating it.\n",
      "  self.ax.imshow(data,\n"
     ]
    }
   ],
   "source": [
    "signal.plot(norm='log')"
   ]
  },
  {
   "cell_type": "markdown",
   "metadata": {},
   "source": [
    "## Save calibrated data"
   ]
  },
  {
   "cell_type": "code",
   "execution_count": 168,
   "metadata": {},
   "outputs": [
    {
     "name": "stdout",
     "output_type": "stream",
     "text": [
      "Overwrite 'C:\\Users\\emilc\\OneDrive - NTNU\\NORTEM\\Merlin\\2020_09_12_NanowireSC58A8_MerlinCalibrations\\NWX\\2020_09_12_NanowireSC58A8_Merlin_calibrations\\SAEDP_12cm_NBDa5Spot1nm.hspy' (y/n)?\n",
      "y\n"
     ]
    }
   ],
   "source": [
    "signal.save(str(filename.with_suffix('.hspy')))"
   ]
  },
  {
   "cell_type": "markdown",
   "metadata": {},
   "source": [
    "# Inspect / get calibrations"
   ]
  },
  {
   "cell_type": "code",
   "execution_count": 242,
   "metadata": {},
   "outputs": [
    {
     "ename": "ValueError",
     "evalue": "There is no DataAxis named x",
     "output_type": "error",
     "traceback": [
      "\u001b[1;31m---------------------------------------------------------------------------\u001b[0m",
      "\u001b[1;31mValueError\u001b[0m                                Traceback (most recent call last)",
      "\u001b[1;32m<ipython-input-242-a8fa9758a801>\u001b[0m in \u001b[0;36m<module>\u001b[1;34m\u001b[0m\n\u001b[0;32m      1\u001b[0m \u001b[0msignal\u001b[0m \u001b[1;33m=\u001b[0m \u001b[0mpxm\u001b[0m\u001b[1;33m.\u001b[0m\u001b[0mload\u001b[0m\u001b[1;33m(\u001b[0m\u001b[1;34mr'NWX/2020_09_12_NanowireSC58A8_Merlin_calibrations/SAEDP_8cm_NBDa5Spot1nm.hspy'\u001b[0m\u001b[1;33m)\u001b[0m\u001b[1;33m\u001b[0m\u001b[1;33m\u001b[0m\u001b[0m\n\u001b[0;32m      2\u001b[0m \u001b[1;33m\u001b[0m\u001b[0m\n\u001b[1;32m----> 3\u001b[1;33m \u001b[0mscale\u001b[0m \u001b[1;33m=\u001b[0m \u001b[0msignal\u001b[0m\u001b[1;33m.\u001b[0m\u001b[0maxes_manager\u001b[0m\u001b[1;33m[\u001b[0m\u001b[1;34m'x'\u001b[0m\u001b[1;33m]\u001b[0m\u001b[1;33m.\u001b[0m\u001b[0mscale\u001b[0m\u001b[1;33m\u001b[0m\u001b[1;33m\u001b[0m\u001b[0m\n\u001b[0m\u001b[0;32m      4\u001b[0m \u001b[0munit\u001b[0m \u001b[1;33m=\u001b[0m \u001b[0msignal\u001b[0m\u001b[1;33m.\u001b[0m\u001b[0maxes_manager\u001b[0m\u001b[1;33m[\u001b[0m\u001b[1;34m'x'\u001b[0m\u001b[1;33m]\u001b[0m\u001b[1;33m.\u001b[0m\u001b[0munits\u001b[0m\u001b[1;33m\u001b[0m\u001b[1;33m\u001b[0m\u001b[0m\n\u001b[0;32m      5\u001b[0m \u001b[0msize\u001b[0m \u001b[1;33m=\u001b[0m \u001b[1;36m256\u001b[0m\u001b[1;33m*\u001b[0m\u001b[0mscale\u001b[0m\u001b[1;33m\u001b[0m\u001b[1;33m\u001b[0m\u001b[0m\n",
      "\u001b[1;32m~\\Miniconda3\\envs\\pyXem\\lib\\site-packages\\hyperspy\\axes.py\u001b[0m in \u001b[0;36m__getitem__\u001b[1;34m(self, y)\u001b[0m\n\u001b[0;32m    789\u001b[0m         \"\"\"\n\u001b[0;32m    790\u001b[0m         \u001b[1;32mif\u001b[0m \u001b[0misinstance\u001b[0m\u001b[1;33m(\u001b[0m\u001b[0my\u001b[0m\u001b[1;33m,\u001b[0m \u001b[0mstr\u001b[0m\u001b[1;33m)\u001b[0m \u001b[1;32mor\u001b[0m \u001b[1;32mnot\u001b[0m \u001b[0mnp\u001b[0m\u001b[1;33m.\u001b[0m\u001b[0miterable\u001b[0m\u001b[1;33m(\u001b[0m\u001b[0my\u001b[0m\u001b[1;33m)\u001b[0m\u001b[1;33m:\u001b[0m\u001b[1;33m\u001b[0m\u001b[1;33m\u001b[0m\u001b[0m\n\u001b[1;32m--> 791\u001b[1;33m             \u001b[1;32mreturn\u001b[0m \u001b[0mself\u001b[0m\u001b[1;33m[\u001b[0m\u001b[1;33m(\u001b[0m\u001b[0my\u001b[0m\u001b[1;33m,\u001b[0m\u001b[1;33m)\u001b[0m\u001b[1;33m]\u001b[0m\u001b[1;33m[\u001b[0m\u001b[1;36m0\u001b[0m\u001b[1;33m]\u001b[0m\u001b[1;33m\u001b[0m\u001b[1;33m\u001b[0m\u001b[0m\n\u001b[0m\u001b[0;32m    792\u001b[0m         \u001b[0maxes\u001b[0m \u001b[1;33m=\u001b[0m \u001b[1;33m[\u001b[0m\u001b[0mself\u001b[0m\u001b[1;33m.\u001b[0m\u001b[0m_axes_getter\u001b[0m\u001b[1;33m(\u001b[0m\u001b[0max\u001b[0m\u001b[1;33m)\u001b[0m \u001b[1;32mfor\u001b[0m \u001b[0max\u001b[0m \u001b[1;32min\u001b[0m \u001b[0my\u001b[0m\u001b[1;33m]\u001b[0m\u001b[1;33m\u001b[0m\u001b[1;33m\u001b[0m\u001b[0m\n\u001b[0;32m    793\u001b[0m         _, indices = np.unique(\n",
      "\u001b[1;32m~\\Miniconda3\\envs\\pyXem\\lib\\site-packages\\hyperspy\\axes.py\u001b[0m in \u001b[0;36m__getitem__\u001b[1;34m(self, y)\u001b[0m\n\u001b[0;32m    790\u001b[0m         \u001b[1;32mif\u001b[0m \u001b[0misinstance\u001b[0m\u001b[1;33m(\u001b[0m\u001b[0my\u001b[0m\u001b[1;33m,\u001b[0m \u001b[0mstr\u001b[0m\u001b[1;33m)\u001b[0m \u001b[1;32mor\u001b[0m \u001b[1;32mnot\u001b[0m \u001b[0mnp\u001b[0m\u001b[1;33m.\u001b[0m\u001b[0miterable\u001b[0m\u001b[1;33m(\u001b[0m\u001b[0my\u001b[0m\u001b[1;33m)\u001b[0m\u001b[1;33m:\u001b[0m\u001b[1;33m\u001b[0m\u001b[1;33m\u001b[0m\u001b[0m\n\u001b[0;32m    791\u001b[0m             \u001b[1;32mreturn\u001b[0m \u001b[0mself\u001b[0m\u001b[1;33m[\u001b[0m\u001b[1;33m(\u001b[0m\u001b[0my\u001b[0m\u001b[1;33m,\u001b[0m\u001b[1;33m)\u001b[0m\u001b[1;33m]\u001b[0m\u001b[1;33m[\u001b[0m\u001b[1;36m0\u001b[0m\u001b[1;33m]\u001b[0m\u001b[1;33m\u001b[0m\u001b[1;33m\u001b[0m\u001b[0m\n\u001b[1;32m--> 792\u001b[1;33m         \u001b[0maxes\u001b[0m \u001b[1;33m=\u001b[0m \u001b[1;33m[\u001b[0m\u001b[0mself\u001b[0m\u001b[1;33m.\u001b[0m\u001b[0m_axes_getter\u001b[0m\u001b[1;33m(\u001b[0m\u001b[0max\u001b[0m\u001b[1;33m)\u001b[0m \u001b[1;32mfor\u001b[0m \u001b[0max\u001b[0m \u001b[1;32min\u001b[0m \u001b[0my\u001b[0m\u001b[1;33m]\u001b[0m\u001b[1;33m\u001b[0m\u001b[1;33m\u001b[0m\u001b[0m\n\u001b[0m\u001b[0;32m    793\u001b[0m         _, indices = np.unique(\n\u001b[0;32m    794\u001b[0m             [_id for _id in map(id, axes)], return_index=True)\n",
      "\u001b[1;32m~\\Miniconda3\\envs\\pyXem\\lib\\site-packages\\hyperspy\\axes.py\u001b[0m in \u001b[0;36m<listcomp>\u001b[1;34m(.0)\u001b[0m\n\u001b[0;32m    790\u001b[0m         \u001b[1;32mif\u001b[0m \u001b[0misinstance\u001b[0m\u001b[1;33m(\u001b[0m\u001b[0my\u001b[0m\u001b[1;33m,\u001b[0m \u001b[0mstr\u001b[0m\u001b[1;33m)\u001b[0m \u001b[1;32mor\u001b[0m \u001b[1;32mnot\u001b[0m \u001b[0mnp\u001b[0m\u001b[1;33m.\u001b[0m\u001b[0miterable\u001b[0m\u001b[1;33m(\u001b[0m\u001b[0my\u001b[0m\u001b[1;33m)\u001b[0m\u001b[1;33m:\u001b[0m\u001b[1;33m\u001b[0m\u001b[1;33m\u001b[0m\u001b[0m\n\u001b[0;32m    791\u001b[0m             \u001b[1;32mreturn\u001b[0m \u001b[0mself\u001b[0m\u001b[1;33m[\u001b[0m\u001b[1;33m(\u001b[0m\u001b[0my\u001b[0m\u001b[1;33m,\u001b[0m\u001b[1;33m)\u001b[0m\u001b[1;33m]\u001b[0m\u001b[1;33m[\u001b[0m\u001b[1;36m0\u001b[0m\u001b[1;33m]\u001b[0m\u001b[1;33m\u001b[0m\u001b[1;33m\u001b[0m\u001b[0m\n\u001b[1;32m--> 792\u001b[1;33m         \u001b[0maxes\u001b[0m \u001b[1;33m=\u001b[0m \u001b[1;33m[\u001b[0m\u001b[0mself\u001b[0m\u001b[1;33m.\u001b[0m\u001b[0m_axes_getter\u001b[0m\u001b[1;33m(\u001b[0m\u001b[0max\u001b[0m\u001b[1;33m)\u001b[0m \u001b[1;32mfor\u001b[0m \u001b[0max\u001b[0m \u001b[1;32min\u001b[0m \u001b[0my\u001b[0m\u001b[1;33m]\u001b[0m\u001b[1;33m\u001b[0m\u001b[1;33m\u001b[0m\u001b[0m\n\u001b[0m\u001b[0;32m    793\u001b[0m         _, indices = np.unique(\n\u001b[0;32m    794\u001b[0m             [_id for _id in map(id, axes)], return_index=True)\n",
      "\u001b[1;32m~\\Miniconda3\\envs\\pyXem\\lib\\site-packages\\hyperspy\\axes.py\u001b[0m in \u001b[0;36m_axes_getter\u001b[1;34m(self, y)\u001b[0m\n\u001b[0;32m    805\u001b[0m                 \u001b[1;32mif\u001b[0m \u001b[0my\u001b[0m \u001b[1;33m==\u001b[0m \u001b[0maxis\u001b[0m\u001b[1;33m.\u001b[0m\u001b[0mname\u001b[0m\u001b[1;33m:\u001b[0m\u001b[1;33m\u001b[0m\u001b[1;33m\u001b[0m\u001b[0m\n\u001b[0;32m    806\u001b[0m                     \u001b[1;32mreturn\u001b[0m \u001b[0maxis\u001b[0m\u001b[1;33m\u001b[0m\u001b[1;33m\u001b[0m\u001b[0m\n\u001b[1;32m--> 807\u001b[1;33m             \u001b[1;32mraise\u001b[0m \u001b[0mValueError\u001b[0m\u001b[1;33m(\u001b[0m\u001b[1;34m\"There is no DataAxis named %s\"\u001b[0m \u001b[1;33m%\u001b[0m \u001b[0my\u001b[0m\u001b[1;33m)\u001b[0m\u001b[1;33m\u001b[0m\u001b[1;33m\u001b[0m\u001b[0m\n\u001b[0m\u001b[0;32m    808\u001b[0m         elif (isfloat(y.real) and not y.real.is_integer() or\n\u001b[0;32m    809\u001b[0m                 isfloat(y.imag) and not y.imag.is_integer()):\n",
      "\u001b[1;31mValueError\u001b[0m: There is no DataAxis named x"
     ]
    }
   ],
   "source": [
    "signal = pxm.load(r'NWX/2020_09_12_NanowireSC58A8_Merlin_calibrations/SAEDP_8cm_NBDa5Spot1nm.hspy')\n",
    "\n",
    "scale = signal.axes_manager['x'].scale\n",
    "unit = signal.axes_manager['x'].units\n",
    "size = 256*scale\n",
    "pixel_size = 55E-6 #pixel size\n",
    "physical_detector_size = 256*pixel_size*1E9 #nm \n",
    "magnification = physical_detector_size / size\n",
    "print('Magnification: {mag:.0f}\\nScale: {scale:.2f} {unit}/px\\nDetector size: {size:.2f} {unit}'.format(mag=magnification, scale=scale, unit=unit, size=size))"
   ]
  },
  {
   "cell_type": "code",
   "execution_count": 288,
   "metadata": {},
   "outputs": [
    {
     "data": {
      "text/html": [
       "<style>\n",
       "table, th, td {\n",
       "\tborder: 1px solid black;\n",
       "\tborder-collapse: collapse;\n",
       "}\n",
       "th, td {\n",
       "\tpadding: 5px;\n",
       "}\n",
       "</style>\n",
       "<p><b>< Axes manager, axes: (1|256, 256) ></b></p>\n",
       "<table style='width:100%'>\n",
       "\n",
       "<tr> \n",
       "<th>Navigation axis name</th> \n",
       "<th>size</th> \n",
       "<th>index</th> \n",
       "<th>offset</th> \n",
       "<th>scale</th> \n",
       "<th>units</th> </tr>\n",
       "<tr> \n",
       "<td><undefined></td> \n",
       "<td>1</td> \n",
       "<td>0</td> \n",
       "<td>0.0</td> \n",
       "<td>1.0</td> \n",
       "<td><undefined></td> </tr></table>\n",
       "<table style='width:100%'>\n",
       "\n",
       "<tr> \n",
       "<th>Signal axis name</th> \n",
       "<th>size</th> \n",
       "<th>offset</th> \n",
       "<th>scale</th> \n",
       "<th>units</th> </tr>\n",
       "<tr> \n",
       "<td>kx</td> \n",
       "<td>256</td> \n",
       "<td>-1.801299496574588</td> \n",
       "<td>0.01407265231698897</td> \n",
       "<td>$A^{-1}$</td> </tr>\n",
       "<tr> \n",
       "<td>ky</td> \n",
       "<td>256</td> \n",
       "<td>-1.7309362349896433</td> \n",
       "<td>0.01407265231698897</td> \n",
       "<td>$A^{-1}$</td> </tr></table>\n"
      ],
      "text/plain": [
       "<Axes manager, axes: (1|256, 256)>\n",
       "            Name |   size |  index |  offset |   scale |  units \n",
       "================ | ====== | ====== | ======= | ======= | ====== \n",
       "     <undefined> |      1 |      0 |       0 |       1 | <undefined> \n",
       "---------------- | ------ | ------ | ------- | ------- | ------ \n",
       "              kx |    256 |        |    -1.8 |   0.014 | $A^{-1}$ \n",
       "              ky |    256 |        |    -1.7 |   0.014 | $A^{-1}$ "
      ]
     },
     "execution_count": 288,
     "metadata": {},
     "output_type": "execute_result"
    }
   ],
   "source": [
    "signal.axes_manager"
   ]
  },
  {
   "cell_type": "code",
   "execution_count": 324,
   "metadata": {},
   "outputs": [],
   "source": [
    "d = {'A': {'a':1}, 'B': {'b': 2}}"
   ]
  },
  {
   "cell_type": "code",
   "execution_count": 326,
   "metadata": {},
   "outputs": [
    {
     "data": {
      "text/plain": [
       "1"
      ]
     },
     "execution_count": 326,
     "metadata": {},
     "output_type": "execute_result"
    }
   ],
   "source": [
    "d.get('A').get('a')"
   ]
  },
  {
   "cell_type": "code",
   "execution_count": 322,
   "metadata": {},
   "outputs": [
    {
     "ename": "TypeError",
     "evalue": "unsupported operand type(s) for *: 'NoneType' and 'int'",
     "output_type": "error",
     "traceback": [
      "\u001b[1;31m---------------------------------------------------------------------------\u001b[0m",
      "\u001b[1;31mTypeError\u001b[0m                                 Traceback (most recent call last)",
      "\u001b[1;32m<ipython-input-322-60f90da77edb>\u001b[0m in \u001b[0;36m<module>\u001b[1;34m\u001b[0m\n\u001b[1;32m----> 1\u001b[1;33m \u001b[1;32mNone\u001b[0m \u001b[1;33m*\u001b[0m \u001b[1;36m2\u001b[0m\u001b[1;33m\u001b[0m\u001b[1;33m\u001b[0m\u001b[0m\n\u001b[0m",
      "\u001b[1;31mTypeError\u001b[0m: unsupported operand type(s) for *: 'NoneType' and 'int'"
     ]
    }
   ],
   "source": [
    "None * 2"
   ]
  },
  {
   "cell_type": "code",
   "execution_count": 294,
   "metadata": {},
   "outputs": [
    {
     "data": {
      "text/plain": [
       "True"
      ]
     },
     "execution_count": 294,
     "metadata": {},
     "output_type": "execute_result"
    }
   ],
   "source": [
    "isinstance(signal, hs.signals.BaseSignal)"
   ]
  },
  {
   "cell_type": "code",
   "execution_count": 321,
   "metadata": {},
   "outputs": [
    {
     "data": {
      "text/plain": [
       "41806.0"
      ]
     },
     "execution_count": 321,
     "metadata": {},
     "output_type": "execute_result"
    }
   ],
   "source": [
    "float(signal.max(np.arange(0, len(signal.data.shape), 1)).data)"
   ]
  },
  {
   "cell_type": "code",
   "execution_count": 312,
   "metadata": {},
   "outputs": [
    {
     "data": {
      "text/plain": [
       "<ElectronDiffraction2D, title: , dimensions: (|256, 256)>"
      ]
     },
     "execution_count": 312,
     "metadata": {},
     "output_type": "execute_result"
    }
   ],
   "source": [
    "signal.max()"
   ]
  },
  {
   "cell_type": "code",
   "execution_count": 308,
   "metadata": {},
   "outputs": [
    {
     "ename": "TypeError",
     "evalue": "float() argument must be a string or a number, not 'BaseSignal'",
     "output_type": "error",
     "traceback": [
      "\u001b[1;31m---------------------------------------------------------------------------\u001b[0m",
      "\u001b[1;31mTypeError\u001b[0m                                 Traceback (most recent call last)",
      "\u001b[1;32m<ipython-input-308-47cc92618e97>\u001b[0m in \u001b[0;36m<module>\u001b[1;34m\u001b[0m\n\u001b[1;32m----> 1\u001b[1;33m \u001b[0mfloat\u001b[0m\u001b[1;33m(\u001b[0m\u001b[0msignal\u001b[0m\u001b[1;33m.\u001b[0m\u001b[0mmax\u001b[0m\u001b[1;33m(\u001b[0m\u001b[0maxis\u001b[0m\u001b[1;33m=\u001b[0m\u001b[1;33m[\u001b[0m\u001b[1;36m0\u001b[0m\u001b[1;33m,\u001b[0m \u001b[1;36m1\u001b[0m\u001b[1;33m,\u001b[0m \u001b[1;36m2\u001b[0m\u001b[1;33m]\u001b[0m\u001b[1;33m)\u001b[0m\u001b[1;33m)\u001b[0m\u001b[1;33m\u001b[0m\u001b[1;33m\u001b[0m\u001b[0m\n\u001b[0m",
      "\u001b[1;31mTypeError\u001b[0m: float() argument must be a string or a number, not 'BaseSignal'"
     ]
    }
   ],
   "source": [
    "float(signal.max(axis=[0, 1, 2]).data)"
   ]
  },
  {
   "cell_type": "code",
   "execution_count": 297,
   "metadata": {},
   "outputs": [
    {
     "data": {
      "text/plain": [
       "dtype('>u4')"
      ]
     },
     "execution_count": 297,
     "metadata": {},
     "output_type": "execute_result"
    }
   ],
   "source": [
    "signal.data.dtype"
   ]
  },
  {
   "cell_type": "code",
   "execution_count": 290,
   "metadata": {},
   "outputs": [],
   "source": [
    "signal.axes_manager[0].units = ''"
   ]
  },
  {
   "cell_type": "code",
   "execution_count": 292,
   "metadata": {},
   "outputs": [
    {
     "data": {
      "text/plain": [
       "├── Acquisition_instrument\n",
       "│   └── TEM\n",
       "│       ├── acceleration_voltage = 200000.0\n",
       "│       ├── alpha = Alpha 5\n",
       "│       ├── calibrations\n",
       "│       │   ├── Actual_camera_length = 15.583701666071962\n",
       "│       │   ├── Angular_scale = 0.00035293283443524337\n",
       "│       │   └── Scale = 0.01407265231698897\n",
       "│       ├── cameralength = 0.08\n",
       "│       ├── mode = NBD\n",
       "│       └── spot = 1\n",
       "├── General\n",
       "│   └── title = \n",
       "├── Session\n",
       "│   ├── Date = <built-in method today of type object at 0x00007FF91B74B530>\n",
       "│   ├── Operator = Emil Christiansen\n",
       "│   └── Specimen = GaAs/GaAsSb\n",
       "└── Signal\n",
       "    ├── binned = False\n",
       "    └── signal_type = electron_diffraction"
      ]
     },
     "execution_count": 292,
     "metadata": {},
     "output_type": "execute_result"
    }
   ],
   "source": [
    "signal.metadata"
   ]
  },
  {
   "cell_type": "code",
   "execution_count": 278,
   "metadata": {},
   "outputs": [
    {
     "data": {
      "text/plain": [
       "<Unnamed 0th axis, size: 1, index: 0>"
      ]
     },
     "execution_count": 278,
     "metadata": {},
     "output_type": "execute_result"
    }
   ],
   "source": [
    "s.axes_manager[0]"
   ]
  },
  {
   "cell_type": "code",
   "execution_count": 285,
   "metadata": {},
   "outputs": [],
   "source": [
    "s_2 = hs.signals.Signal2D(data, lazy=True)"
   ]
  },
  {
   "cell_type": "code",
   "execution_count": 287,
   "metadata": {},
   "outputs": [
    {
     "data": {
      "text/plain": [
       "array([[[3, 6, 5, ..., 8, 4, 6],\n",
       "        [8, 9, 7, ..., 3, 5, 8],\n",
       "        [8, 9, 1, ..., 2, 4, 4],\n",
       "        ...,\n",
       "        [4, 2, 7, ..., 3, 5, 4],\n",
       "        [8, 3, 4, ..., 8, 9, 5],\n",
       "        [4, 5, 6, ..., 6, 5, 3]]], dtype=uint32)"
      ]
     },
     "execution_count": 287,
     "metadata": {},
     "output_type": "execute_result"
    }
   ],
   "source": [
    "s_2."
   ]
  },
  {
   "cell_type": "code",
   "execution_count": 280,
   "metadata": {},
   "outputs": [],
   "source": [
    "data = s.data"
   ]
  },
  {
   "cell_type": "code",
   "execution_count": 281,
   "metadata": {},
   "outputs": [
    {
     "data": {
      "text/plain": [
       "array([[[ True,  True,  True, ...,  True,  True,  True],\n",
       "        [ True,  True,  True, ...,  True,  True,  True],\n",
       "        [ True,  True,  True, ...,  True,  True,  True],\n",
       "        ...,\n",
       "        [ True,  True,  True, ...,  True,  True,  True],\n",
       "        [ True,  True,  True, ...,  True,  True,  True],\n",
       "        [ True,  True,  True, ...,  True,  True,  True]]])"
      ]
     },
     "execution_count": 281,
     "metadata": {},
     "output_type": "execute_result"
    }
   ],
   "source": [
    "data.astype('bool')"
   ]
  },
  {
   "cell_type": "code",
   "execution_count": 277,
   "metadata": {},
   "outputs": [
    {
     "data": {
      "text/html": [
       "<style>\n",
       "table, th, td {\n",
       "\tborder: 1px solid black;\n",
       "\tborder-collapse: collapse;\n",
       "}\n",
       "th, td {\n",
       "\tpadding: 5px;\n",
       "}\n",
       "</style>\n",
       "<p><b>< Axes manager, axes: (1|256, 256) ></b></p>\n",
       "<table style='width:100%'>\n",
       "\n",
       "<tr> \n",
       "<th>Navigation axis name</th> \n",
       "<th>size</th> \n",
       "<th>index</th> \n",
       "<th>offset</th> \n",
       "<th>scale</th> \n",
       "<th>units</th> </tr>\n",
       "<tr> \n",
       "<td><undefined></td> \n",
       "<td>1</td> \n",
       "<td>0</td> \n",
       "<td>0.0</td> \n",
       "<td>1.0</td> \n",
       "<td><undefined></td> </tr></table>\n",
       "<table style='width:100%'>\n",
       "\n",
       "<tr> \n",
       "<th>Signal axis name</th> \n",
       "<th>size</th> \n",
       "<th>offset</th> \n",
       "<th>scale</th> \n",
       "<th>units</th> </tr>\n",
       "<tr> \n",
       "<td>kx</td> \n",
       "<td>256</td> \n",
       "<td>-1.801299496574588</td> \n",
       "<td>0.01407265231698897</td> \n",
       "<td>$A^{-1}$</td> </tr>\n",
       "<tr> \n",
       "<td>ky</td> \n",
       "<td>256</td> \n",
       "<td>-1.7309362349896433</td> \n",
       "<td>0.01407265231698897</td> \n",
       "<td>$A^{-1}$</td> </tr></table>\n"
      ],
      "text/plain": [
       "<Axes manager, axes: (1|256, 256)>\n",
       "            Name |   size |  index |  offset |   scale |  units \n",
       "================ | ====== | ====== | ======= | ======= | ====== \n",
       "     <undefined> |      1 |      0 |       0 |       1 | <undefined> \n",
       "---------------- | ------ | ------ | ------- | ------- | ------ \n",
       "              kx |    256 |        |    -1.8 |   0.014 | $A^{-1}$ \n",
       "              ky |    256 |        |    -1.7 |   0.014 | $A^{-1}$ "
      ]
     },
     "execution_count": 277,
     "metadata": {},
     "output_type": "execute_result"
    }
   ],
   "source": [
    "s.axes_manager.trait_set(axis_0={'name': 'test'})"
   ]
  },
  {
   "cell_type": "code",
   "execution_count": 270,
   "metadata": {},
   "outputs": [
    {
     "data": {
      "text/html": [
       "<style>\n",
       "table, th, td {\n",
       "\tborder: 1px solid black;\n",
       "\tborder-collapse: collapse;\n",
       "}\n",
       "th, td {\n",
       "\tpadding: 5px;\n",
       "}\n",
       "</style>\n",
       "<p><b>< Axes manager, axes: (1|256, 256) ></b></p>\n",
       "<table style='width:100%'>\n",
       "\n",
       "<tr> \n",
       "<th>Navigation axis name</th> \n",
       "<th>size</th> \n",
       "<th>index</th> \n",
       "<th>offset</th> \n",
       "<th>scale</th> \n",
       "<th>units</th> </tr>\n",
       "<tr> \n",
       "<td><undefined></td> \n",
       "<td>1</td> \n",
       "<td>0</td> \n",
       "<td>0.0</td> \n",
       "<td>1.0</td> \n",
       "<td><undefined></td> </tr></table>\n",
       "<table style='width:100%'>\n",
       "\n",
       "<tr> \n",
       "<th>Signal axis name</th> \n",
       "<th>size</th> \n",
       "<th>offset</th> \n",
       "<th>scale</th> \n",
       "<th>units</th> </tr>\n",
       "<tr> \n",
       "<td>kx</td> \n",
       "<td>256</td> \n",
       "<td>-1.801299496574588</td> \n",
       "<td>0.01407265231698897</td> \n",
       "<td>$A^{-1}$</td> </tr>\n",
       "<tr> \n",
       "<td>ky</td> \n",
       "<td>256</td> \n",
       "<td>-1.7309362349896433</td> \n",
       "<td>0.01407265231698897</td> \n",
       "<td>$A^{-1}$</td> </tr></table>\n"
      ],
      "text/plain": [
       "<Axes manager, axes: (1|256, 256)>\n",
       "            Name |   size |  index |  offset |   scale |  units \n",
       "================ | ====== | ====== | ======= | ======= | ====== \n",
       "     <undefined> |      1 |      0 |       0 |       1 | <undefined> \n",
       "---------------- | ------ | ------ | ------- | ------- | ------ \n",
       "              kx |    256 |        |    -1.8 |   0.014 | $A^{-1}$ \n",
       "              ky |    256 |        |    -1.7 |   0.014 | $A^{-1}$ "
      ]
     },
     "execution_count": 270,
     "metadata": {},
     "output_type": "execute_result"
    }
   ],
   "source": [
    "s.axes_manager.trait_set({'axis-0': {'name': 'test'}})"
   ]
  },
  {
   "cell_type": "code",
   "execution_count": 267,
   "metadata": {},
   "outputs": [
    {
     "data": {
      "text/html": [
       "<style>\n",
       "table, th, td {\n",
       "\tborder: 1px solid black;\n",
       "\tborder-collapse: collapse;\n",
       "}\n",
       "th, td {\n",
       "\tpadding: 5px;\n",
       "}\n",
       "</style>\n",
       "<p><b>< Axes manager, axes: (1|256, 256) ></b></p>\n",
       "<table style='width:100%'>\n",
       "\n",
       "<tr> \n",
       "<th>Navigation axis name</th> \n",
       "<th>size</th> \n",
       "<th>index</th> \n",
       "<th>offset</th> \n",
       "<th>scale</th> \n",
       "<th>units</th> </tr>\n",
       "<tr> \n",
       "<td><undefined></td> \n",
       "<td>1</td> \n",
       "<td>0</td> \n",
       "<td>0.0</td> \n",
       "<td>1.0</td> \n",
       "<td><undefined></td> </tr></table>\n",
       "<table style='width:100%'>\n",
       "\n",
       "<tr> \n",
       "<th>Signal axis name</th> \n",
       "<th>size</th> \n",
       "<th>offset</th> \n",
       "<th>scale</th> \n",
       "<th>units</th> </tr>\n",
       "<tr> \n",
       "<td>kx</td> \n",
       "<td>256</td> \n",
       "<td>-1.801299496574588</td> \n",
       "<td>0.01407265231698897</td> \n",
       "<td>$A^{-1}$</td> </tr>\n",
       "<tr> \n",
       "<td>ky</td> \n",
       "<td>256</td> \n",
       "<td>-1.7309362349896433</td> \n",
       "<td>0.01407265231698897</td> \n",
       "<td>$A^{-1}$</td> </tr></table>\n"
      ],
      "text/plain": [
       "<Axes manager, axes: (1|256, 256)>\n",
       "            Name |   size |  index |  offset |   scale |  units \n",
       "================ | ====== | ====== | ======= | ======= | ====== \n",
       "     <undefined> |      1 |      0 |       0 |       1 | <undefined> \n",
       "---------------- | ------ | ------ | ------- | ------- | ------ \n",
       "              kx |    256 |        |    -1.8 |   0.014 | $A^{-1}$ \n",
       "              ky |    256 |        |    -1.7 |   0.014 | $A^{-1}$ "
      ]
     },
     "execution_count": 267,
     "metadata": {},
     "output_type": "execute_result"
    }
   ],
   "source": [
    "s.axes_manager"
   ]
  },
  {
   "cell_type": "code",
   "execution_count": 257,
   "metadata": {},
   "outputs": [],
   "source": [
    "s = signal.deepcopy()"
   ]
  },
  {
   "cell_type": "code",
   "execution_count": 262,
   "metadata": {},
   "outputs": [],
   "source": [
    "s "
   ]
  },
  {
   "cell_type": "code",
   "execution_count": 264,
   "metadata": {},
   "outputs": [
    {
     "data": {
      "text/plain": [
       "array([[[3, 6, 5, ..., 8, 4, 6],\n",
       "        [8, 9, 7, ..., 3, 5, 8],\n",
       "        [8, 9, 1, ..., 2, 4, 4],\n",
       "        ...,\n",
       "        [4, 2, 7, ..., 3, 5, 4],\n",
       "        [8, 3, 4, ..., 8, 9, 5],\n",
       "        [4, 5, 6, ..., 6, 5, 3]]], dtype=uint32)"
      ]
     },
     "execution_count": 264,
     "metadata": {},
     "output_type": "execute_result"
    }
   ],
   "source": []
  },
  {
   "cell_type": "code",
   "execution_count": 258,
   "metadata": {},
   "outputs": [],
   "source": [
    "data_array = s.data"
   ]
  },
  {
   "cell_type": "code",
   "execution_count": 259,
   "metadata": {},
   "outputs": [
    {
     "data": {
      "text/plain": [
       "array([[3, 6, 5, ..., 8, 4, 6],\n",
       "       [8, 9, 7, ..., 3, 5, 8],\n",
       "       [8, 9, 1, ..., 2, 4, 4],\n",
       "       ...,\n",
       "       [4, 2, 7, ..., 3, 5, 4],\n",
       "       [8, 3, 4, ..., 8, 9, 5],\n",
       "       [4, 5, 6, ..., 6, 5, 3]], dtype=uint32)"
      ]
     },
     "execution_count": 259,
     "metadata": {},
     "output_type": "execute_result"
    }
   ],
   "source": [
    "data_array.reshape(256, 256)"
   ]
  },
  {
   "cell_type": "code",
   "execution_count": 255,
   "metadata": {},
   "outputs": [
    {
     "data": {
      "text/plain": [
       "{'axis-0': {'name': <undefined>,\n",
       "  'scale': 1.0,\n",
       "  'offset': 0.0,\n",
       "  'size': 1,\n",
       "  'units': <undefined>,\n",
       "  'navigate': True},\n",
       " 'axis-1': {'name': 'ky',\n",
       "  'scale': 0.01407265231698897,\n",
       "  'offset': -1.7309362349896433,\n",
       "  'size': 256,\n",
       "  'units': '$A^{-1}$',\n",
       "  'navigate': False},\n",
       " 'axis-2': {'name': 'kx',\n",
       "  'scale': 0.01407265231698897,\n",
       "  'offset': -1.801299496574588,\n",
       "  'size': 256,\n",
       "  'units': '$A^{-1}$',\n",
       "  'navigate': False}}"
      ]
     },
     "execution_count": 255,
     "metadata": {},
     "output_type": "execute_result"
    }
   ],
   "source": [
    "signal.axes_manager.as_dictionary()"
   ]
  },
  {
   "cell_type": "code",
   "execution_count": 253,
   "metadata": {},
   "outputs": [
    {
     "data": {
      "text/plain": [
       "3"
      ]
     },
     "execution_count": 253,
     "metadata": {},
     "output_type": "execute_result"
    }
   ],
   "source": [
    "len(signal.axes_manager.shape)"
   ]
  },
  {
   "cell_type": "code",
   "execution_count": 254,
   "metadata": {},
   "outputs": [
    {
     "data": {
      "text/html": [
       "<style>\n",
       "table, th, td {\n",
       "\tborder: 1px solid black;\n",
       "\tborder-collapse: collapse;\n",
       "}\n",
       "th, td {\n",
       "\tpadding: 5px;\n",
       "}\n",
       "</style>\n",
       "<p><b>< Axes manager, axes: (1|256, 256) ></b></p>\n",
       "<table style='width:100%'>\n",
       "\n",
       "<tr> \n",
       "<th>Navigation axis name</th> \n",
       "<th>size</th> \n",
       "<th>index</th> \n",
       "<th>offset</th> \n",
       "<th>scale</th> \n",
       "<th>units</th> </tr>\n",
       "<tr> \n",
       "<td><undefined></td> \n",
       "<td>1</td> \n",
       "<td>0</td> \n",
       "<td>0.0</td> \n",
       "<td>1.0</td> \n",
       "<td><undefined></td> </tr></table>\n",
       "<table style='width:100%'>\n",
       "\n",
       "<tr> \n",
       "<th>Signal axis name</th> \n",
       "<th>size</th> \n",
       "<th>offset</th> \n",
       "<th>scale</th> \n",
       "<th>units</th> </tr>\n",
       "<tr> \n",
       "<td>kx</td> \n",
       "<td>256</td> \n",
       "<td>-1.801299496574588</td> \n",
       "<td>0.01407265231698897</td> \n",
       "<td>$A^{-1}$</td> </tr>\n",
       "<tr> \n",
       "<td>ky</td> \n",
       "<td>256</td> \n",
       "<td>-1.7309362349896433</td> \n",
       "<td>0.01407265231698897</td> \n",
       "<td>$A^{-1}$</td> </tr></table>\n"
      ],
      "text/plain": [
       "<Axes manager, axes: (1|256, 256)>\n",
       "            Name |   size |  index |  offset |   scale |  units \n",
       "================ | ====== | ====== | ======= | ======= | ====== \n",
       "     <undefined> |      1 |      0 |       0 |       1 | <undefined> \n",
       "---------------- | ------ | ------ | ------- | ------- | ------ \n",
       "              kx |    256 |        |    -1.8 |   0.014 | $A^{-1}$ \n",
       "              ky |    256 |        |    -1.7 |   0.014 | $A^{-1}$ "
      ]
     },
     "execution_count": 254,
     "metadata": {},
     "output_type": "execute_result"
    }
   ],
   "source": [
    "signal.axes_manager"
   ]
  },
  {
   "cell_type": "code",
   "execution_count": 245,
   "metadata": {},
   "outputs": [],
   "source": [
    "a = {'test_1/Å': 2}"
   ]
  },
  {
   "cell_type": "code",
   "execution_count": 246,
   "metadata": {},
   "outputs": [
    {
     "data": {
      "text/plain": [
       "{'test_1/Å': 2}"
      ]
     },
     "execution_count": 246,
     "metadata": {},
     "output_type": "execute_result"
    }
   ],
   "source": [
    "a"
   ]
  },
  {
   "cell_type": "code",
   "execution_count": 247,
   "metadata": {},
   "outputs": [
    {
     "data": {
      "text/plain": [
       "True"
      ]
     },
     "execution_count": 247,
     "metadata": {},
     "output_type": "execute_result"
    }
   ],
   "source": [
    "2 != np.nan"
   ]
  },
  {
   "cell_type": "code",
   "execution_count": 248,
   "metadata": {},
   "outputs": [
    {
     "name": "stderr",
     "output_type": "stream",
     "text": [
      "<>:1: SyntaxWarning: \"is\" with a literal. Did you mean \"==\"?\n",
      "<>:1: SyntaxWarning: \"is\" with a literal. Did you mean \"==\"?\n",
      "<ipython-input-248-7f9587bafb1a>:1: SyntaxWarning: \"is\" with a literal. Did you mean \"==\"?\n",
      "  2 is np.nan\n"
     ]
    },
    {
     "data": {
      "text/plain": [
       "False"
      ]
     },
     "execution_count": 248,
     "metadata": {},
     "output_type": "execute_result"
    }
   ],
   "source": [
    "2 is np.nan"
   ]
  },
  {
   "cell_type": "code",
   "execution_count": null,
   "metadata": {},
   "outputs": [],
   "source": []
  },
  {
   "cell_type": "code",
   "execution_count": 244,
   "metadata": {},
   "outputs": [
    {
     "data": {
      "text/plain": [
       "├── Acquisition_instrument\n",
       "│   └── TEM\n",
       "│       ├── acceleration_voltage = 200000.0\n",
       "│       ├── alpha = Alpha 5\n",
       "│       ├── calibrations\n",
       "│       │   ├── Actual_camera_length = 15.583701666071962\n",
       "│       │   ├── Angular_scale = 0.00035293283443524337\n",
       "│       │   └── Scale = 0.01407265231698897\n",
       "│       ├── cameralength = 0.08\n",
       "│       ├── mode = NBD\n",
       "│       └── spot = 1\n",
       "├── General\n",
       "│   └── title = \n",
       "├── Session\n",
       "│   ├── Date = <built-in method today of type object at 0x00007FF91B74B530>\n",
       "│   ├── Operator = Emil Christiansen\n",
       "│   └── Specimen = GaAs/GaAsSb\n",
       "└── Signal\n",
       "    ├── binned = False\n",
       "    └── signal_type = electron_diffraction"
      ]
     },
     "execution_count": 244,
     "metadata": {},
     "output_type": "execute_result"
    }
   ],
   "source": [
    "signal.metadata"
   ]
  },
  {
   "cell_type": "code",
   "execution_count": 217,
   "metadata": {},
   "outputs": [
    {
     "data": {
      "text/plain": [
       "├── Acquisition_instrument\n",
       "│   └── TEM\n",
       "│       ├── acceleration_voltage = 200\n",
       "│       ├── alpha = Alpha 5\n",
       "│       ├── magnification = 10000.0\n",
       "│       ├── mode = NBD\n",
       "│       └── spot = 1.0\n",
       "├── General\n",
       "│   └── title = \n",
       "├── Session\n",
       "│   ├── Date = <built-in method today of type object at 0x00007FFFADF9B530>\n",
       "│   ├── Operator = Emil Christiansen\n",
       "│   └── Specimen = GaAs/GaAsSb\n",
       "└── Signal\n",
       "    ├── binned = False\n",
       "    ├── exposure_time = None\n",
       "    ├── flyback_times = None\n",
       "    ├── frames_number_skipped = None\n",
       "    ├── scan_X = None\n",
       "    └── signal_type = TEM"
      ]
     },
     "execution_count": 217,
     "metadata": {},
     "output_type": "execute_result"
    }
   ],
   "source": [
    "signal.metadata"
   ]
  },
  {
   "cell_type": "code",
   "execution_count": 218,
   "metadata": {},
   "outputs": [
    {
     "name": "stdout",
     "output_type": "stream",
     "text": [
      "Magnification: 18483\n",
      "Scale: 2.98 nm/px\n",
      "Detector size: 761.78 nm\n"
     ]
    }
   ],
   "source": [
    "scale = signal.axes_manager['x'].scale\n",
    "unit = signal.axes_manager['x'].units\n",
    "size = 256*scale\n",
    "pixel_size = 55E-6 #pixel size\n",
    "physical_detector_size = 256*pixel_size*1E9 #nm \n",
    "magnification = physical_detector_size / size\n",
    "print('Magnification: {mag:.0f}\\nScale: {scale:.2f} {unit}/px\\nDetector size: {size:.2f} {unit}'.format(mag=magnification, scale=scale, unit=unit, size=size))"
   ]
  },
  {
   "cell_type": "code",
   "execution_count": 145,
   "metadata": {},
   "outputs": [
    {
     "data": {
      "text/plain": [
       "0.35293283443524337"
      ]
     },
     "execution_count": 145,
     "metadata": {},
     "output_type": "execute_result"
    }
   ],
   "source": [
    "angular_scale*1000"
   ]
  },
  {
   "cell_type": "code",
   "execution_count": 205,
   "metadata": {},
   "outputs": [],
   "source": [
    "nominal_cl = [8, 10, 12, 15, 20, 25]\n",
    "actual_cl = [16.584, 19.077, 22.314, 27.301, 35.468, 43.847]\n",
    "fig = plt.figure()\n",
    "ax = fig.add_subplot(111)\n",
    "ax.plot(nominal_cl, actual_cl, '--x')\n",
    "ax.set_xlabel('Nominal camera length (cm)')\n",
    "ax.set_ylabel('Actual camera length (cm)')\n",
    "ax.set_title('Merlin camera lengths at 200 kV')\n",
    "for ncl, acl in zip(nominal_cl, actual_cl):\n",
    "    ax.annotate('{:.2f}'.format(acl), xy=(ncl, acl))\n",
    "#ax.set_xlim(7, 26)"
   ]
  },
  {
   "cell_type": "code",
   "execution_count": 233,
   "metadata": {},
   "outputs": [],
   "source": [
    "nominal_mag = [8E3, 10E3, 12E3, 15E3, 20E3, 25E3, 30E3, 40E3]\n",
    "actual_mag = [14918, 18483, 21624, 26827, 35247, 43131, 53735, 69635]\n",
    "fig = plt.figure()\n",
    "ax = fig.add_subplot(111)\n",
    "ax.plot(nominal_mag, actual_mag, '--x')\n",
    "ax.set_xlabel('Nominal magnification')\n",
    "ax.set_ylabel('Actual magnification')\n",
    "ax.set_title('Merlin magnifications in Mag1 at 200 kV')\n",
    "for nmag, amag in zip(nominal_mag, actual_mag):\n",
    "    ax.annotate('{:.0f}'.format(amag), xy=(nmag, amag))\n",
    "#ax.set_xlim(7, 26)"
   ]
  },
  {
   "cell_type": "code",
   "execution_count": null,
   "metadata": {},
   "outputs": [],
   "source": []
  }
 ],
 "metadata": {
  "kernelspec": {
   "display_name": "Python [conda env:mib2hspyV2]",
   "language": "python",
   "name": "conda-env-mib2hspyV2-py"
  },
  "language_info": {
   "codemirror_mode": {
    "name": "ipython",
    "version": 3
   },
   "file_extension": ".py",
   "mimetype": "text/x-python",
   "name": "python",
   "nbconvert_exporter": "python",
   "pygments_lexer": "ipython3",
   "version": "3.8.6"
  }
 },
 "nbformat": 4,
 "nbformat_minor": 4
}
